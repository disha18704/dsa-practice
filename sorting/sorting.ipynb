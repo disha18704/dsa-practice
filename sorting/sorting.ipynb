{
 "cells": [
  {
   "cell_type": "markdown",
   "metadata": {},
   "source": [
    "Asymptotic notations are mathematical tools used to describe the behavior of algorithms as the input size (\n",
    "n\n",
    "n) grows large. They help analyze and compare the efficiency of algorithms in terms of time or space complexity without focusing on machine-specific details. Below are the commonly used asymptotic notations:\n",
    "\n",
    "Big O describes the upper bound of an algorithm's running time. It represents the worst-case scenario, ensuring that the algorithm will not take more time than this."
   ]
  },
  {
   "cell_type": "code",
   "execution_count": 8,
   "metadata": {},
   "outputs": [
    {
     "name": "stdout",
     "output_type": "stream",
     "text": [
      "Before selection sort:\n",
      "13 46 24 52 20 9\n",
      "After selection sort:\n",
      "9 13 20 24 46 52\n"
     ]
    }
   ],
   "source": [
    "def selection_sort(arr):\n",
    "\n",
    "    n = len(arr)\n",
    "\n",
    "    for i in range (n-1):\n",
    "        mini = i\n",
    "        for j in range (i+1,n):\n",
    "            if arr[j] < arr[mini]:\n",
    "                mini = j\n",
    "\n",
    "        arr[mini], arr[i] = arr[i], arr[mini]\n",
    "\n",
    "\n",
    "    print(\"After selection sort:\")\n",
    "    print(\" \".join(map(str, arr)))\n",
    "\n",
    "if __name__ == \"__main__\":\n",
    "    arr = [13, 46, 24, 52, 20, 9]\n",
    "    print(\"Before selection sort:\")\n",
    "    print(\" \".join(map(str, arr)))\n",
    "    selection_sort(arr)\n"
   ]
  },
  {
   "cell_type": "code",
   "execution_count": 3,
   "metadata": {},
   "outputs": [
    {
     "name": "stdout",
     "output_type": "stream",
     "text": [
      "Before Using Bubble Sort:\n",
      "13 46 24 52 20 9\n",
      "After Using Bubble Sort:\n",
      "9 13 20 24 46 52\n"
     ]
    }
   ],
   "source": [
    "def bubble_sort(arr):\n",
    "    n = len(arr)\n",
    "\n",
    "    for i in range(n-1,0,-1):\n",
    "        for j in range (i):\n",
    "            if arr[j] > arr[j+1]:\n",
    "                arr[j],arr[j+1]=arr[j+1],arr[j]\n",
    "    print(\"After Using Bubble Sort:\")\n",
    "    print(\" \".join(map(str, arr)))\n",
    "\n",
    "if __name__ == \"__main__\":\n",
    "    arr = [13, 46, 24, 52, 20, 9]\n",
    "    print(\"Before Using Bubble Sort:\")\n",
    "    print(\" \".join(map(str, arr)))\n",
    "    bubble_sort(arr)\n",
    "\n"
   ]
  },
  {
   "cell_type": "code",
   "execution_count": 9,
   "metadata": {},
   "outputs": [
    {
     "name": "stdout",
     "output_type": "stream",
     "text": [
      "Before Using Insertion Sort:\n",
      "13 46 24 52 20 9\n",
      "0\n",
      "1\n",
      "2\n",
      "1\n",
      "3\n",
      "4\n",
      "3\n",
      "2\n",
      "1\n",
      "5\n",
      "4\n",
      "3\n",
      "2\n",
      "1\n",
      "0\n",
      "After Using Insertion Sort:\n",
      "9 13 20 24 46 52\n"
     ]
    }
   ],
   "source": [
    "def insertion_sort(arr):\n",
    "    n= len(arr)\n",
    "\n",
    "    for i in range (n):\n",
    "        j =i\n",
    "        print(j)\n",
    "\n",
    "        while j > 0 and arr[j-1] > arr[j]:\n",
    "            arr[j-1],arr[j] = arr[j], arr[j-1]\n",
    "\n",
    "            j -=1\n",
    "            print(j)\n",
    "    print(\"After Using Insertion Sort:\")\n",
    "    print(\" \".join(map(str, arr)))\n",
    "\n",
    "\n",
    "if __name__ == \"__main__\":\n",
    "    arr = [13, 46, 24, 52, 20, 9]\n",
    "    print(\"Before Using Insertion Sort:\")\n",
    "    print(\" \".join(map(str, arr)))\n",
    "    insertion_sort(arr)\n"
   ]
  },
  {
   "cell_type": "markdown",
   "metadata": {},
   "source": [
    "Divide:\n",
    "\n",
    "The array is recursively divided into two halves until each subarray has one element.\n",
    "Dividing an array takes \n",
    "O\n",
    "(\n",
    "1\n",
    ")\n",
    "O(1), but the process is done recursively \n",
    "log\n",
    "⁡\n",
    "2\n",
    "(\n",
    "n\n",
    ")\n",
    "log \n",
    "2\n",
    "​\n",
    " (n) times (as the array size is halved each time).\n",
    "Conquer (Merge):\n",
    "\n",
    "After dividing, the subarrays are merged back in a sorted manner.\n",
    "Merging two sorted halves takes \n",
    "O\n",
    "(\n",
    "n\n",
    ")\n",
    "O(n), where \n",
    "n\n",
    "n is the number of elements in the current portion of the array."
   ]
  },
  {
   "cell_type": "markdown",
   "metadata": {},
   "source": [
    "Breaking Down the Time Complexity\n",
    "Let \n",
    "T\n",
    "(\n",
    "n\n",
    ")\n",
    "T(n) represent the time complexity of sorting an array of size \n",
    "n\n",
    "n. The recursive nature of merge sort can be expressed as:\n",
    "\n",
    "T\n",
    "(\n",
    "n\n",
    ")\n",
    "=\n",
    "2\n",
    "T\n",
    "(\n",
    "n\n",
    "2\n",
    ")\n",
    "+\n",
    "O\n",
    "(\n",
    "n\n",
    ")\n",
    "T(n)=2T( \n",
    "2\n",
    "n\n",
    "​\n",
    " )+O(n)\n",
    "2\n",
    "T\n",
    "(\n",
    "n\n",
    "/\n",
    "2\n",
    ")\n",
    "2T(n/2): Solving two subproblems of size \n",
    "n\n",
    "/\n",
    "2\n",
    "n/2.\n",
    "O\n",
    "(\n",
    "n\n",
    ")\n",
    "O(n): Time taken to merge two halves of size \n",
    "n\n",
    "/\n",
    "2\n",
    "n/2.\n"
   ]
  },
  {
   "cell_type": "markdown",
   "metadata": {},
   "source": [
    "Space complexity\n",
    "\n",
    "O(logn) (recursion stack)+O(n) (temporary arrays)=O(n)\n"
   ]
  },
  {
   "cell_type": "code",
   "execution_count": 3,
   "metadata": {},
   "outputs": [
    {
     "name": "stdout",
     "output_type": "stream",
     "text": [
      "Before Sorting Array:\n",
      "[9, 4, 7, 6, 3, 1, 5]\n",
      "After Sorting Array:\n",
      "[1, 3, 4, 5, 6, 7, 9]\n"
     ]
    }
   ],
   "source": [
    "def merge(arr,low,mid,high):\n",
    "    temp = []\n",
    "    left = low\n",
    "    right = mid + 1\n",
    "    #the while ensures the correct order\n",
    "    while left <= mid and right <= high:\n",
    "        if arr[left] <= arr[right]:\n",
    "            temp.append(arr[left])\n",
    "            left += 1\n",
    "        else:\n",
    "            temp.append(arr[right])\n",
    "            right += 1\n",
    "\n",
    "    while left <= mid:\n",
    "        temp.append(arr[left])\n",
    "        left += 1\n",
    "\n",
    "    while right <= high:\n",
    "        temp.append(arr[right])\n",
    "        right += 1\n",
    "\n",
    "    for i in range(len(temp)):\n",
    "        arr[low+i] = temp[i]\n",
    "        # print(f\"arr[{low + i}] = {arr[low + i]}\")\n",
    "\n",
    "\n",
    "def merge_sort(arr,low,high):\n",
    "    # this condition is the base case it ensures you that the problem is recursive.\n",
    "    if low >= high:\n",
    "        return \n",
    "    \n",
    "    mid = (low+high) // 2\n",
    "    merge_sort(arr,low,mid)\n",
    "    merge_sort(arr, mid+1,high)\n",
    "    merge(arr,low,mid,high)\n",
    "\n",
    "if __name__ == \"__main__\":\n",
    "    arr = [9, 4, 7, 6, 3, 1, 5]\n",
    "    n = len(arr)\n",
    "\n",
    "    print(\"Before Sorting Array:\")\n",
    "    print(arr)\n",
    "\n",
    "    merge_sort(arr, 0, n - 1)\n",
    "\n",
    "    print(\"After Sorting Array:\")\n",
    "    print(arr)"
   ]
  },
  {
   "cell_type": "markdown",
   "metadata": {},
   "source": [
    "pivot can be selected anywhere in the array in this case we are taking pivot as 1st element in the array "
   ]
  },
  {
   "cell_type": "code",
   "execution_count": 5,
   "metadata": {},
   "outputs": [
    {
     "name": "stdout",
     "output_type": "stream",
     "text": [
      "Before Using Quick Sort:\n",
      "[4, 6, 2, 5, 7, 9, 1, 3]\n",
      "After Using Quick Sort:\n",
      "[1, 2, 3, 4, 5, 6, 7, 9]\n"
     ]
    }
   ],
   "source": [
    "def partition(arr,low,high):\n",
    "    pivot = arr[low]\n",
    "    i = low\n",
    "    j = high\n",
    "\n",
    "    while i < j:\n",
    "        while i <= high -1 and arr[i] <= pivot:  #this second condition checks checks whether the element is lesser than pivot if it is, it gets adde to the ledt side, if not it get's terminated.\n",
    "            #  -1 here avoids out of the bounds i.e it should select first greater element in comparison\n",
    "            i += 1\n",
    "\n",
    "            # vice versa of i happens with j\n",
    "        while j >= low + 1 and arr[j]  > pivot:\n",
    "            j -= 1\n",
    "\n",
    "        if i < j:\n",
    "            arr[i], arr[j] = arr[j], arr[i]\n",
    "\n",
    "\n",
    "    #the arr[j] checks the elements smaller than the pivot, so by swapping it with arr[low] it ensures that pivot is now at it's correct position.\n",
    "    arr[low],arr[j]=arr[j],arr[low]\n",
    "    # by j we are returning new position of pivot\n",
    "    return j\n",
    "\n",
    "\n",
    "def quick_sort_recursive(arr,low,high):\n",
    "    if low < high:\n",
    "        pIndex = partition(arr,low,high)\n",
    "        quick_sort_recursive(arr,low,pIndex-1)\n",
    "        quick_sort_recursive(arr,pIndex+1,high)\n",
    "\n",
    "def quick_sort(arr):\n",
    "    quick_sort_recursive(arr,0,len(arr)-1)\n",
    "    return arr\n",
    "\n",
    "if __name__ == \"__main__\":\n",
    "    arr = [4, 6, 2, 5, 7, 9, 1, 3]\n",
    "    print(\"Before Using Quick Sort:\")\n",
    "    print(arr)\n",
    "\n",
    "    sorted_arr = quick_sort(arr)\n",
    "    print(\"After Using Quick Sort:\")\n",
    "    print(sorted_arr)\n",
    "\n"
   ]
  },
  {
   "cell_type": "code",
   "execution_count": 7,
   "metadata": {},
   "outputs": [
    {
     "name": "stdout",
     "output_type": "stream",
     "text": [
      "Before Using Bubble Sort:\n",
      "13 46 24 52 20 9\n",
      "After Using Bubble Sort:\n",
      "9 13 20 24 46 52\n"
     ]
    }
   ],
   "source": [
    "def recursive_bubble_sort(arr,n):\n",
    "    if n == 1:\n",
    "        return\n",
    "    \n",
    "    for i in range(n-1):\n",
    "        if arr[i] > arr[i+1]:\n",
    "            arr[i], arr[i+1] = arr[i+1], arr[i]\n",
    "\n",
    "    recursive_bubble_sort(arr,n-1)\n",
    "\n",
    "if __name__ == \"__main__\":\n",
    "    arr = [13, 46, 24, 52, 20, 9]\n",
    "    n = len(arr)\n",
    "    print(\"Before Using Bubble Sort:\")\n",
    "    print(\" \".join(map(str, arr)))\n",
    "\n",
    "    recursive_bubble_sort(arr, n)\n",
    "\n",
    "    print(\"After Using Bubble Sort:\")\n",
    "    print(\" \".join(map(str, arr)))\n",
    "        "
   ]
  },
  {
   "cell_type": "code",
   "execution_count": 14,
   "metadata": {},
   "outputs": [
    {
     "name": "stdout",
     "output_type": "stream",
     "text": [
      "Before Using Insertion Sort:\n",
      "13 46 24 52 20 9\n",
      "After Using Insertion Sort:\n",
      "9 13 20 24 46 52\n"
     ]
    }
   ],
   "source": [
    "def recursive_insertion_sort(arr,i,n):\n",
    "    if i == n:\n",
    "        return\n",
    "    \n",
    "    j = i \n",
    "\n",
    "    while j >0 and arr[j-1] > arr[j]:\n",
    "        arr[j-1], arr[j] = arr[j], arr[j-1]\n",
    "        j -= 1\n",
    "\n",
    "    recursive_insertion_sort(arr,i+1,n)\n",
    "\n",
    "\n",
    "if __name__ == \"__main__\":\n",
    "    arr = [13, 46, 24, 52, 20, 9]\n",
    "    n = len(arr)\n",
    "\n",
    "    print(\"Before Using Insertion Sort:\")\n",
    "    print(\" \".join(map(str, arr)))\n",
    "\n",
    "    recursive_insertion_sort(arr, 0, n)\n",
    "\n",
    "    print(\"After Using Insertion Sort:\")\n",
    "    print(\" \".join(map(str, arr)))"
   ]
  }
 ],
 "metadata": {
  "kernelspec": {
   "display_name": "Python 3",
   "language": "python",
   "name": "python3"
  },
  "language_info": {
   "codemirror_mode": {
    "name": "ipython",
    "version": 3
   },
   "file_extension": ".py",
   "mimetype": "text/x-python",
   "name": "python",
   "nbconvert_exporter": "python",
   "pygments_lexer": "ipython3",
   "version": "3.9.6"
  }
 },
 "nbformat": 4,
 "nbformat_minor": 2
}
