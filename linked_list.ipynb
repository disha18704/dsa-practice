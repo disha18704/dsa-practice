{
 "cells": [
  {
   "cell_type": "code",
   "execution_count": 3,
   "metadata": {},
   "outputs": [
    {
     "name": "stdout",
     "output_type": "stream",
     "text": [
      "2\n"
     ]
    }
   ],
   "source": [
    "class Node:\n",
    "    def __init__(self,data1, next1=None):\n",
    "        self.data = data1\n",
    "        self.next = next1\n",
    "\n",
    "y = Node(2)\n",
    "\n",
    "print(y.data)"
   ]
  },
  {
   "cell_type": "code",
   "execution_count": 8,
   "metadata": {},
   "outputs": [
    {
     "name": "stdout",
     "output_type": "stream",
     "text": [
      "<__main__.Node object at 0x0000013B42FE5ED0>\n",
      "<__main__.Node object at 0x0000013B42FE5ED0>\n"
     ]
    }
   ],
   "source": [
    "class Node:\n",
    "    def __init__(self,data1, next1= None):\n",
    "        self.data = data1\n",
    "        self.next = next1\n",
    "\n",
    "x = Node(2)\n",
    "\n",
    "y = x\n",
    "\n",
    "print(x)\n",
    "print(y)\n",
    "\n",
    "\n",
    "# as you can see memory address of both y and x are same \n",
    "# as y is creating a reference and pointing towards x."
   ]
  },
  {
   "cell_type": "markdown",
   "metadata": {},
   "source": [
    "Problem Statement:  Given a linked list and an integer value val, insert a new node with that value at the beginning (before the head) of the list and return the updated linked list."
   ]
  },
  {
   "cell_type": "code",
   "execution_count": 9,
   "metadata": {},
   "outputs": [
    {
     "name": "stdout",
     "output_type": "stream",
     "text": [
      "100 12 8 5 7 "
     ]
    }
   ],
   "source": [
    "class Node:\n",
    "\n",
    "    def __init__(self, data1, next1= None):\n",
    "\n",
    "        self.data = data1\n",
    "        self.next = next1\n",
    "\n",
    "\n",
    "def printLL(head):\n",
    "    while head is not None:\n",
    "        print(head.data, end = \" \")\n",
    "        head = head.next\n",
    "\n",
    "\n",
    "\n",
    "def insertHead (head, val):\n",
    "    temp = Node(val,head)\n",
    "    return temp\n",
    "\n",
    "\n",
    "if __name__ == \"__main__\":\n",
    "\n",
    "    arr = [12,8,5,7]\n",
    "\n",
    "    val = 100\n",
    "\n",
    "\n",
    "    head = Node(arr[0])\n",
    "\n",
    "    head.next = Node(arr[1])\n",
    "\n",
    "    head.next.next = Node(arr[2])\n",
    "\n",
    "    head.next.next.next = Node(arr[3])\n",
    "\n",
    "\n",
    "    head = insertHead(head, val)\n",
    "\n",
    "    printLL(head)"
   ]
  },
  {
   "cell_type": "markdown",
   "metadata": {},
   "source": [
    "Traversal in Linked List"
   ]
  },
  {
   "cell_type": "code",
   "execution_count": 12,
   "metadata": {},
   "outputs": [
    {
     "name": "stdout",
     "output_type": "stream",
     "text": [
      "10->20->30->None\n"
     ]
    }
   ],
   "source": [
    "class Node:\n",
    "\n",
    "    def __init__(self,data):\n",
    "        self.data = data\n",
    "        self.next = None \n",
    "\n",
    "def traverse_list(head):\n",
    "\n",
    "    current = head\n",
    "\n",
    "    while current:\n",
    "        print(current.data, end = \"->\")\n",
    "\n",
    "        current = current.next\n",
    "\n",
    "    print(\"None\")\n",
    "\n",
    "node1 = Node(10)\n",
    "node2 = Node(20)\n",
    "node3 = Node(30)\n",
    "\n",
    "\n",
    "node1.next = node2\n",
    "node2.next = node3\n",
    "\n",
    "traverse_list(node1)\n",
    "\n"
   ]
  },
  {
   "cell_type": "code",
   "execution_count": 13,
   "metadata": {},
   "outputs": [
    {
     "name": "stdout",
     "output_type": "stream",
     "text": [
      "10 -> 20 -> 30 -> None\n"
     ]
    }
   ],
   "source": [
    "# Node class definition\n",
    "class Node:\n",
    "    def __init__(self, data):\n",
    "        self.data = data  # Store the data\n",
    "        self.next = None  # Pointer to the next node (initially None)\n",
    "\n",
    "# Function to traverse and print the linked list\n",
    "def traverse_list(head):\n",
    "    current = head  # Start from the head node\n",
    "    while current:  # Traverse until current is None (end of the list)\n",
    "        print(current.data, end=\" -> \")\n",
    "        current = current.next  # Move to the next node\n",
    "    print(\"None\")  # Indicate the end of the list\n",
    "\n",
    "# Create nodes\n",
    "node1 = Node(10)\n",
    "node2 = Node(20)\n",
    "node3 = Node(30)\n",
    "\n",
    "# Link the nodes together to form a list: node1 -> node2 -> node3\n",
    "node1.next = node2\n",
    "node2.next = node3\n",
    "\n",
    "# Call the function to traverse and print the list\n",
    "traverse_list(node1)\n"
   ]
  },
  {
   "cell_type": "markdown",
   "metadata": {},
   "source": [
    "Find the length of the linked list"
   ]
  },
  {
   "cell_type": "code",
   "execution_count": 16,
   "metadata": {},
   "outputs": [
    {
     "name": "stdout",
     "output_type": "stream",
     "text": [
      "4\n"
     ]
    }
   ],
   "source": [
    "class Node:\n",
    "    def __init__(self, data, next_node = None):\n",
    "\n",
    "        self.data = data\n",
    "        self.next = next_node\n",
    "\n",
    "\n",
    "def length_of_the_LL(head):\n",
    "        count = 0\n",
    "\n",
    "        temp = head\n",
    "\n",
    "        while temp is not None:\n",
    "            temp = temp.next\n",
    "            count +=1\n",
    "\n",
    "        return count\n",
    "    \n",
    "def main():\n",
    "    arr = [2, 5, 8, 7]\n",
    "    # Create a linked list\n",
    "    head = Node(arr[0])\n",
    "    head.next = Node(arr[1])\n",
    "    head.next.next = Node(arr[2])\n",
    "    head.next.next.next = Node(arr[3])\n",
    "\n",
    "    print(length_of_the_LL(head))\n",
    "\n",
    "main()\n"
   ]
  },
  {
   "cell_type": "markdown",
   "metadata": {},
   "source": [
    "Deleting the head of the Linked List"
   ]
  },
  {
   "cell_type": "code",
   "execution_count": 18,
   "metadata": {},
   "outputs": [
    {
     "name": "stdout",
     "output_type": "stream",
     "text": [
      "2->5->8->7->None\n",
      "5->8->7->None\n"
     ]
    }
   ],
   "source": [
    "class Node:\n",
    "\n",
    "    def __init__ (self, data, next_node=None):\n",
    "\n",
    "        self.data = data\n",
    "        self.next = next_node\n",
    "\n",
    "\n",
    "def delete_head(head):\n",
    "    if head is None:\n",
    "        return None\n",
    "    \n",
    "    else:\n",
    "        new_head = head.next\n",
    "\n",
    "        return new_head\n",
    "    \n",
    "\n",
    "def traverse_list(head):\n",
    "\n",
    "    current = head\n",
    "    while current:\n",
    "        print(current.data, end = \"->\")\n",
    "\n",
    "        current = current.next\n",
    "\n",
    "    print(\"None\")\n",
    "\n",
    "\n",
    "def main():\n",
    "    arr = [2,5,8,7]\n",
    "\n",
    "    head = Node(arr[0])\n",
    "    head.next = Node(arr[1])\n",
    "    head.next.next = Node(arr[2])\n",
    "    head.next.next.next = Node(arr[3])\n",
    "\n",
    "    traverse_list(head)\n",
    "\n",
    "    head = delete_head(head)\n",
    "\n",
    "    traverse_list(head)\n",
    "\n",
    "main()"
   ]
  },
  {
   "cell_type": "markdown",
   "metadata": {},
   "source": [
    "Deletin the tail of Linked List"
   ]
  },
  {
   "cell_type": "code",
   "execution_count": 22,
   "metadata": {},
   "outputs": [
    {
     "name": "stdout",
     "output_type": "stream",
     "text": [
      "2->5->8->7->None\n",
      "None\n"
     ]
    }
   ],
   "source": [
    "class Node:\n",
    "\n",
    "    def __init__(self, data, next_node = None):\n",
    "\n",
    "        self.data = data\n",
    "        self.next = next_node\n",
    "\n",
    "def delete_tail(head):\n",
    "    \n",
    "    if head == None  or head.next == None:\n",
    "\n",
    "        temp = head\n",
    "\n",
    "        while temp.next.next != None:\n",
    "            temp = temp.next\n",
    "            if temp.next.next == None:\n",
    "                return head\n",
    "\n",
    "def traverse_list(head):\n",
    "\n",
    "    current = head\n",
    "    while current:\n",
    "        print(current.data, end = \"->\")\n",
    "\n",
    "        current = current.next\n",
    "\n",
    "    print(\"None\")\n",
    "\n",
    "def main():\n",
    "    arr = [2,5,8,7]\n",
    "\n",
    "    head = Node(arr[0])\n",
    "    head.next = Node(arr[1])\n",
    "    head.next.next = Node(arr[2])\n",
    "    head.next.next.next = Node(arr[3])\n",
    "\n",
    "\n",
    "\n",
    "\n",
    "    traverse_list(head)\n",
    "\n",
    "    head = delete_tail(head)\n",
    "\n",
    "    traverse_list(head)\n",
    "\n",
    "main()\n"
   ]
  },
  {
   "cell_type": "code",
   "execution_count": null,
   "metadata": {},
   "outputs": [],
   "source": []
  }
 ],
 "metadata": {
  "kernelspec": {
   "display_name": "Python 3",
   "language": "python",
   "name": "python3"
  },
  "language_info": {
   "codemirror_mode": {
    "name": "ipython",
    "version": 3
   },
   "file_extension": ".py",
   "mimetype": "text/x-python",
   "name": "python",
   "nbconvert_exporter": "python",
   "pygments_lexer": "ipython3",
   "version": "3.11.9"
  }
 },
 "nbformat": 4,
 "nbformat_minor": 2
}
