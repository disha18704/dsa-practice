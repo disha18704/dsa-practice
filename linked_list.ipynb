{
 "cells": [
  {
   "cell_type": "code",
   "execution_count": 3,
   "metadata": {},
   "outputs": [
    {
     "name": "stdout",
     "output_type": "stream",
     "text": [
      "2\n"
     ]
    }
   ],
   "source": [
    "class Node:\n",
    "    def __init__(self,data1, next1=None):\n",
    "        self.data = data1\n",
    "        self.next = next1\n",
    "\n",
    "y = Node(2)\n",
    "\n",
    "print(y.data)"
   ]
  },
  {
   "cell_type": "markdown",
   "metadata": {},
   "source": [
    "Concept of pointer "
   ]
  },
  {
   "cell_type": "code",
   "execution_count": 8,
   "metadata": {},
   "outputs": [
    {
     "name": "stdout",
     "output_type": "stream",
     "text": [
      "<__main__.Node object at 0x0000013B42FE5ED0>\n",
      "<__main__.Node object at 0x0000013B42FE5ED0>\n"
     ]
    }
   ],
   "source": [
    "class Node:\n",
    "    def __init__(self,data1, next1= None):\n",
    "        self.data = data1\n",
    "        self.next = next1\n",
    "\n",
    "x = Node(2)\n",
    "\n",
    "y = x\n",
    "\n",
    "print(x)\n",
    "print(y)\n",
    "\n",
    "\n",
    "# as you can see memory address of both y and x are same \n",
    "# as y is creating a reference and pointing towards x."
   ]
  },
  {
   "cell_type": "markdown",
   "metadata": {},
   "source": [
    "Problem Statement:  Given a linked list and an integer value val, insert a new node with that value at the beginning (before the head) of the list and return the updated linked list."
   ]
  },
  {
   "cell_type": "code",
   "execution_count": 9,
   "metadata": {},
   "outputs": [
    {
     "name": "stdout",
     "output_type": "stream",
     "text": [
      "100 12 8 5 7 "
     ]
    }
   ],
   "source": [
    "class Node:\n",
    "\n",
    "    def __init__(self, data1, next1= None):\n",
    "\n",
    "        self.data = data1\n",
    "        self.next = next1\n",
    "\n",
    "\n",
    "def printLL(head):\n",
    "    while head is not None:\n",
    "        print(head.data, end = \" \")\n",
    "        head = head.next\n",
    "\n",
    "\n",
    "\n",
    "def insertHead (head, val):\n",
    "    temp = Node(val,head)\n",
    "    return temp\n",
    "\n",
    "\n",
    "if __name__ == \"__main__\":\n",
    "\n",
    "    arr = [12,8,5,7]\n",
    "\n",
    "    val = 100\n",
    "\n",
    "\n",
    "    head = Node(arr[0])\n",
    "\n",
    "    head.next = Node(arr[1])\n",
    "\n",
    "    head.next.next = Node(arr[2])\n",
    "\n",
    "    head.next.next.next = Node(arr[3])\n",
    "\n",
    "\n",
    "    head = insertHead(head, val)\n",
    "\n",
    "    printLL(head)"
   ]
  },
  {
   "cell_type": "code",
   "execution_count": 38,
   "metadata": {},
   "outputs": [
    {
     "name": "stdout",
     "output_type": "stream",
     "text": [
      "26 12 3 4 5 "
     ]
    }
   ],
   "source": [
    "class Node:\n",
    "\n",
    "    def __init__ (self, data1, next1 = None):\n",
    "\n",
    "        self.data = data1\n",
    "        self.next = next1\n",
    "\n",
    "    def printLL (head):\n",
    "        while head is not None:\n",
    "            print(head.data, end = \" \")\n",
    "\n",
    "            head = head.next\n",
    "\n",
    "    def insertHead(head,val):\n",
    "        temp = Node(val,head)\n",
    "        return temp\n",
    "    \n",
    "if __name__ == '__main__':\n",
    "\n",
    "    arr = [12,3,4,5]\n",
    "\n",
    "    val = 26\n",
    "\n",
    "    head = Node(arr[0])\n",
    "\n",
    "    head.next = Node(arr[1])\n",
    "\n",
    "    head.next.next = Node(arr[2])\n",
    "\n",
    "    head.next.next.next = Node(arr[3])\n",
    "\n",
    "    head = insertHead(head,val)\n",
    "\n",
    "    printLL(head)\n",
    "\n"
   ]
  },
  {
   "cell_type": "code",
   "execution_count": 41,
   "metadata": {},
   "outputs": [
    {
     "name": "stdout",
     "output_type": "stream",
     "text": [
      "26 12 3 4 5 "
     ]
    }
   ],
   "source": [
    "class Node:\n",
    "\n",
    "    def __init__(self,data1, next1= None):\n",
    "        self.data = data1\n",
    "        self.next = next1\n",
    "\n",
    "    def printLL(head):\n",
    "        while head is not Node:\n",
    "            print(head, end= ' ')\n",
    "            head = head.next\n",
    "\n",
    "    def insertHead(head,val):\n",
    "\n",
    "        temp = Node(val,head)\n",
    "\n",
    "        return temp\n",
    "    \n",
    "\n",
    "if __name__ == '__main__':\n",
    "\n",
    "    arr = [12,3,4,5]\n",
    "\n",
    "    val = 26\n",
    "\n",
    "    head = Node(arr[0])\n",
    "    current = head\n",
    "    for i in arr[1:]:\n",
    "        current.next = Node(i)\n",
    "        current = current.next\n",
    "\n",
    "    head = Node.insertHead(head,val)\n",
    "\n",
    "    printLL(head)\n",
    "\n"
   ]
  },
  {
   "cell_type": "code",
   "execution_count": 39,
   "metadata": {},
   "outputs": [
    {
     "name": "stdout",
     "output_type": "stream",
     "text": [
      "26 12 3 4 5 \n"
     ]
    }
   ],
   "source": [
    "class Node:\n",
    "    def __init__(self, data1, next1=None):\n",
    "        self.data = data1\n",
    "        self.next = next1\n",
    "\n",
    "    @staticmethod\n",
    "    def printLL(head):\n",
    "        while head is not None:\n",
    "            print(head.data, end=\" \")\n",
    "            head = head.next\n",
    "        print()  # For a newline after printing\n",
    "\n",
    "    @staticmethod\n",
    "    def insertHead(head, val):\n",
    "        temp = Node(val, head)\n",
    "        return temp\n",
    "\n",
    "if __name__ == '__main__':\n",
    "    # Initial array of values\n",
    "    arr = [12, 3, 4, 5]\n",
    "    \n",
    "    # Value to insert at the head\n",
    "    val = 26\n",
    "    \n",
    "    # Create the linked list from the array\n",
    "    head = Node(arr[0])  # Create the head node\n",
    "    current = head\n",
    "    for value in arr[1:]:  # Create the rest of the nodes\n",
    "        current.next = Node(value)\n",
    "        current = current.next\n",
    "    \n",
    "    # Insert new value at the head\n",
    "    head = Node.insertHead(head, val)\n",
    "    \n",
    "    # Print the linked list\n",
    "    Node.printLL(head)\n"
   ]
  },
  {
   "cell_type": "markdown",
   "metadata": {},
   "source": [
    "Traversal in Linked List"
   ]
  },
  {
   "cell_type": "code",
   "execution_count": 12,
   "metadata": {},
   "outputs": [
    {
     "name": "stdout",
     "output_type": "stream",
     "text": [
      "10->20->30->None\n"
     ]
    }
   ],
   "source": [
    "class Node:\n",
    "\n",
    "    def __init__(self,data):\n",
    "        self.data = data\n",
    "        self.next = None \n",
    "\n",
    "def traverse_list(head):\n",
    "\n",
    "    current = head\n",
    "\n",
    "    while current:\n",
    "        print(current.data, end = \"->\")\n",
    "\n",
    "        current = current.next\n",
    "\n",
    "    print(\"None\")\n",
    "\n",
    "node1 = Node(10)\n",
    "node2 = Node(20)\n",
    "node3 = Node(30)\n",
    "\n",
    "\n",
    "node1.next = node2\n",
    "node2.next = node3\n",
    "\n",
    "traverse_list(node1)\n",
    "\n"
   ]
  },
  {
   "cell_type": "code",
   "execution_count": 45,
   "metadata": {},
   "outputs": [
    {
     "name": "stdout",
     "output_type": "stream",
     "text": [
      "10 [10, 20, 30, 40, 50] [10, 20, 30, 40, 50] [10, 20, 30, 40, 50] [10, 20, 30, 40, 50] ['10', '[10, 20, 30, 40, 50]', '[10, 20, 30, 40, 50]', '[10, 20, 30, 40, 50]', '[10, 20, 30, 40, 50]']\n"
     ]
    }
   ],
   "source": [
    "class Node:\n",
    "\n",
    "    def __init__(self,data1,next1 = None):\n",
    "        self.data = data1\n",
    "        self.next = next1\n",
    "\n",
    "    def __str__(self):\n",
    "        return str(self.data)\n",
    "\n",
    "def traverse_list(head):\n",
    "\n",
    "    current = head\n",
    "    result = []\n",
    "\n",
    "    while current:\n",
    "        result.append(str(current))\n",
    "        print(current.data,end=\" \")\n",
    "\n",
    "        current = current.next\n",
    "    return result\n",
    "    \n",
    "\n",
    "def create_linked_list(arr):\n",
    "\n",
    "        if not arr:\n",
    "            return None\n",
    "        \n",
    "        head = Node(arr[0])\n",
    "\n",
    "        current = head \n",
    "\n",
    "        for i in arr[1:]:\n",
    "            current.next = Node(arr)\n",
    "\n",
    "            current = current.next\n",
    "        return head\n",
    "\n",
    "arr = [10,20,30,40,50]\n",
    "\n",
    "\n",
    "head = create_linked_list(arr)\n",
    "\n",
    "print(traverse_list(head))\n",
    "    \n",
    "\n",
    "        \n",
    "\n",
    "\n",
    "        \n"
   ]
  },
  {
   "cell_type": "code",
   "execution_count": 47,
   "metadata": {},
   "outputs": [
    {
     "ename": "TypeError",
     "evalue": "sequence item 0: expected str instance, Node found",
     "output_type": "error",
     "traceback": [
      "\u001b[1;31m---------------------------------------------------------------------------\u001b[0m",
      "\u001b[1;31mTypeError\u001b[0m                                 Traceback (most recent call last)",
      "Cell \u001b[1;32mIn[47], line 31\u001b[0m\n\u001b[0;32m     28\u001b[0m head \u001b[38;5;241m=\u001b[39m create_linked_list(values)\n\u001b[0;32m     30\u001b[0m \u001b[38;5;66;03m# Traverse the list\u001b[39;00m\n\u001b[1;32m---> 31\u001b[0m \u001b[38;5;28mprint\u001b[39m(\u001b[43mtraverse_list\u001b[49m\u001b[43m(\u001b[49m\u001b[43mhead\u001b[49m\u001b[43m)\u001b[49m)\n",
      "Cell \u001b[1;32mIn[47], line 14\u001b[0m, in \u001b[0;36mtraverse_list\u001b[1;34m(head)\u001b[0m\n\u001b[0;32m     12\u001b[0m     result\u001b[38;5;241m.\u001b[39mappend(current)\n\u001b[0;32m     13\u001b[0m     current \u001b[38;5;241m=\u001b[39m current\u001b[38;5;241m.\u001b[39mnext\n\u001b[1;32m---> 14\u001b[0m \u001b[38;5;28;01mreturn\u001b[39;00m \u001b[38;5;124;43m\"\u001b[39;49m\u001b[38;5;124;43m -> \u001b[39;49m\u001b[38;5;124;43m\"\u001b[39;49m\u001b[38;5;241;43m.\u001b[39;49m\u001b[43mjoin\u001b[49m\u001b[43m(\u001b[49m\u001b[43mresult\u001b[49m\u001b[43m)\u001b[49m \u001b[38;5;241m+\u001b[39m \u001b[38;5;124m\"\u001b[39m\u001b[38;5;124m -> None\u001b[39m\u001b[38;5;124m\"\u001b[39m\n",
      "\u001b[1;31mTypeError\u001b[0m: sequence item 0: expected str instance, Node found"
     ]
    }
   ],
   "source": [
    "class Node:\n",
    "    def __init__(self, data):\n",
    "        self.data = data\n",
    "        self.next = None\n",
    "\n",
    "   \n",
    "\n",
    "def traverse_list(head):\n",
    "    current = head\n",
    "    result = []\n",
    "    while current:\n",
    "        result.append(current)\n",
    "        current = current.next\n",
    "    return \" -> \".join(result) + \" -> None\"\n",
    "\n",
    "def create_linked_list(values):\n",
    "    if not values:\n",
    "        return None\n",
    "    head = Node(values[0])\n",
    "    current = head\n",
    "    for value in values[1:]:\n",
    "        current.next = Node(value)\n",
    "        current = current.next\n",
    "    return head\n",
    "\n",
    "# Create a linked list from a list of values\n",
    "values = [10, 20, 30, 40, 50]\n",
    "head = create_linked_list(values)\n",
    "\n",
    "# Traverse the list\n",
    "print(traverse_list(head))\n"
   ]
  },
  {
   "cell_type": "code",
   "execution_count": 13,
   "metadata": {},
   "outputs": [
    {
     "name": "stdout",
     "output_type": "stream",
     "text": [
      "10 -> 20 -> 30 -> None\n"
     ]
    }
   ],
   "source": [
    "# Node class definition\n",
    "class Node:\n",
    "    def __init__(self, data):\n",
    "        self.data = data  # Store the data\n",
    "        self.next = None  # Pointer to the next node (initially None)\n",
    "\n",
    "# Function to traverse and print the linked list\n",
    "def traverse_list(head):\n",
    "    current = head  # Start from the head node\n",
    "    while current:  # Traverse until current is None (end of the list)\n",
    "        print(current.data, end=\" -> \")\n",
    "        current = current.next  # Move to the next node\n",
    "    print(\"None\")  # Indicate the end of the list\n",
    "\n",
    "# Create nodes\n",
    "node1 = Node(10)\n",
    "node2 = Node(20)\n",
    "node3 = Node(30)\n",
    "\n",
    "# Link the nodes together to form a list: node1 -> node2 -> node3\n",
    "node1.next = node2\n",
    "node2.next = node3\n",
    "\n",
    "# Call the function to traverse and print the list\n",
    "traverse_list(node1)\n"
   ]
  },
  {
   "cell_type": "markdown",
   "metadata": {},
   "source": [
    "Find the length of the linked list"
   ]
  },
  {
   "cell_type": "code",
   "execution_count": 16,
   "metadata": {},
   "outputs": [
    {
     "name": "stdout",
     "output_type": "stream",
     "text": [
      "4\n"
     ]
    }
   ],
   "source": [
    "class Node:\n",
    "    def __init__(self, data, next_node = None):\n",
    "\n",
    "        self.data = data\n",
    "        self.next = next_node\n",
    "\n",
    "\n",
    "def length_of_the_LL(head):\n",
    "        count = 0\n",
    "\n",
    "        temp = head\n",
    "\n",
    "        while temp is not None:\n",
    "            temp = temp.next\n",
    "            count +=1\n",
    "\n",
    "        return count\n",
    "    \n",
    "def main():\n",
    "    arr = [2, 5, 8, 7]\n",
    "    # Create a linked list\n",
    "    head = Node(arr[0])\n",
    "    head.next = Node(arr[1])\n",
    "    head.next.next = Node(arr[2])\n",
    "    head.next.next.next = Node(arr[3])\n",
    "\n",
    "    print(length_of_the_LL(head))\n",
    "\n",
    "main()\n"
   ]
  },
  {
   "cell_type": "markdown",
   "metadata": {},
   "source": [
    "Deleting the head of the Linked List"
   ]
  },
  {
   "cell_type": "code",
   "execution_count": 18,
   "metadata": {},
   "outputs": [
    {
     "name": "stdout",
     "output_type": "stream",
     "text": [
      "2->5->8->7->None\n",
      "5->8->7->None\n"
     ]
    }
   ],
   "source": [
    "class Node:\n",
    "\n",
    "    def __init__ (self, data, next_node=None):\n",
    "\n",
    "        self.data = data\n",
    "        self.next = next_node\n",
    "\n",
    "\n",
    "def delete_head(head):\n",
    "    if head is None:\n",
    "        return None\n",
    "    \n",
    "    else:\n",
    "        new_head = head.next\n",
    "\n",
    "        return new_head\n",
    "    \n",
    "\n",
    "def traverse_list(head):\n",
    "\n",
    "    current = head\n",
    "    while current:\n",
    "        print(current.data, end = \"->\")\n",
    "\n",
    "        current = current.next\n",
    "\n",
    "    print(\"None\")\n",
    "\n",
    "\n",
    "def main():\n",
    "    arr = [2,5,8,7]\n",
    "\n",
    "    head = Node(arr[0])\n",
    "    head.next = Node(arr[1])\n",
    "    head.next.next = Node(arr[2])\n",
    "    head.next.next.next = Node(arr[3])\n",
    "\n",
    "    traverse_list(head)\n",
    "\n",
    "    head = delete_head(head)\n",
    "\n",
    "    traverse_list(head)\n",
    "\n",
    "main()"
   ]
  },
  {
   "cell_type": "markdown",
   "metadata": {},
   "source": [
    "Deleting the tail of Linked List"
   ]
  },
  {
   "cell_type": "code",
   "execution_count": 24,
   "metadata": {},
   "outputs": [
    {
     "name": "stdout",
     "output_type": "stream",
     "text": [
      "2->5->8->7->None\n",
      "2->5->8->None\n"
     ]
    }
   ],
   "source": [
    "class Node:\n",
    "\n",
    "    def __init__(self, data, next_node = None):\n",
    "\n",
    "        self.data = data\n",
    "        self.next = next_node\n",
    "\n",
    "def delete_tail(head):\n",
    "    \n",
    "    if head == None  or head.next == None:\n",
    "\n",
    "        return None\n",
    "\n",
    "    temp = head\n",
    "\n",
    "    while temp.next.next != None:\n",
    "        temp = temp.next\n",
    "    temp.next = None\n",
    "    return head\n",
    "\n",
    "def traverse_list(head):\n",
    "\n",
    "    current = head\n",
    "    while current:\n",
    "        print(current.data, end = \"->\")\n",
    "\n",
    "        current = current.next\n",
    "\n",
    "    print(\"None\")\n",
    "\n",
    "def main():\n",
    "    arr = [2,5,8,7]\n",
    "\n",
    "    head = Node(arr[0])\n",
    "    head.next = Node(arr[1])\n",
    "    head.next.next = Node(arr[2])\n",
    "    head.next.next.next = Node(arr[3])\n",
    "\n",
    "\n",
    "\n",
    "\n",
    "    traverse_list(head)\n",
    "\n",
    "    head = delete_tail(head)\n",
    "\n",
    "    traverse_list(head)\n",
    "\n",
    "main()\n"
   ]
  },
  {
   "cell_type": "markdown",
   "metadata": {},
   "source": [
    "Delete the kth element of the LL (indexes)"
   ]
  },
  {
   "cell_type": "code",
   "execution_count": 31,
   "metadata": {},
   "outputs": [
    {
     "name": "stdout",
     "output_type": "stream",
     "text": [
      "Original list:\n",
      "2 -> 5 -> 8 -> 7 -> None\n",
      "\n",
      "List after deleting index 4:\n",
      "2 -> 5 -> 8 -> None\n"
     ]
    }
   ],
   "source": [
    "class Node:\n",
    "\n",
    "    def __init__(self, data, next_node = None):\n",
    "\n",
    "        self.data = data\n",
    "        self.next = next_node\n",
    "\n",
    "\n",
    "def delete_k_index(head,k):\n",
    "\n",
    "    if head == None:\n",
    "        return None\n",
    "    \n",
    "    if k == 1:\n",
    "        head = head.next\n",
    "        return head\n",
    "    \n",
    "    count = 1\n",
    "\n",
    "    temp = head \n",
    "    prev = None\n",
    "\n",
    "    while(temp != None):\n",
    "        \n",
    "\n",
    "        if count == k:\n",
    "            prev.next = temp.next\n",
    "\n",
    "            break\n",
    "        prev = temp\n",
    "\n",
    "        temp = temp.next\n",
    "\n",
    "        count += 1\n",
    "    return head\n",
    "\n",
    "def print_list(head):  # Helper function to print the list\n",
    "    temp = head\n",
    "    while temp is not None:\n",
    "        print(temp.data, end=\" -> \")\n",
    "        temp = temp.next\n",
    "    print(\"None\")\n",
    "\n",
    "def main():\n",
    "    arr = [2, 5, 8, 7]\n",
    "\n",
    "    # Creating linked list\n",
    "    head = Node(arr[0])\n",
    "    head.next = Node(arr[1])\n",
    "    head.next.next = Node(arr[2])\n",
    "    head.next.next.next = Node(arr[3])\n",
    "\n",
    "    print(\"Original list:\")\n",
    "    print_list(head)\n",
    "\n",
    "    k = 4# Example: delete node at index 2 (value 5)\n",
    "    head = delete_k_index(head, k)\n",
    "\n",
    "    print(f\"\\nList after deleting index {k}:\")\n",
    "    print_list(head)\n",
    "\n",
    "main()\n"
   ]
  },
  {
   "cell_type": "markdown",
   "metadata": {},
   "source": [
    "Delete a value in Linked List"
   ]
  },
  {
   "cell_type": "code",
   "execution_count": 37,
   "metadata": {},
   "outputs": [
    {
     "name": "stdout",
     "output_type": "stream",
     "text": [
      "Original list:\n",
      "2 -> 5 -> 8 -> 7 -> None\n",
      "\n",
      "List after deleting index 7:\n",
      "2 -> 5 -> 8 -> None\n"
     ]
    }
   ],
   "source": [
    "class Node:\n",
    "    def __init__(self, data, next_node=None):\n",
    "        self.data = data\n",
    "        self.next = next_node\n",
    "\n",
    "def remove_el(head, el):\n",
    "    if head is None:\n",
    "        return None\n",
    "    \n",
    "    if head.data == el:\n",
    "        \n",
    "        temp = head \n",
    "        head = head.next  # Special case for deleting the head node\n",
    "        return head\n",
    "    \n",
    "    \n",
    "    temp = head\n",
    "    prev = None\n",
    "\n",
    "    while temp is not None:\n",
    "        if temp.data == el:\n",
    "            prev.next = prev.next.next  # Delete the k-th node\n",
    "            break\n",
    "        prev = temp\n",
    "        temp = temp.next\n",
    "        # Increment the count only once per loop iteration\n",
    "    \n",
    "    return head\n",
    "\n",
    "def print_list(head):  # Helper function to print the list\n",
    "    temp = head\n",
    "    while temp is not None:\n",
    "        print(temp.data, end=\" -> \")\n",
    "        temp = temp.next\n",
    "    print(\"None\")\n",
    "\n",
    "def main():\n",
    "    arr = [2, 5, 8, 7]\n",
    "\n",
    "    # Creating linked list\n",
    "    head = Node(arr[0])\n",
    "    head.next = Node(arr[1])\n",
    "    head.next.next = Node(arr[2])\n",
    "    head.next.next.next = Node(arr[3])\n",
    "\n",
    "    print(\"Original list:\")\n",
    "    print_list(head)\n",
    "\n",
    "    el = 7 # Example: delete node at index 2 (value 5)\n",
    "    head = remove_el(head, el)\n",
    "\n",
    "    print(f\"\\nList after deleting index {el}:\")\n",
    "    print_list(head)\n",
    "\n",
    "main()\n"
   ]
  },
  {
   "cell_type": "code",
   "execution_count": null,
   "metadata": {},
   "outputs": [],
   "source": []
  }
 ],
 "metadata": {
  "kernelspec": {
   "display_name": "Python 3",
   "language": "python",
   "name": "python3"
  },
  "language_info": {
   "codemirror_mode": {
    "name": "ipython",
    "version": 3
   },
   "file_extension": ".py",
   "mimetype": "text/x-python",
   "name": "python",
   "nbconvert_exporter": "python",
   "pygments_lexer": "ipython3",
   "version": "3.11.9"
  }
 },
 "nbformat": 4,
 "nbformat_minor": 2
}
