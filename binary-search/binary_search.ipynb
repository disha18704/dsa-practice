{
 "cells": [
  {
   "cell_type": "markdown",
   "metadata": {},
   "source": [
    "\t\n",
    "Binary Search to find X in sorted array"
   ]
  },
  {
   "cell_type": "code",
   "execution_count": 1,
   "metadata": {},
   "outputs": [
    {
     "name": "stdout",
     "output_type": "stream",
     "text": [
      "4\n"
     ]
    }
   ],
   "source": [
    "#iterative approach\n",
    "def binarySearch(nums, target):\n",
    "\n",
    "    n = len(nums)\n",
    "    low = 0\n",
    "    high = n -1 \n",
    "\n",
    "    while low <= high:\n",
    "        mid = (low+high) // 2\n",
    "        if nums[mid] == target:\n",
    "            return mid \n",
    "        elif target > nums[mid]:\n",
    "            low = mid + 1\n",
    "        else:\n",
    "            high = mid -1\n",
    "\n",
    "    return -1\n",
    "\n",
    "nums = [2,3,4,5,6,7]\n",
    "target = 6\n",
    "ind = binarySearch(nums, target)\n",
    "print(ind)"
   ]
  },
  {
   "cell_type": "code",
   "execution_count": 12,
   "metadata": {},
   "outputs": [
    {
     "name": "stdout",
     "output_type": "stream",
     "text": [
      "1\n"
     ]
    }
   ],
   "source": [
    "def binarySearch(arr, target):\n",
    "    arr.sort()\n",
    "    n = len(arr)\n",
    "    low = 0\n",
    "    high = n-1 \n",
    "\n",
    "\n",
    "    while low <= high:\n",
    "        mid = (low+high)//2\n",
    "\n",
    "        if arr[mid] == target:\n",
    "            return mid\n",
    "        \n",
    "        elif arr[mid] < target:\n",
    "            low = mid +1\n",
    "        \n",
    "        else:\n",
    "\n",
    "            high = mid - 1\n",
    "\n",
    "    return -1 \n",
    "\n",
    "\n",
    "arr=[-1,0,34,56]\n",
    "target = 0\n",
    "find = binarySearch(arr,target)\n",
    "print(find)"
   ]
  },
  {
   "cell_type": "code",
   "execution_count": null,
   "metadata": {},
   "outputs": [
    {
     "name": "stdout",
     "output_type": "stream",
     "text": [
      "4\n"
     ]
    }
   ],
   "source": [
    "\n"
   ]
  },
  {
   "cell_type": "code",
   "execution_count": 2,
   "metadata": {},
   "outputs": [
    {
     "name": "stdout",
     "output_type": "stream",
     "text": [
      "The target is at index: 2\n"
     ]
    }
   ],
   "source": [
    "#recursive approach \n",
    "\n",
    "def binarySearch(nums, low , high, target):\n",
    "    if low > high:\n",
    "        return -1\n",
    "    \n",
    "    mid = (low + high) // 2\n",
    "\n",
    "    if nums[mid] == target:\n",
    "        return mid\n",
    "    elif target > nums[mid]:\n",
    "        return binarySearch(nums, mid + 1, high , target)\n",
    "    return binarySearch(nums, low, mid - 1, target)\n",
    "\n",
    "def search(nums, target):\n",
    "    return binarySearch(nums, 0, len(nums) - 1, target)\n",
    "\n",
    "if __name__ == \"__main__\":\n",
    "    a = [3, 4, 6, 7, 9, 12, 16, 17]\n",
    "    target = 6\n",
    "    ind = search(a, target)\n",
    "    if ind == -1:\n",
    "        print(\"The target is not present.\")\n",
    "    else:\n",
    "        print(\"The target is at index:\", ind) \n"
   ]
  },
  {
   "cell_type": "markdown",
   "metadata": {},
   "source": [
    "lower bound "
   ]
  },
  {
   "cell_type": "code",
   "execution_count": 4,
   "metadata": {},
   "outputs": [
    {
     "name": "stdout",
     "output_type": "stream",
     "text": [
      "5\n"
     ]
    }
   ],
   "source": [
    "def lowerbound(arr,target,n):\n",
    "    low = 0\n",
    "    high = n-1 \n",
    "    n = len(arr)\n",
    "    result = n\n",
    "\n",
    "\n",
    "    while (low <= high):\n",
    "        mid = (low+high)//2\n",
    "\n",
    "        if arr[mid] >= target:\n",
    "            result = mid \n",
    "            high = mid -1 \n",
    "\n",
    "\n",
    "        else:\n",
    "            low = mid + 1 \n",
    "\n",
    "    return result\n",
    "\n",
    "arr=[1,2,2,3,4,5,5,5,6,11]\n",
    "target = 5\n",
    "n = len(arr)\n",
    "find = lowerbound(arr,target,n)\n",
    "print(find)"
   ]
  },
  {
   "cell_type": "markdown",
   "metadata": {},
   "source": [
    "upper bound "
   ]
  },
  {
   "cell_type": "code",
   "execution_count": 5,
   "metadata": {},
   "outputs": [
    {
     "name": "stdout",
     "output_type": "stream",
     "text": [
      "8\n"
     ]
    }
   ],
   "source": [
    "def upperbound(arr,target,n):\n",
    "\n",
    "    low = 0 \n",
    "    high = n-1\n",
    "    result = n\n",
    "\n",
    "\n",
    "    while (low <= high):\n",
    "\n",
    "        mid = (low+high)//2\n",
    "\n",
    "        if arr[mid] > target:\n",
    "            result = mid \n",
    "            high = mid -1 \n",
    "\n",
    "\n",
    "        else:\n",
    "            low = mid + 1\n",
    "\n",
    "    return result\n",
    "\n",
    "\n",
    "arr=[1,2,2,3,4,5,5,5,6,11]\n",
    "target = 5\n",
    "n = len(arr)\n",
    "find = upperbound(arr,target,n)\n",
    "print(find)\n"
   ]
  },
  {
   "cell_type": "markdown",
   "metadata": {},
   "source": [
    "Floor and ceil in sorted array\n",
    "\n",
    "You're given an sorted array arr of n integers and an integer x. Find the floor and ceiling of x in arr[0..n-1].\n",
    "The floor of x is the largest element in the array which is smaller than or equal to x.\n",
    "The ceiling of x is the smallest element in the array greater than or equal to x.\n"
   ]
  },
  {
   "cell_type": "code",
   "execution_count": 2,
   "metadata": {},
   "outputs": [
    {
     "name": "stdout",
     "output_type": "stream",
     "text": [
      "The floor and ceil are: 4 7\n"
     ]
    }
   ],
   "source": [
    "def findfloor(arr,n,target):\n",
    "\n",
    "    low = 0\n",
    "    high = n-1 \n",
    "    result = -1 \n",
    "\n",
    "    while (low <= high):\n",
    "\n",
    "        mid = (low+high)//2\n",
    "\n",
    "        if (arr[mid] <= target):\n",
    "            result = arr[mid]\n",
    "            low = mid + 1\n",
    "\n",
    "\n",
    "        else:\n",
    "            high = mid - 1\n",
    "\n",
    "    return result\n",
    "\n",
    "\n",
    "def findCeil(arr,n,target):\n",
    "\n",
    "    low = 0\n",
    "    high = n-1 \n",
    "    result = -1 \n",
    "\n",
    "    while (low <= high):\n",
    "\n",
    "        mid = (low+high)//2\n",
    "\n",
    "        if (arr[mid] >= target):\n",
    "            result = arr[mid]\n",
    "            high = mid - 1\n",
    "\n",
    "\n",
    "        else:\n",
    "            low = mid + 1 \n",
    "\n",
    "    return result\n",
    "\n",
    "\n",
    "def floorandceil(arr,n,target):\n",
    "\n",
    "    f = findfloor(arr,n,target)\n",
    "    c = findCeil(arr,n,target)\n",
    "\n",
    "\n",
    "    return(f,c)\n",
    "\n",
    "\n",
    "\n",
    "arr = [3, 4, 4, 7, 8, 10]\n",
    "n = 6\n",
    "x = 5\n",
    "ans = floorandceil(arr, n, x)\n",
    "print(\"The floor and ceil are:\", ans[0], ans[1])\n",
    "\n",
    "\n"
   ]
  },
  {
   "cell_type": "markdown",
   "metadata": {},
   "source": [
    "First and last Occurence of target in the array "
   ]
  },
  {
   "cell_type": "code",
   "execution_count": null,
   "metadata": {},
   "outputs": [
    {
     "name": "stdout",
     "output_type": "stream",
     "text": [
      "4\n"
     ]
    }
   ],
   "source": [
    "# brute force \n",
    "\n",
    "\n",
    "\n",
    "#  this is last occurence (you can do for first occurence)\n",
    "\n",
    "def fandloccurence(arr,target,n):\n",
    "\n",
    "    res = -1 \n",
    "    for i in range (n-1, -1,-1):\n",
    "        if arr[i]== target:\n",
    "            res = i\n",
    "            break\n",
    "    return res\n",
    "    \n",
    "if __name__ == \"__main__\":\n",
    "    n = 7\n",
    "    target = 13\n",
    "    arr = [3, 4, 13, 13, 13, 20, 40]\n",
    "    \n",
    "\n",
    "    print(fandloccurence(arr,target,n))"
   ]
  },
  {
   "cell_type": "code",
   "execution_count": 6,
   "metadata": {},
   "outputs": [
    {
     "name": "stdout",
     "output_type": "stream",
     "text": [
      "1 2\n"
     ]
    }
   ],
   "source": [
    "def lowerbound(arr,target,n):\n",
    "    low = 0\n",
    "    high = n-1 \n",
    "    result = n\n",
    "\n",
    "\n",
    "    while (low <= high):\n",
    "        mid = (low+high)//2\n",
    "\n",
    "        if arr[mid] >= target:\n",
    "            result = mid \n",
    "            high = mid -1 \n",
    "\n",
    "\n",
    "        else:\n",
    "            low = mid + 1 \n",
    "\n",
    "    return result\n",
    "\n",
    "def upperbound(arr,target,n):\n",
    "\n",
    "    low = 0 \n",
    "    high = n-1\n",
    "    result = n\n",
    "\n",
    "\n",
    "    while (low <= high):\n",
    "\n",
    "        mid = (low+high)//2\n",
    "\n",
    "        if arr[mid] > target:\n",
    "            result = mid \n",
    "            high = mid -1 \n",
    "\n",
    "\n",
    "        else:\n",
    "            low = mid + 1\n",
    "\n",
    "    return result\n",
    "\n",
    "\n",
    "def firstandlastOccurence(arr,target,n):\n",
    "    lb = lowerbound(arr,target,n)\n",
    "    ub = upperbound(arr,target,n)-1\n",
    "\n",
    "    if lb == n or arr[lb] != target:\n",
    "\n",
    "\n",
    "        return(-1,-1)\n",
    "    \n",
    "    return(lb,ub)\n",
    "\n",
    "\n",
    "arr = [3, 4, 4, 7, 8, 10]\n",
    "n = 6\n",
    "target = 4\n",
    "ans = firstandlastOccurence(arr, target, n)\n",
    "print(ans[0], ans[1])\n",
    "    \n",
    "\n",
    "\n"
   ]
  },
  {
   "cell_type": "markdown",
   "metadata": {},
   "source": [
    "What if the interviewer tells you to find first and last occurence with simple binary search "
   ]
  },
  {
   "cell_type": "code",
   "execution_count": 7,
   "metadata": {},
   "outputs": [
    {
     "name": "stdout",
     "output_type": "stream",
     "text": [
      "5 5\n"
     ]
    }
   ],
   "source": [
    "def firstOccurence(arr,target,n):\n",
    "    low = 0\n",
    "    high = n-1 \n",
    "    first = -1\n",
    "\n",
    "    while (low <= high):\n",
    "        mid = (low+high)//2 \n",
    "\n",
    "        if (arr[mid] == target):\n",
    "\n",
    "            first = mid\n",
    "\n",
    "            high = mid -1 \n",
    "\n",
    "        elif (arr[mid] < target):\n",
    "            low = mid + 1\n",
    "\n",
    "\n",
    "        else:\n",
    "            high = mid -1 \n",
    "\n",
    "    return first\n",
    "\n",
    "\n",
    "def lastOccurence(arr,target,n):\n",
    "    low = 0\n",
    "    high = n -1 \n",
    "\n",
    "    last = -1 \n",
    "\n",
    "\n",
    "    while (low <= high):\n",
    "         mid = (low + high)//2\n",
    "\n",
    "         if (arr[mid]==target):\n",
    "             last = mid \n",
    "\n",
    "             low = mid + 1 \n",
    "\n",
    "         elif (arr[mid] > target):\n",
    "             \n",
    "             high = mid - 1\n",
    "\n",
    "         else:\n",
    "             low = mid + 1\n",
    "\n",
    "    return last\n",
    "\n",
    "def firstandlastpos(arr,target,n):\n",
    "\n",
    "    first = firstOccurence(arr,target,n)\n",
    "    if (first == -1):\n",
    "        return -1,-1\n",
    "    \n",
    "    last = lastOccurence(arr,target,n)\n",
    "    \n",
    "    return (first,last)\n",
    "        \n",
    "             \n",
    "\n",
    "arr = [3, 4, 4, 7, 8, 10]\n",
    "n = 6\n",
    "target = 10\n",
    "ans = firstandlastpos(arr, target, n)\n",
    "print(ans[0], ans[1])\n",
    "        \n",
    "\n"
   ]
  },
  {
   "cell_type": "markdown",
   "metadata": {},
   "source": [
    "count occurences in the array\n",
    "\n",
    "\n",
    "last - first + 1"
   ]
  },
  {
   "cell_type": "code",
   "execution_count": 10,
   "metadata": {},
   "outputs": [
    {
     "name": "stdout",
     "output_type": "stream",
     "text": [
      "2\n"
     ]
    }
   ],
   "source": [
    "def firstOccurence(arr,target,n):\n",
    "    low = 0\n",
    "    high = n-1 \n",
    "    first = -1\n",
    "\n",
    "    while (low <= high):\n",
    "        mid = (low+high)//2 \n",
    "\n",
    "        if (arr[mid] == target):\n",
    "\n",
    "            first = mid\n",
    "\n",
    "            high = mid -1 \n",
    "\n",
    "        elif (arr[mid] < target):\n",
    "            low = mid + 1\n",
    "\n",
    "\n",
    "        else:\n",
    "            high = mid -1 \n",
    "\n",
    "    return first\n",
    "\n",
    "\n",
    "def lastOccurence(arr,target,n):\n",
    "    low = 0\n",
    "    high = n -1 \n",
    "\n",
    "    last = -1 \n",
    "\n",
    "\n",
    "    while (low <= high):\n",
    "         mid = (low + high)//2\n",
    "\n",
    "         if (arr[mid]==target):\n",
    "             last = mid \n",
    "\n",
    "             low = mid + 1 \n",
    "\n",
    "         elif (arr[mid] > target):\n",
    "             \n",
    "             high = mid - 1\n",
    "\n",
    "         else:\n",
    "             low = mid + 1\n",
    "\n",
    "    return last\n",
    "\n",
    "def firstandlastpos(arr,target,n):\n",
    "\n",
    "    first = firstOccurence(arr,target,n)\n",
    "    if (first == -1):\n",
    "        return -1,-1\n",
    "    \n",
    "    last = lastOccurence(arr,target,n)\n",
    "    \n",
    "    return (first,last)\n",
    "\n",
    "def count(arr,target,n):\n",
    "    first,last = firstandlastpos(arr,target,n)\n",
    "    if first == -1:\n",
    "        return 0\n",
    "    return last - first + 1\n",
    "        \n",
    "             \n",
    "\n",
    "arr = [3, 4, 4, 7, 8, 10]\n",
    "n = 6\n",
    "target = 4\n",
    "ans = count(arr, target, n)\n",
    "print(ans)\n",
    "        \n",
    "\n"
   ]
  },
  {
   "cell_type": "markdown",
   "metadata": {},
   "source": [
    "Search element in rotated sorted array-I"
   ]
  },
  {
   "cell_type": "code",
   "execution_count": 4,
   "metadata": {},
   "outputs": [
    {
     "name": "stdout",
     "output_type": "stream",
     "text": [
      "The index is: 2\n"
     ]
    }
   ],
   "source": [
    "def search(arr,target,n):\n",
    "    low = 0\n",
    "    high = n-1\n",
    "\n",
    "    while (low <= high):\n",
    "        mid = (low+high)//2\n",
    "\n",
    "        if arr[mid] == target:\n",
    "            return mid \n",
    "        \n",
    "        if arr[low] <= arr[mid]:\n",
    "                if arr[low] <= target and target <= arr[mid]:\n",
    "                    high = mid -1 \n",
    "\n",
    "                else:\n",
    "                    low = mid + 1\n",
    "\n",
    "        else:\n",
    "             if arr[mid] <= target and  target <= arr[high]:\n",
    "                  low = mid + 1 \n",
    "\n",
    "             else:\n",
    "                  high = mid - 1\n",
    "\n",
    "    return -1\n",
    "\n",
    "if __name__ == \"__main__\":\n",
    "    arr = [7, 8, 9, 1, 2, 3, 4, 5, 6]\n",
    "    n = 9\n",
    "    target = 9\n",
    "    ans = search(arr,target,n)\n",
    "    if ans == -1:\n",
    "        print(\"Target is not present.\")\n",
    "    else:\n",
    "        print(\"The index is:\", ans)\n",
    "\n",
    "\n"
   ]
  },
  {
   "cell_type": "markdown",
   "metadata": {},
   "source": [
    "Search in a rotated sorted array with duplicates"
   ]
  },
  {
   "cell_type": "markdown",
   "metadata": {},
   "source": [
    "brute force is linear search"
   ]
  },
  {
   "cell_type": "code",
   "execution_count": 9,
   "metadata": {},
   "outputs": [
    {
     "name": "stdout",
     "output_type": "stream",
     "text": [
      "Target is present in the array.\n"
     ]
    }
   ],
   "source": [
    "def search_withdup(arr,target):\n",
    "    low = 0\n",
    "    high = n-1 \n",
    "\n",
    "    while (low <= high):\n",
    "        mid = (low+high)//2\n",
    "\n",
    "\n",
    "        if arr[mid] == target:\n",
    "            return True \n",
    "        \n",
    "        if arr[low] == arr[mid] and arr[mid] == arr[high]:\n",
    "            low += 1\n",
    "            high += 1\n",
    "\n",
    "            continue\n",
    "\n",
    "        if arr[low] <= arr[mid]:\n",
    "\n",
    "\n",
    "            if arr[low] <= target and target <= arr[mid]:\n",
    "                high = mid - 1\n",
    "\n",
    "            else:\n",
    "                low = mid + 1\n",
    "\n",
    "        else:\n",
    "\n",
    "            if arr[mid] <= target and target <= arr[high]:\n",
    "\n",
    "                low = mid + 1\n",
    "\n",
    "            else:\n",
    "                high = mid - 1\n",
    "\n",
    "    return -1\n",
    "\n",
    "if __name__ == \"__main__\":\n",
    "    arr = [7, 8, 1, 2, 3, 3, 3, 4, 5, 6]\n",
    "    target = 3\n",
    "    ans = search_withdup(arr, target)\n",
    "    if not ans:\n",
    "        print(\"Target is not present.\")\n",
    "    else:\n",
    "        print(\"Target is present in the array.\")\n",
    "\n",
    "\n",
    "\n",
    "         "
   ]
  },
  {
   "cell_type": "markdown",
   "metadata": {},
   "source": [
    "Minimum in the rotated sorted array"
   ]
  },
  {
   "cell_type": "code",
   "execution_count": 20,
   "metadata": {},
   "outputs": [
    {
     "name": "stdout",
     "output_type": "stream",
     "text": [
      "The minimum element is: 1\n"
     ]
    }
   ],
   "source": [
    "import sys\n",
    "\n",
    "def findMin(arr):\n",
    "    low = 0\n",
    "    high = len(arr)-1\n",
    "\n",
    "    ans = sys.maxsize\n",
    "\n",
    "\n",
    "\n",
    "    while(low <= high):\n",
    "        mid = (low+high)//2\n",
    "\n",
    "        if arr[low] <= arr[mid]:\n",
    "            ans = min(ans, arr[low])\n",
    "            low = mid + 1\n",
    "\n",
    "        else:\n",
    "\n",
    "            ans = min(ans, arr[mid])\n",
    "\n",
    "\n",
    "            high = mid - 1\n",
    "\n",
    "\n",
    "    return ans\n",
    "\n",
    "if __name__ == \"__main__\":\n",
    "    arr = [4, 5, 6, 7,1, 2, 3]\n",
    "    ans = findMin(arr)\n",
    "    print(\"The minimum element is:\", ans)"
   ]
  },
  {
   "cell_type": "code",
   "execution_count": 15,
   "metadata": {},
   "outputs": [
    {
     "name": "stdout",
     "output_type": "stream",
     "text": [
      "The minimum element is: 1\n"
     ]
    }
   ],
   "source": [
    "import sys\n",
    "\n",
    "\n",
    "def Minf(arr):\n",
    "\n",
    "    low = 0\n",
    "    high = len(arr) - 1 \n",
    "\n",
    "    ans = sys.maxsize\n",
    "\n",
    "\n",
    "    while (low <= high):\n",
    "\n",
    "        mid = (low + high)//2\n",
    "\n",
    "        if arr[low] <= arr[high]:\n",
    "            ans = min(ans, arr[low])\n",
    "            break\n",
    "\n",
    "        if arr[low] <= arr[mid]:\n",
    "            ans = min(ans,arr[low])\n",
    "            low = mid + 1\n",
    "\n",
    "\n",
    "        else:\n",
    "            ans = min(ans,arr[mid])\n",
    "            high = mid - 1\n",
    "\n",
    "    return ans\n",
    "\n",
    "\n",
    "if __name__ == \"__main__\":\n",
    "    arr = [4, 5, 6, 7, 1, 2, 3]\n",
    "    ans = Minf(arr)\n",
    "    print(\"The minimum element is:\", ans)\n",
    "\n"
   ]
  },
  {
   "cell_type": "markdown",
   "metadata": {},
   "source": [
    "Find out how many times the array has been rotated"
   ]
  },
  {
   "cell_type": "code",
   "execution_count": 2,
   "metadata": {},
   "outputs": [
    {
     "name": "stdout",
     "output_type": "stream",
     "text": [
      "The array is rotated 4 times.\n"
     ]
    }
   ],
   "source": [
    "def findkrotation(arr):\n",
    "\n",
    "    low = 0\n",
    "    high = len(arr) - 1\n",
    "    ans = float('inf')\n",
    "    index = -1 \n",
    "\n",
    "    while low <= high:\n",
    "        mid = (low + high)//2\n",
    "\n",
    "        if arr[low] <= arr[high]:\n",
    "            if arr[low] < ans:\n",
    "                index = low\n",
    "                ans = arr[low]\n",
    "            break\n",
    "\n",
    "        if arr[low] <= arr[mid]:\n",
    "\n",
    "            if arr[low] < ans:\n",
    "                index = low\n",
    "                ans = arr[low]\n",
    "\n",
    "            low = mid + 1\n",
    "\n",
    "        else:\n",
    "\n",
    "            if  arr[mid] < ans:\n",
    "                index = mid \n",
    "                ans = arr[mid]\n",
    "\n",
    "            high = mid - 1\n",
    "\n",
    "    return index\n",
    "\n",
    "\n",
    "\n",
    "if __name__ == \"__main__\":\n",
    "    arr = [4, 5, 6, 7, 0, 1, 2, 3]\n",
    "    ans = findkrotation(arr)\n",
    "    print(\"The array is rotated\", ans, \"times.\")\n",
    "\n"
   ]
  },
  {
   "cell_type": "markdown",
   "metadata": {},
   "source": [
    "\n",
    "Search Single Element in a sorted array"
   ]
  },
  {
   "cell_type": "code",
   "execution_count": 6,
   "metadata": {},
   "outputs": [
    {
     "name": "stdout",
     "output_type": "stream",
     "text": [
      "The single element is: -1\n"
     ]
    }
   ],
   "source": [
    "# brute force \n",
    "\n",
    "def single(arr):\n",
    "    n = len(arr)\n",
    "\n",
    "    if n == 1:\n",
    "        return arr[0]\n",
    "    \n",
    "    for i in range (n):\n",
    "\n",
    "        if i == 0:\n",
    "            if arr[i] != arr[i+1]:\n",
    "                return arr[i]\n",
    "            \n",
    "            elif i == n-1:\n",
    "                if arr[i] != arr[i-1]:\n",
    "                    return arr[i]\n",
    "                \n",
    "                else:\n",
    "                    if arr[i] != arr[i - 1] and arr[i] != arr[i+1]:\n",
    "                        return arr[i]\n",
    "                    \n",
    "    return -1\n",
    "\n",
    "arr = [1, 1, 2, 2, 3, 3, 4, 5, 5, 6, 6]\n",
    "ans = single(arr)\n",
    "print(\"The single element is:\", ans)"
   ]
  },
  {
   "cell_type": "code",
   "execution_count": null,
   "metadata": {},
   "outputs": [
    {
     "name": "stdout",
     "output_type": "stream",
     "text": [
      "The single element is: 1\n"
     ]
    }
   ],
   "source": [
    "def single(arr):\n",
    "    n = len(arr)\n",
    "\n",
    "    low = 1 \n",
    "    high = n - 2\n",
    "\n",
    "    # edge cases\n",
    "    if n == 1:\n",
    "        return arr[0]\n",
    "    \n",
    "    if arr[0] != arr[1]:\n",
    "        return arr[0]\n",
    "    \n",
    "    if arr[n-1] != arr[n-2]:\n",
    "        return arr[n-1]\n",
    "    \n",
    "\n",
    "    while low <= high:\n",
    "        mid = (low+high)//2\n",
    "\n",
    "        if arr[mid] != arr[mid + 1] and arr[mid] != arr[mid - 1]:\n",
    "            return arr[mid]\n",
    "        \n",
    "        if (mid % 2 == 1 and arr[mid] == arr[mid - 1] or mid % 2 == 0 and arr[mid] == arr[mid + 1]):\n",
    "            low = mid + 1\n",
    "\n",
    "        else:\n",
    "            high = mid - 1 \n",
    "\n",
    "    return -1 \n",
    "\n",
    "arr = [1, 2, 2, 3, 3, 4,4, 5, 5, 6, 6]\n",
    "ans = single(arr)\n",
    "print(\"The single element is:\", ans)\n",
    "\n"
   ]
  },
  {
   "cell_type": "markdown",
   "metadata": {},
   "source": [
    "Find peak element"
   ]
  },
  {
   "cell_type": "code",
   "execution_count": 7,
   "metadata": {},
   "outputs": [
    {
     "name": "stdout",
     "output_type": "stream",
     "text": [
      "The peak is at index: 7\n"
     ]
    }
   ],
   "source": [
    "def findpeakel(arr):\n",
    "\n",
    "    n = len(arr)\n",
    "\n",
    "    if n == 1:\n",
    "        return 0\n",
    "    \n",
    "    if arr[0] > arr[1]:\n",
    "        return 0\n",
    "    \n",
    "    if arr[n-1] > arr[n-2]:\n",
    "        return n-1\n",
    "    \n",
    "    low = 1\n",
    "    high = n-2\n",
    "\n",
    "    while low <= high:\n",
    "        mid = (low + high)//2 \n",
    "\n",
    "        if arr[mid -1] < arr[mid] and arr[mid] > arr[mid + 1]:\n",
    "            return mid\n",
    "        \n",
    "        if arr[mid] > arr[mid - 1]:\n",
    "            low = mid + 1\n",
    "\n",
    "        else:\n",
    "            high = mid - 1\n",
    "\n",
    "    return -1\n",
    "\n",
    "arr = [1, 2, 3, 4, 5, 6, 7, 8, 5, 1]\n",
    "ans = findpeakel(arr)\n",
    "print(\"The peak is at index:\", ans)"
   ]
  },
  {
   "cell_type": "code",
   "execution_count": null,
   "metadata": {},
   "outputs": [],
   "source": []
  }
 ],
 "metadata": {
  "kernelspec": {
   "display_name": "Python 3",
   "language": "python",
   "name": "python3"
  },
  "language_info": {
   "codemirror_mode": {
    "name": "ipython",
    "version": 3
   },
   "file_extension": ".py",
   "mimetype": "text/x-python",
   "name": "python",
   "nbconvert_exporter": "python",
   "pygments_lexer": "ipython3",
   "version": "3.9.6"
  }
 },
 "nbformat": 4,
 "nbformat_minor": 2
}
