{
 "cells": [
  {
   "cell_type": "markdown",
   "metadata": {},
   "source": [
    "\t\n",
    "Binary Search to find X in sorted array"
   ]
  },
  {
   "cell_type": "code",
   "execution_count": 1,
   "metadata": {},
   "outputs": [
    {
     "name": "stdout",
     "output_type": "stream",
     "text": [
      "4\n"
     ]
    }
   ],
   "source": [
    "#iterative approach\n",
    "def binarySearch(nums, target):\n",
    "\n",
    "    n = len(nums)\n",
    "    low = 0\n",
    "    high = n -1 \n",
    "\n",
    "    while low <= high:\n",
    "        mid = (low+high) // 2\n",
    "        if nums[mid] == target:\n",
    "            return mid \n",
    "        elif target > nums[mid]:\n",
    "            low = mid + 1\n",
    "        else:\n",
    "            high = mid -1\n",
    "\n",
    "    return -1\n",
    "\n",
    "nums = [2,3,4,5,6,7]\n",
    "target = 6\n",
    "ind = binarySearch(nums, target)\n",
    "print(ind)"
   ]
  },
  {
   "cell_type": "code",
   "execution_count": 12,
   "metadata": {},
   "outputs": [
    {
     "name": "stdout",
     "output_type": "stream",
     "text": [
      "1\n"
     ]
    }
   ],
   "source": [
    "def binarySearch(arr, target):\n",
    "    arr.sort()\n",
    "    n = len(arr)\n",
    "    low = 0\n",
    "    high = n-1 \n",
    "\n",
    "\n",
    "    while low <= high:\n",
    "        mid = (low+high)//2\n",
    "\n",
    "        if arr[mid] == target:\n",
    "            return mid\n",
    "        \n",
    "        elif arr[mid] < target:\n",
    "            low = mid +1\n",
    "        \n",
    "        else:\n",
    "\n",
    "            high = mid - 1\n",
    "\n",
    "    return -1 \n",
    "\n",
    "\n",
    "arr=[-1,0,34,56]\n",
    "target = 0\n",
    "find = binarySearch(arr,target)\n",
    "print(find)"
   ]
  },
  {
   "cell_type": "code",
   "execution_count": null,
   "metadata": {},
   "outputs": [
    {
     "name": "stdout",
     "output_type": "stream",
     "text": [
      "4\n"
     ]
    }
   ],
   "source": [
    "\n"
   ]
  },
  {
   "cell_type": "code",
   "execution_count": 2,
   "metadata": {},
   "outputs": [
    {
     "name": "stdout",
     "output_type": "stream",
     "text": [
      "The target is at index: 2\n"
     ]
    }
   ],
   "source": [
    "#recursive approach \n",
    "\n",
    "def binarySearch(nums, low , high, target):\n",
    "    if low > high:\n",
    "        return -1\n",
    "    \n",
    "    mid = (low + high) // 2\n",
    "\n",
    "    if nums[mid] == target:\n",
    "        return mid\n",
    "    elif target > nums[mid]:\n",
    "        return binarySearch(nums, mid + 1, high , target)\n",
    "    return binarySearch(nums, low, mid - 1, target)\n",
    "\n",
    "def search(nums, target):\n",
    "    return binarySearch(nums, 0, len(nums) - 1, target)\n",
    "\n",
    "if __name__ == \"__main__\":\n",
    "    a = [3, 4, 6, 7, 9, 12, 16, 17]\n",
    "    target = 6\n",
    "    ind = search(a, target)\n",
    "    if ind == -1:\n",
    "        print(\"The target is not present.\")\n",
    "    else:\n",
    "        print(\"The target is at index:\", ind) \n"
   ]
  },
  {
   "cell_type": "markdown",
   "metadata": {},
   "source": [
    "lower bound "
   ]
  },
  {
   "cell_type": "code",
   "execution_count": 4,
   "metadata": {},
   "outputs": [
    {
     "name": "stdout",
     "output_type": "stream",
     "text": [
      "5\n"
     ]
    }
   ],
   "source": [
    "def lowerbound(arr,target,n):\n",
    "    low = 0\n",
    "    high = n-1 \n",
    "    n = len(arr)\n",
    "    result = n\n",
    "\n",
    "\n",
    "    while (low <= high):\n",
    "        mid = (low+high)//2\n",
    "\n",
    "        if arr[mid] >= target:\n",
    "            result = mid \n",
    "            high = mid -1 \n",
    "\n",
    "\n",
    "        else:\n",
    "            low = mid + 1 \n",
    "\n",
    "    return result\n",
    "\n",
    "arr=[1,2,2,3,4,5,5,5,6,11]\n",
    "target = 5\n",
    "n = len(arr)\n",
    "find = lowerbound(arr,target,n)\n",
    "print(find)"
   ]
  },
  {
   "cell_type": "markdown",
   "metadata": {},
   "source": [
    "upper bound "
   ]
  },
  {
   "cell_type": "code",
   "execution_count": 5,
   "metadata": {},
   "outputs": [
    {
     "name": "stdout",
     "output_type": "stream",
     "text": [
      "8\n"
     ]
    }
   ],
   "source": [
    "def upperbound(arr,target,n):\n",
    "\n",
    "    low = 0 \n",
    "    high = n-1\n",
    "    result = n\n",
    "\n",
    "\n",
    "    while (low <= high):\n",
    "\n",
    "        mid = (low+high)//2\n",
    "\n",
    "        if arr[mid] > target:\n",
    "            result = mid \n",
    "            high = mid -1 \n",
    "\n",
    "\n",
    "        else:\n",
    "            low = mid + 1\n",
    "\n",
    "    return result\n",
    "\n",
    "\n",
    "arr=[1,2,2,3,4,5,5,5,6,11]\n",
    "target = 5\n",
    "n = len(arr)\n",
    "find = upperbound(arr,target,n)\n",
    "print(find)\n"
   ]
  },
  {
   "cell_type": "markdown",
   "metadata": {},
   "source": [
    "Floor and ceil in sorted array\n",
    "\n",
    "You're given an sorted array arr of n integers and an integer x. Find the floor and ceiling of x in arr[0..n-1].\n",
    "The floor of x is the largest element in the array which is smaller than or equal to x.\n",
    "The ceiling of x is the smallest element in the array greater than or equal to x.\n"
   ]
  },
  {
   "cell_type": "code",
   "execution_count": 2,
   "metadata": {},
   "outputs": [
    {
     "name": "stdout",
     "output_type": "stream",
     "text": [
      "The floor and ceil are: 4 7\n"
     ]
    }
   ],
   "source": [
    "def findfloor(arr,n,target):\n",
    "\n",
    "    low = 0\n",
    "    high = n-1 \n",
    "    result = -1 \n",
    "\n",
    "    while (low <= high):\n",
    "\n",
    "        mid = (low+high)//2\n",
    "\n",
    "        if (arr[mid] <= target):\n",
    "            result = arr[mid]\n",
    "            low = mid + 1\n",
    "\n",
    "\n",
    "        else:\n",
    "            high = mid - 1\n",
    "\n",
    "    return result\n",
    "\n",
    "\n",
    "def findCeil(arr,n,target):\n",
    "\n",
    "    low = 0\n",
    "    high = n-1 \n",
    "    result = -1 \n",
    "\n",
    "    while (low <= high):\n",
    "\n",
    "        mid = (low+high)//2\n",
    "\n",
    "        if (arr[mid] >= target):\n",
    "            result = arr[mid]\n",
    "            high = mid - 1\n",
    "\n",
    "\n",
    "        else:\n",
    "            low = mid + 1 \n",
    "\n",
    "    return result\n",
    "\n",
    "\n",
    "def floorandceil(arr,n,target):\n",
    "\n",
    "    f = findfloor(arr,n,target)\n",
    "    c = findCeil(arr,n,target)\n",
    "\n",
    "\n",
    "    return(f,c)\n",
    "\n",
    "\n",
    "\n",
    "arr = [3, 4, 4, 7, 8, 10]\n",
    "n = 6\n",
    "x = 5\n",
    "ans = floorandceil(arr, n, x)\n",
    "print(\"The floor and ceil are:\", ans[0], ans[1])\n",
    "\n",
    "\n"
   ]
  },
  {
   "cell_type": "markdown",
   "metadata": {},
   "source": [
    "First and last Occurence of target in the array "
   ]
  },
  {
   "cell_type": "code",
   "execution_count": null,
   "metadata": {},
   "outputs": [
    {
     "name": "stdout",
     "output_type": "stream",
     "text": [
      "4\n"
     ]
    }
   ],
   "source": [
    "# brute force \n",
    "\n",
    "\n",
    "\n",
    "#  this is last occurence (you can do for first occurence)\n",
    "\n",
    "def fandloccurence(arr,target,n):\n",
    "\n",
    "    res = -1 \n",
    "    for i in range (n-1, -1,-1):\n",
    "        if arr[i]== target:\n",
    "            res = i\n",
    "            break\n",
    "    return res\n",
    "    \n",
    "if __name__ == \"__main__\":\n",
    "    n = 7\n",
    "    target = 13\n",
    "    arr = [3, 4, 13, 13, 13, 20, 40]\n",
    "    \n",
    "\n",
    "    print(fandloccurence(arr,target,n))"
   ]
  },
  {
   "cell_type": "code",
   "execution_count": 6,
   "metadata": {},
   "outputs": [
    {
     "name": "stdout",
     "output_type": "stream",
     "text": [
      "1 2\n"
     ]
    }
   ],
   "source": [
    "def lowerbound(arr,target,n):\n",
    "    low = 0\n",
    "    high = n-1 \n",
    "    result = n\n",
    "\n",
    "\n",
    "    while (low <= high):\n",
    "        mid = (low+high)//2\n",
    "\n",
    "        if arr[mid] >= target:\n",
    "            result = mid \n",
    "            high = mid -1 \n",
    "\n",
    "\n",
    "        else:\n",
    "            low = mid + 1 \n",
    "\n",
    "    return result\n",
    "\n",
    "def upperbound(arr,target,n):\n",
    "\n",
    "    low = 0 \n",
    "    high = n-1\n",
    "    result = n\n",
    "\n",
    "\n",
    "    while (low <= high):\n",
    "\n",
    "        mid = (low+high)//2\n",
    "\n",
    "        if arr[mid] > target:\n",
    "            result = mid \n",
    "            high = mid -1 \n",
    "\n",
    "\n",
    "        else:\n",
    "            low = mid + 1\n",
    "\n",
    "    return result\n",
    "\n",
    "\n",
    "def firstandlastOccurence(arr,target,n):\n",
    "    lb = lowerbound(arr,target,n)\n",
    "    ub = upperbound(arr,target,n)-1\n",
    "\n",
    "    if lb == n or arr[lb] != target:\n",
    "\n",
    "\n",
    "        return(-1,-1)\n",
    "    \n",
    "    return(lb,ub)\n",
    "\n",
    "\n",
    "arr = [3, 4, 4, 7, 8, 10]\n",
    "n = 6\n",
    "target = 4\n",
    "ans = firstandlastOccurence(arr, target, n)\n",
    "print(ans[0], ans[1])\n",
    "    \n",
    "\n",
    "\n"
   ]
  },
  {
   "cell_type": "markdown",
   "metadata": {},
   "source": [
    "What if the interviewer tells you to find first and last occurence with simple binary search "
   ]
  },
  {
   "cell_type": "code",
   "execution_count": 7,
   "metadata": {},
   "outputs": [
    {
     "name": "stdout",
     "output_type": "stream",
     "text": [
      "5 5\n"
     ]
    }
   ],
   "source": [
    "def firstOccurence(arr,target,n):\n",
    "    low = 0\n",
    "    high = n-1 \n",
    "    first = -1\n",
    "\n",
    "    while (low <= high):\n",
    "        mid = (low+high)//2 \n",
    "\n",
    "        if (arr[mid] == target):\n",
    "\n",
    "            first = mid\n",
    "\n",
    "            high = mid -1 \n",
    "\n",
    "        elif (arr[mid] < target):\n",
    "            low = mid + 1\n",
    "\n",
    "\n",
    "        else:\n",
    "            high = mid -1 \n",
    "\n",
    "    return first\n",
    "\n",
    "\n",
    "def lastOccurence(arr,target,n):\n",
    "    low = 0\n",
    "    high = n -1 \n",
    "\n",
    "    last = -1 \n",
    "\n",
    "\n",
    "    while (low <= high):\n",
    "         mid = (low + high)//2\n",
    "\n",
    "         if (arr[mid]==target):\n",
    "             last = mid \n",
    "\n",
    "             low = mid + 1 \n",
    "\n",
    "         elif (arr[mid] > target):\n",
    "             \n",
    "             high = mid - 1\n",
    "\n",
    "         else:\n",
    "             low = mid + 1\n",
    "\n",
    "    return last\n",
    "\n",
    "def firstandlastpos(arr,target,n):\n",
    "\n",
    "    first = firstOccurence(arr,target,n)\n",
    "    if (first == -1):\n",
    "        return -1,-1\n",
    "    \n",
    "    last = lastOccurence(arr,target,n)\n",
    "    \n",
    "    return (first,last)\n",
    "        \n",
    "             \n",
    "\n",
    "arr = [3, 4, 4, 7, 8, 10]\n",
    "n = 6\n",
    "target = 10\n",
    "ans = firstandlastpos(arr, target, n)\n",
    "print(ans[0], ans[1])\n",
    "        \n",
    "\n"
   ]
  },
  {
   "cell_type": "markdown",
   "metadata": {},
   "source": [
    "count occurences in the array\n",
    "\n",
    "\n",
    "last - first + 1"
   ]
  },
  {
   "cell_type": "code",
   "execution_count": 10,
   "metadata": {},
   "outputs": [
    {
     "name": "stdout",
     "output_type": "stream",
     "text": [
      "2\n"
     ]
    }
   ],
   "source": [
    "def firstOccurence(arr,target,n):\n",
    "    low = 0\n",
    "    high = n-1 \n",
    "    first = -1\n",
    "\n",
    "    while (low <= high):\n",
    "        mid = (low+high)//2 \n",
    "\n",
    "        if (arr[mid] == target):\n",
    "\n",
    "            first = mid\n",
    "\n",
    "            high = mid -1 \n",
    "\n",
    "        elif (arr[mid] < target):\n",
    "            low = mid + 1\n",
    "\n",
    "\n",
    "        else:\n",
    "            high = mid -1 \n",
    "\n",
    "    return first\n",
    "\n",
    "\n",
    "def lastOccurence(arr,target,n):\n",
    "    low = 0\n",
    "    high = n -1 \n",
    "\n",
    "    last = -1 \n",
    "\n",
    "\n",
    "    while (low <= high):\n",
    "         mid = (low + high)//2\n",
    "\n",
    "         if (arr[mid]==target):\n",
    "             last = mid \n",
    "\n",
    "             low = mid + 1 \n",
    "\n",
    "         elif (arr[mid] > target):\n",
    "             \n",
    "             high = mid - 1\n",
    "\n",
    "         else:\n",
    "             low = mid + 1\n",
    "\n",
    "    return last\n",
    "\n",
    "def firstandlastpos(arr,target,n):\n",
    "\n",
    "    first = firstOccurence(arr,target,n)\n",
    "    if (first == -1):\n",
    "        return -1,-1\n",
    "    \n",
    "    last = lastOccurence(arr,target,n)\n",
    "    \n",
    "    return (first,last)\n",
    "\n",
    "def count(arr,target,n):\n",
    "    first,last = firstandlastpos(arr,target,n)\n",
    "    if first == -1:\n",
    "        return 0\n",
    "    return last - first + 1\n",
    "        \n",
    "             \n",
    "\n",
    "arr = [3, 4, 4, 7, 8, 10]\n",
    "n = 6\n",
    "target = 4\n",
    "ans = count(arr, target, n)\n",
    "print(ans)\n",
    "        \n",
    "\n"
   ]
  },
  {
   "cell_type": "code",
   "execution_count": null,
   "metadata": {},
   "outputs": [],
   "source": []
  }
 ],
 "metadata": {
  "kernelspec": {
   "display_name": "Python 3",
   "language": "python",
   "name": "python3"
  },
  "language_info": {
   "codemirror_mode": {
    "name": "ipython",
    "version": 3
   },
   "file_extension": ".py",
   "mimetype": "text/x-python",
   "name": "python",
   "nbconvert_exporter": "python",
   "pygments_lexer": "ipython3",
   "version": "3.9.6"
  }
 },
 "nbformat": 4,
 "nbformat_minor": 2
}
