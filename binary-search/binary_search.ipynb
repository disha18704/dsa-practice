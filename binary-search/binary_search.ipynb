{
 "cells": [
  {
   "cell_type": "markdown",
   "metadata": {},
   "source": [
    "\t\n",
    "Binary Search to find X in sorted array"
   ]
  },
  {
   "cell_type": "code",
   "execution_count": 1,
   "metadata": {},
   "outputs": [
    {
     "name": "stdout",
     "output_type": "stream",
     "text": [
      "4\n"
     ]
    }
   ],
   "source": [
    "#iterative approach\n",
    "def binarySearch(nums, target):\n",
    "\n",
    "    n = len(nums)\n",
    "    low = 0\n",
    "    high = n -1 \n",
    "\n",
    "    while low <= high:\n",
    "        mid = (low+high) // 2\n",
    "        if nums[mid] == target:\n",
    "            return mid \n",
    "        elif target > nums[mid]:\n",
    "            low = mid + 1\n",
    "        else:\n",
    "            high = mid -1\n",
    "\n",
    "    return -1\n",
    "\n",
    "nums = [2,3,4,5,6,7]\n",
    "target = 6\n",
    "ind = binarySearch(nums, target)\n",
    "print(ind)"
   ]
  },
  {
   "cell_type": "code",
   "execution_count": 6,
   "metadata": {},
   "outputs": [
    {
     "name": "stdout",
     "output_type": "stream",
     "text": [
      "4\n"
     ]
    }
   ],
   "source": [
    "\n",
    "def search( nums, target):\n",
    "        l=0\n",
    "        r =  len(nums) -1\n",
    "        while l <= r:\n",
    "            mid = l + ((r - l) // 2)\n",
    "            if nums[mid] > target:\n",
    "                r = mid - 1\n",
    "            elif nums[mid] < target:\n",
    "                l = mid + 1\n",
    "            else:\n",
    "                return mid\n",
    "        return -1 \n",
    "nums = [2,3,4,5,6,7]\n",
    "target = 6\n",
    "ind = search(nums, target)\n",
    "print(ind)"
   ]
  },
  {
   "cell_type": "code",
   "execution_count": 2,
   "metadata": {},
   "outputs": [
    {
     "name": "stdout",
     "output_type": "stream",
     "text": [
      "The target is at index: 2\n"
     ]
    }
   ],
   "source": [
    "#recursive approach \n",
    "\n",
    "def binarySearch(nums, low , high, target):\n",
    "    if low > high:\n",
    "        return -1\n",
    "    \n",
    "    mid = (low + high) // 2\n",
    "\n",
    "    if nums[mid] == target:\n",
    "        return mid\n",
    "    elif target > nums[mid]:\n",
    "        return binarySearch(nums, mid + 1, high , target)\n",
    "    return binarySearch(nums, low, mid - 1, target)\n",
    "\n",
    "def search(nums, target):\n",
    "    return binarySearch(nums, 0, len(nums) - 1, target)\n",
    "\n",
    "if __name__ == \"__main__\":\n",
    "    a = [3, 4, 6, 7, 9, 12, 16, 17]\n",
    "    target = 6\n",
    "    ind = search(a, target)\n",
    "    if ind == -1:\n",
    "        print(\"The target is not present.\")\n",
    "    else:\n",
    "        print(\"The target is at index:\", ind) \n"
   ]
  }
 ],
 "metadata": {
  "kernelspec": {
   "display_name": "Python 3",
   "language": "python",
   "name": "python3"
  },
  "language_info": {
   "codemirror_mode": {
    "name": "ipython",
    "version": 3
   },
   "file_extension": ".py",
   "mimetype": "text/x-python",
   "name": "python",
   "nbconvert_exporter": "python",
   "pygments_lexer": "ipython3",
   "version": "3.11.9"
  }
 },
 "nbformat": 4,
 "nbformat_minor": 2
}
