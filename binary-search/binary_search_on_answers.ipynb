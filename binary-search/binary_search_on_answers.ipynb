{
 "cells": [
  {
   "cell_type": "markdown",
   "metadata": {},
   "source": [
    "Finding sqrt of a number using binary search"
   ]
  },
  {
   "cell_type": "code",
   "execution_count": 6,
   "metadata": {},
   "outputs": [
    {
     "name": "stdout",
     "output_type": "stream",
     "text": [
      "The floor of square root of 28 is: 5\n"
     ]
    }
   ],
   "source": [
    "# brute force \n",
    "\n",
    "def floorSqrt(n):\n",
    "\n",
    "    ans = 0\n",
    "\n",
    "    for i in range(1,n+1):\n",
    "        val = i * i\n",
    "        if val <= n:\n",
    "            ans = i \n",
    "\n",
    "        else:\n",
    "            break\n",
    "\n",
    "    return ans\n",
    "\n",
    "n = 28\n",
    "ans = floorSqrt(n)\n",
    "print(\"The floor of square root of\", n, \"is:\", ans)"
   ]
  },
  {
   "cell_type": "code",
   "execution_count": 5,
   "metadata": {},
   "outputs": [
    {
     "name": "stdout",
     "output_type": "stream",
     "text": [
      "The floor of square root of 10000 is: 100\n"
     ]
    }
   ],
   "source": [
    "def floorsqrt(n):\n",
    "\n",
    "    low = 1\n",
    "    high = n\n",
    "    \n",
    "\n",
    "    while(low <= high):\n",
    "         mid = (low+high)//2\n",
    "\n",
    "         val = mid * mid \n",
    "         if val <= n:\n",
    "              low = mid + 1\n",
    "         else:\n",
    "              high = mid - 1\n",
    "    return high\n",
    "\n",
    "n = 10000\n",
    "ans = floorsqrt(n)\n",
    "print(\"The floor of square root of\", n, \"is:\", ans)"
   ]
  },
  {
   "cell_type": "markdown",
   "metadata": {},
   "source": [
    "find the nth root of an integer"
   ]
  },
  {
   "cell_type": "markdown",
   "metadata": {},
   "source": [
    "Eliminate the halves accordingly: \n",
    "\n",
    "\n",
    "\n",
    "\n",
    "If func(n, m, mid) == 1: On satisfying this condition, we can conclude that the number ‘mid’ is our answer. So, we will return to ‘mid’.\n",
    "\n",
    "\n",
    "If func(n, m, mid) == 0: On satisfying this condition, we can conclude that the number ‘mid’ is smaller than our answer. So, we will eliminate the left half and consider the right half(i.e. low = mid+1).\n",
    "\n",
    "\n",
    "If func(n, m, mid) == 2: the value mid is larger than the number we want. This means the numbers greater than ‘mid’ will not be our answers and the right half of ‘mid’ consists of such numbers. So, we will eliminate the right half and consider the left half(i.e. high = mid-1)."
   ]
  },
  {
   "cell_type": "code",
   "execution_count": 3,
   "metadata": {},
   "outputs": [
    {
     "name": "stdout",
     "output_type": "stream",
     "text": [
      "The answer is: -1\n"
     ]
    }
   ],
   "source": [
    "def func(mid,n,m):\n",
    "    ans = 1\n",
    "    for i in range(1, n+1):\n",
    "        ans *= mid\n",
    "        if ans > m:\n",
    "            return 2\n",
    "    if ans == m:\n",
    "        return 1\n",
    "    return 0\n",
    "\n",
    "def nthroot(n,m):\n",
    "    low = 1\n",
    "    high = m\n",
    "\n",
    "\n",
    "    while low <= high:\n",
    "        mid = (low+high)//2\n",
    "        midN = func(mid,n,m)\n",
    "\n",
    "        if midN == 1:\n",
    "            return mid\n",
    "        elif midN == 0:\n",
    "            low = mid + 1\n",
    "        else:\n",
    "            high = mid - 1\n",
    "\n",
    "    return -1\n",
    "\n",
    "n = 3\n",
    "m = 69\n",
    "ans = nthroot(n, m)\n",
    "print(\"The answer is:\", ans)"
   ]
  },
  {
   "cell_type": "markdown",
   "metadata": {},
   "source": [
    "Koko Eating Bananas\n",
    "\n",
    "\n",
    "\n",
    "Problem Statement: A monkey is given ‘n’ piles of bananas, whereas the 'ith' pile has ‘a[i]’ bananas. An integer ‘h’ is also given, which denotes the time (in hours) for all the bananas to be eaten."
   ]
  },
  {
   "cell_type": "markdown",
   "metadata": {},
   "source": [
    "brute force"
   ]
  },
  {
   "cell_type": "code",
   "execution_count": 2,
   "metadata": {},
   "outputs": [
    {
     "name": "stdout",
     "output_type": "stream",
     "text": [
      "Koko should eat at least 5 bananas/hr.\n"
     ]
    }
   ],
   "source": [
    "import math \n",
    "\n",
    "def findMAX(v):\n",
    "    maxi = float('-inf')\n",
    "    n = len(v)\n",
    "\n",
    "\n",
    "    for i in range(n):\n",
    "        maxi = max(maxi,v[i])\n",
    "    return maxi \n",
    "\n",
    "\n",
    "def calcHours(v, hourly):\n",
    "    totalH = 0\n",
    "    n = len(v)\n",
    "\n",
    "    for i in range(n):\n",
    "        totalH += math.ceil(v[i] / hourly)\n",
    "\n",
    "    return totalH\n",
    "\n",
    "def minratetoeatbananas(v,h):\n",
    "\n",
    "    maxi = findMAX(v)\n",
    "    for i in range(1,maxi+1):\n",
    "        reqTime = calcHours(v,i)\n",
    "        if reqTime <= h:\n",
    "            return i\n",
    "        \n",
    "    return maxi\n",
    "\n",
    "v = [7, 15, 6, 3]\n",
    "h = 8\n",
    "ans = minratetoeatbananas(v, h)\n",
    "print(\"Koko should eat at least\", ans, \"bananas/hr.\")"
   ]
  },
  {
   "cell_type": "markdown",
   "metadata": {},
   "source": [
    "optimal"
   ]
  },
  {
   "cell_type": "code",
   "execution_count": 3,
   "metadata": {},
   "outputs": [
    {
     "name": "stdout",
     "output_type": "stream",
     "text": [
      "Koko should eat at least 5 bananas/hr.\n"
     ]
    }
   ],
   "source": [
    "import math\n",
    "\n",
    "def findMAX(v):\n",
    "    maxi = float('-inf')\n",
    "    n = len(v)\n",
    "    for i in range(n):\n",
    "        maxi = max(maxi,v[i])\n",
    "    return maxi\n",
    "\n",
    "\n",
    "def calcHours(v,hourly):\n",
    "    totalH = 0\n",
    "    n = len(v)\n",
    "\n",
    "\n",
    "    for i in range (n):\n",
    "        totalH += math.ceil(v[i] / hourly)\n",
    "\n",
    "    return totalH\n",
    "\n",
    "def minRatetoeatbananas(v,h):\n",
    "    low = 1\n",
    "    high = findMAX(v)\n",
    "\n",
    "    while(low<= high):\n",
    "        mid = (low+high)//2\n",
    "        totalH = calcHours(v,mid)\n",
    "        if totalH <= h:\n",
    "            high = mid - 1\n",
    "        else:\n",
    "            low = mid + 1\n",
    "\n",
    "    return low\n",
    "\n",
    "v = [7, 15, 6, 3]\n",
    "h = 8\n",
    "ans = minRatetoeatbananas(v, h)\n",
    "print(\"Koko should eat at least\", ans, \"bananas/hr.\")\n",
    "\n"
   ]
  },
  {
   "cell_type": "markdown",
   "metadata": {},
   "source": [
    "Minimum days to make M bouquets\n",
    "\n",
    "\n",
    "\n",
    "Problem Statement: You are given 'N’ roses and you are also given an array 'arr'  where 'arr[i]'  denotes that the 'ith' rose will bloom on the 'arr[i]th' day.\n",
    "You can only pick already bloomed roses that are adjacent to make a bouquet. You are also told that you require exactly 'k' adjacent bloomed roses to make a single bouquet.\n",
    "Find the minimum number of days required to make at least ‘m' bouquets each containing 'k' roses. Return -1 if it is not possible."
   ]
  },
  {
   "cell_type": "code",
   "execution_count": 2,
   "metadata": {},
   "outputs": [
    {
     "name": "stdout",
     "output_type": "stream",
     "text": [
      "We can make bouquets on day 12\n"
     ]
    }
   ],
   "source": [
    "# brute force \n",
    "\n",
    "\n",
    "def possible(arr,day,m,k):\n",
    "    n = len(arr)\n",
    "    count = 0\n",
    "    noOfB = 0\n",
    "\n",
    "    for i in range(n):\n",
    "        if arr[i] <= day:\n",
    "            count+=1\n",
    "\n",
    "        else:\n",
    "            noOfB += count//k\n",
    "            count = 0\n",
    "    noOfB += count //k\n",
    "    return noOfB >= m\n",
    "\n",
    "def roseGarden(arr,k,m):\n",
    "    val = m*k\n",
    "    n = len(arr)\n",
    "    if val > n:\n",
    "        return -1\n",
    "    \n",
    "    mini = float('inf')\n",
    "    maxi = float('-inf')\n",
    "\n",
    "    for i in range(n):\n",
    "        mini = min(mini,arr[i])\n",
    "        maxi = max(maxi,arr[i])\n",
    "\n",
    "    for i in range(mini,maxi+1):\n",
    "        if possible(arr,i,m,k):\n",
    "            return i\n",
    "    return -1\n",
    "    \n",
    "\n",
    "arr = [7, 7, 7, 7, 13, 11, 12, 7]\n",
    "k = 3\n",
    "m = 2\n",
    "ans = roseGarden(arr, k, m)\n",
    "if ans == -1:\n",
    "    print(\"We cannot make m bouquets.\")\n",
    "else:\n",
    "    print(\"We can make bouquets on day\", ans)\n"
   ]
  },
  {
   "cell_type": "code",
   "execution_count": 4,
   "metadata": {},
   "outputs": [
    {
     "name": "stdout",
     "output_type": "stream",
     "text": [
      "We can make bouquets on day 12\n"
     ]
    }
   ],
   "source": [
    "# optimal \n",
    "\n",
    "\n",
    "\n",
    "def possible(arr, day, m, k):\n",
    "    n = len(arr)  # size of the array\n",
    "    cnt = 0\n",
    "    noOfB = 0\n",
    "    # count the number of bouquets\n",
    "    for i in range(n):\n",
    "        if arr[i] <= day:\n",
    "            cnt += 1\n",
    "        else:\n",
    "            noOfB += cnt // k\n",
    "            cnt = 0\n",
    "    noOfB += cnt // k\n",
    "    return noOfB >= m\n",
    "\n",
    "def roseGarden(arr, k, m):\n",
    "    val = m * k\n",
    "    n = len(arr)  # size of the array\n",
    "    if val > n:\n",
    "        return -1  # impossible case\n",
    "    # find maximum and minimum\n",
    "    mini = float('inf')\n",
    "    maxi = float('-inf')\n",
    "    for i in range(n):\n",
    "        mini = min(mini, arr[i])\n",
    "        maxi = max(maxi, arr[i])\n",
    "\n",
    "    low = mini \n",
    "    high = maxi\n",
    "\n",
    "    while low <= high:\n",
    "            mid = (low+high)//2\n",
    "            if possible(arr,mid,m,k):\n",
    "                high = mid - 1\n",
    "            else:\n",
    "                low = mid + 1\n",
    "\n",
    "    return low \n",
    "    \n",
    "arr = [7, 7, 7, 7, 13, 11, 12, 7]\n",
    "k = 3\n",
    "m = 2\n",
    "ans = roseGarden(arr, k, m)\n",
    "if ans == -1:\n",
    "    print(\"We cannot make m bouquets.\")\n",
    "else:\n",
    "    print(\"We can make bouquets on day\", ans)"
   ]
  },
  {
   "cell_type": "markdown",
   "metadata": {},
   "source": [
    "Find the Smallest Divisor Given a Threshold\n",
    "\n",
    "\n",
    "Problem Statement: You are given an array of integers 'arr' and an integer i.e. a threshold value 'limit'. Your task is to find the smallest positive integer divisor, such that upon dividing all the elements of the given array by it, the sum of the division's result is less than or equal to the given threshold value."
   ]
  },
  {
   "cell_type": "code",
   "execution_count": null,
   "metadata": {},
   "outputs": [
    {
     "name": "stdout",
     "output_type": "stream",
     "text": [
      "The minimum divisor is: 3\n"
     ]
    }
   ],
   "source": [
    "# brute force \n",
    "\n",
    "import math \n",
    "\n",
    "def smallestDivisor(arr,limit):\n",
    "    n = len(arr)\n",
    "    maxi = max(arr)\n",
    "\n",
    "    for d in range (1, maxi+1):\n",
    "        sum = 0\n",
    "        for i in range (n):\n",
    "            sum += math.ceil(arr[i]/d)\n",
    "        if sum <= limit:\n",
    "            return d\n",
    "    return -1\n",
    "    \n",
    "\n",
    "arr = [1, 2, 3, 4, 5]\n",
    "limit = 8\n",
    "ans = smallestDivisor(arr, limit)\n",
    "print(\"The minimum divisor is:\", ans)\n"
   ]
  },
  {
   "cell_type": "code",
   "execution_count": 7,
   "metadata": {},
   "outputs": [
    {
     "name": "stdout",
     "output_type": "stream",
     "text": [
      "The minimum divisor is: 3\n"
     ]
    }
   ],
   "source": [
    "# optimal\n",
    "\n",
    "\n",
    "import math \n",
    "\n",
    "def sumbyD(arr,div):\n",
    "    n = len(arr)\n",
    "\n",
    "    total_sum = 0\n",
    "\n",
    "    for i in range (n):\n",
    "        total_sum += math.ceil(arr[i]/div)\n",
    "    return total_sum\n",
    "\n",
    "\n",
    "def smallestDivisor(arr,limit):\n",
    "    n = len(arr)\n",
    "    if n > limit:\n",
    "        return -1\n",
    "    \n",
    "    low = 1\n",
    "    high = max(arr)\n",
    "\n",
    "    while low <= high:\n",
    "        mid = (low+high)//2\n",
    "        if sumbyD(arr,mid) <= limit:\n",
    "            high = mid -1\n",
    "        else:\n",
    "            low = mid+1\n",
    "    return low \n",
    "\n",
    "arr = [1, 2, 3, 4, 5]\n",
    "limit = 8\n",
    "ans = smallestDivisor(arr, limit)\n",
    "print(\"The minimum divisor is:\", ans)"
   ]
  },
  {
   "cell_type": "code",
   "execution_count": 1,
   "metadata": {},
   "outputs": [
    {
     "name": "stdout",
     "output_type": "stream",
     "text": [
      "The minimum capacity should be: 9\n"
     ]
    }
   ],
   "source": [
    "from typing import List\n",
    "\n",
    "def findDays(weights, cap):\n",
    "    days = 1\n",
    "    load = 0\n",
    "\n",
    "    n = len(weights)\n",
    "\n",
    "\n",
    "    for i in range(n):\n",
    "        if load + weights[i] > cap:\n",
    "            days += 1\n",
    "            load = weights[i]\n",
    "        else:\n",
    "            load += weights[i]\n",
    "\n",
    "    return days\n",
    "\n",
    "def leastWeightCapacity(weights,d):\n",
    "    maxi = max(weights)\n",
    "    summation = sum(weights)\n",
    "\n",
    "    for i in range(maxi, summation + 1):\n",
    "        if findDays(weights,i) <= d:\n",
    "            return i\n",
    "        \n",
    "    return -1\n",
    "\n",
    "\n",
    "weights = [5, 4, 5, 2, 3, 4, 5, 6]\n",
    "d = 5\n",
    "ans = leastWeightCapacity(weights, d)\n",
    "print(\"The minimum capacity should be:\", ans)\n",
    "    \n"
   ]
  },
  {
   "cell_type": "code",
   "execution_count": 2,
   "metadata": {},
   "outputs": [
    {
     "name": "stdout",
     "output_type": "stream",
     "text": [
      "The minimum capacity should be: 9\n"
     ]
    }
   ],
   "source": [
    "def findDays(weights,cap):\n",
    "    days = 1\n",
    "    load = 0\n",
    "    n = len(weights)\n",
    "\n",
    "    for i in range (n):\n",
    "        if load + weights[i] > cap:\n",
    "            days += 1\n",
    "            load = weights[i]\n",
    "\n",
    "        else:\n",
    "            load += weights[i]\n",
    "\n",
    "    return days\n",
    "\n",
    "def leastWeightCapacity(weights,d):\n",
    "    low = max(weights)\n",
    "    high = sum(weights)\n",
    "\n",
    "    while low <= high:\n",
    "        mid = (low + high)//2\n",
    "        numberOfDays = findDays(weights,mid)\n",
    "        if numberOfDays <= d:\n",
    "            high = mid -1 \n",
    "\n",
    "        else:\n",
    "            low = mid + 1\n",
    "\n",
    "    return low \n",
    "\n",
    "\n",
    "weights = [5, 4, 5, 2, 3, 4, 5, 6]\n",
    "d = 5\n",
    "ans = leastWeightCapacity(weights, d)\n",
    "print(\"The minimum capacity should be:\", ans)\n"
   ]
  },
  {
   "cell_type": "markdown",
   "metadata": {},
   "source": [
    "Kth missing possible number "
   ]
  },
  {
   "cell_type": "markdown",
   "metadata": {},
   "source": [
    "Problem Statement: You are given a strictly increasing array ‘vec’ and a positive integer 'k'. Find the 'kth' positive integer missing from 'vec'.\n"
   ]
  },
  {
   "cell_type": "markdown",
   "metadata": {},
   "source": [
    "The main idea is to shift k by 1 step if the current element is smaller or equal to k. And whenever we get a number > k, we can conclude that k is the missing number."
   ]
  },
  {
   "cell_type": "code",
   "execution_count": 5,
   "metadata": {},
   "outputs": [
    {
     "name": "stdout",
     "output_type": "stream",
     "text": [
      "The missing number is: 5\n"
     ]
    }
   ],
   "source": [
    "def missingK(vec,n,k):\n",
    "    for i in range(n):\n",
    "        if vec[i] <= k:\n",
    "\n",
    "            k += 1\n",
    "\n",
    "        else:\n",
    "            break\n",
    "\n",
    "    return k\n",
    "\n",
    "vec = [4, 7, 9, 10]\n",
    "n = 4\n",
    "k = 4\n",
    "ans = missingK(vec, n, k)\n",
    "print(\"The missing number is:\", ans)"
   ]
  },
  {
   "cell_type": "code",
   "execution_count": 6,
   "metadata": {},
   "outputs": [
    {
     "name": "stdout",
     "output_type": "stream",
     "text": [
      "The missing number is: 5\n"
     ]
    }
   ],
   "source": [
    "def missingK(vec,n,k):\n",
    "    low = 0\n",
    "    high = n-1\n",
    "    while low <= high:\n",
    "        mid = (low+high)//2\n",
    "        missing = vec[mid] - (mid + 1)\n",
    "        if missing < k:\n",
    "            low = mid + 1\n",
    "\n",
    "        else:\n",
    "            high = mid - 1\n",
    "\n",
    "    return k + high + 1\n",
    "\n",
    "\n",
    "vec = [4, 7, 9, 10]\n",
    "n = 4\n",
    "k = 4\n",
    "ans = missingK(vec, n, k)\n",
    "print(\"The missing number is:\", ans)"
   ]
  },
  {
   "cell_type": "code",
   "execution_count": null,
   "metadata": {},
   "outputs": [],
   "source": []
  },
  {
   "cell_type": "markdown",
   "metadata": {},
   "source": [
    "The extremely naive approach is to check all possible distances from 1 to max(stalls[])-min(stalls[]). The maximum distance for which the function canWePlace() returns true, will be our answer."
   ]
  },
  {
   "cell_type": "code",
   "execution_count": 2,
   "metadata": {},
   "outputs": [
    {
     "name": "stdout",
     "output_type": "stream",
     "text": [
      "The maximum possible minimum distance is: 3\n"
     ]
    }
   ],
   "source": [
    "def canWePlace(stalls,dist,cows):\n",
    "    n = len(stalls)\n",
    "    cntCows = 1\n",
    "    last = stalls[0]\n",
    "    for i in range(1,n):\n",
    "        if stalls[i] - last >= dist:\n",
    "            cntCows += 1\n",
    "            last = stalls[i]\n",
    "        if cntCows >= cows:\n",
    "            return True\n",
    "    return False\n",
    "    \n",
    "def aggressiveCows(stalls,k):\n",
    "    n = len(stalls)\n",
    "    stalls.sort()\n",
    "    limit = stalls[n-1] - stalls[0]\n",
    "    for i in range(1,limit+1):\n",
    "        if not canWePlace(stalls,i,k):\n",
    "            return i-1\n",
    "    return limit\n",
    "    \n",
    "\n",
    "stalls = [0, 3, 4, 7, 10, 9]\n",
    "k = 4\n",
    "ans = aggressiveCows(stalls, k)\n",
    "print(\"The maximum possible minimum distance is:\", ans)\n"
   ]
  },
  {
   "cell_type": "code",
   "execution_count": 3,
   "metadata": {},
   "outputs": [
    {
     "name": "stdout",
     "output_type": "stream",
     "text": [
      "The maximum possible minimum distance is: 3\n"
     ]
    }
   ],
   "source": [
    "def aggressiveCows(stalls,dist,cows):\n",
    "    n = len(stalls)\n",
    "    cntcows = 1\n",
    "    last = stalls[0]\n",
    "    for i in range(1,n):\n",
    "        if stalls[i] - last >= dist:\n",
    "            cntcows += 1\n",
    "            last = stalls[i]\n",
    "        if cntcows >= cows:\n",
    "            return True\n",
    "    return False\n",
    "\n",
    "\n",
    "def aggressiveCows(stalls,k):\n",
    "    n = len(stalls)\n",
    "    stalls.sort()\n",
    "\n",
    "    low = 1\n",
    "    high = stalls[n-1]-stalls[0]\n",
    "\n",
    "\n",
    "    while low <= high:\n",
    "        mid = (low+high)//2\n",
    "        if canWePlace(stalls,mid,k):\n",
    "            low = mid + 1\n",
    "        else:\n",
    "            high = mid - 1\n",
    "\n",
    "\n",
    "    return high\n",
    "\n",
    "stalls = [0, 3, 4, 7, 10, 9]\n",
    "k = 4\n",
    "ans = aggressiveCows(stalls, k)\n",
    "print(\"The maximum possible minimum distance is:\", ans)\n"
   ]
  },
  {
   "cell_type": "markdown",
   "metadata": {},
   "source": [
    "Allocate minimum number of pages "
   ]
  },
  {
   "cell_type": "code",
   "execution_count": 8,
   "metadata": {},
   "outputs": [
    {
     "name": "stdout",
     "output_type": "stream",
     "text": [
      "The answer is: 71\n"
     ]
    }
   ],
   "source": [
    "def countStudents(arr,pages):\n",
    "    n = len(arr)\n",
    "    students = 1\n",
    "    pagesStudent = 0\n",
    "\n",
    "    for i in range(n):\n",
    "        if pagesStudent + arr[i] <= pages:\n",
    "            pagesStudent += arr[i]\n",
    "\n",
    "        else:\n",
    "            students += 1\n",
    "\n",
    "            pagesStudent = arr[i]\n",
    "    return students\n",
    "\n",
    "\n",
    "def findpages(arr,n,m):\n",
    "    if m >n:\n",
    "        return -1\n",
    "    \n",
    "    low = max(arr)\n",
    "    high = sum(arr)\n",
    "\n",
    "    for pages in range(low,high+1):\n",
    "        if countStudents(arr,pages) == m:\n",
    "            return pages\n",
    "    return low\n",
    "\n",
    "\n",
    "arr = [25, 46, 28, 49, 24]\n",
    "n = 5\n",
    "m = 4\n",
    "ans = findpages(arr, n, m)\n",
    "print(\"The answer is:\", ans)\n",
    "\n"
   ]
  },
  {
   "cell_type": "code",
   "execution_count": 12,
   "metadata": {},
   "outputs": [
    {
     "name": "stdout",
     "output_type": "stream",
     "text": [
      "The answer is: 71\n"
     ]
    }
   ],
   "source": [
    "def countStudents(arr,pages):\n",
    "    n = len(arr)\n",
    "    students = 1\n",
    "    pagesStudent = 0\n",
    "\n",
    "    for i in range(n):\n",
    "        if pagesStudent + arr[i] <= pages:\n",
    "            pagesStudent += arr[i]\n",
    "\n",
    "        else:\n",
    "            students += 1\n",
    "            pagesStudent = arr[i]\n",
    "\n",
    "    return students\n",
    "\n",
    "def findpages(arr,n,m):\n",
    "    if m > n:\n",
    "        return -1\n",
    "    \n",
    "    low = max(arr)\n",
    "    high = sum(arr)\n",
    "\n",
    "    while low <= high:\n",
    "        mid = (low + high)//2\n",
    "        students = countStudents(arr,mid)\n",
    "        if students > m:\n",
    "            low = mid + 1\n",
    "\n",
    "        else:\n",
    "            high = mid - 1\n",
    "\n",
    "    return low\n",
    "\n",
    "arr = [25, 46, 28, 49, 24]\n",
    "n = 5\n",
    "m = 4\n",
    "ans = findpages(arr, n, m)\n",
    "print(\"The answer is:\", ans)"
   ]
  },
  {
   "cell_type": "markdown",
   "metadata": {},
   "source": [
    "split array - largest sum"
   ]
  },
  {
   "cell_type": "markdown",
   "metadata": {},
   "source": [
    "brute force"
   ]
  },
  {
   "cell_type": "code",
   "execution_count": 2,
   "metadata": {},
   "outputs": [
    {
     "name": "stdout",
     "output_type": "stream",
     "text": [
      "The answer is: 60\n"
     ]
    }
   ],
   "source": [
    "def countPartitions(a, maxSum):\n",
    "    n = len(a)\n",
    "    partitions = 1\n",
    "    subarraySum = 0\n",
    "\n",
    "    for i in range(n):\n",
    "        if subarraySum + a[i] <= maxSum:\n",
    "            subarraySum += a[i]\n",
    "\n",
    "        else:\n",
    "            partitions += 1\n",
    "            subarraySum = a[i]\n",
    "\n",
    "    return partitions\n",
    "\n",
    "def largeSubarraySumMinimized(a,k):\n",
    "    low = max(a)\n",
    "    high = sum(a)\n",
    "\n",
    "    for maxSum in range(low, high+1):\n",
    "        if countPartitions(a,maxSum) == k:\n",
    "            return maxSum\n",
    "    return low\n",
    "\n",
    "\n",
    "a = [10, 20, 30, 40]\n",
    "k = 2\n",
    "ans = largeSubarraySumMinimized(a, k)\n",
    "print(\"The answer is:\", ans)\n"
   ]
  },
  {
   "cell_type": "markdown",
   "metadata": {},
   "source": [
    "optimal"
   ]
  },
  {
   "cell_type": "code",
   "execution_count": null,
   "metadata": {},
   "outputs": [
    {
     "name": "stdout",
     "output_type": "stream",
     "text": [
      "Total partitions needed: 3\n"
     ]
    }
   ],
   "source": [
    "def countPartitions(arr,maxSum):\n",
    "    partitions = 1\n",
    "    n = len(arr)\n",
    "    subarraySum = 0\n",
    "\n",
    "    for i in range(n):\n",
    "\n",
    "        if subarraySum + arr[i] <= maxSum:\n",
    "           subarraySum = subarraySum + arr[i]\n",
    "\n",
    "        else:\n",
    "            partitions += 1\n",
    "            subarraySum = arr[i]\n",
    "\n",
    "    return partitions \n",
    "\n",
    "a = [10, 20, 30, 40]\n",
    "maxSum = 50\n",
    "partitions = countPartitions(a, maxSum)\n",
    "print(\"Total partitions needed:\", partitions)\n",
    "\n",
    "\n",
    "# Added 10 to current subarray. Current subarray sum = 10\n",
    "# Added 20 to current subarray. Current subarray sum = 30\n",
    "# Starting new subarray because 30 + 30 > 50\n",
    "# New subarray starts with 30. Current subarray sum = 30\n",
    "# Starting new subarray because 30 + 40 > 50\n",
    "# New subarray starts with 40. Current subarray sum = 40\n",
    "\n",
    "# Total partitions needed: 3\n",
    "\n",
    "\n"
   ]
  },
  {
   "cell_type": "code",
   "execution_count": 8,
   "metadata": {},
   "outputs": [
    {
     "name": "stdout",
     "output_type": "stream",
     "text": [
      "The answer is: 60\n"
     ]
    }
   ],
   "source": [
    "\n",
    "def countPartitions(arr,maxSum):\n",
    "    partitions = 1\n",
    "    n = len(arr)\n",
    "    subarraySum = 0\n",
    "\n",
    "    for i in range(n):\n",
    "\n",
    "        if subarraySum + arr[i] <= maxSum:\n",
    "            subarraySum = subarraySum + arr[i]\n",
    "\n",
    "        else:\n",
    "            partitions += 1\n",
    "            subarraySum = arr[i]\n",
    "\n",
    "    return partitions \n",
    "\n",
    "\n",
    "def largestsubarraySumMinimized(arr,k):\n",
    "    low = max(arr)\n",
    "    high = sum(arr)\n",
    "\n",
    "    while low <= high:\n",
    "        mid = (low+high)//2\n",
    "\n",
    "        partitions = countPartitions(arr,mid)\n",
    "\n",
    "        if partitions > k:\n",
    "            low = mid + 1\n",
    "\n",
    "        else:\n",
    "            high = mid - 1\n",
    "\n",
    "    return low\n",
    "\n",
    "a = [10, 20, 30, 40]\n",
    "k = 2\n",
    "ans = largestsubarraySumMinimized(a, k)\n",
    "print(\"The answer is:\", ans)"
   ]
  },
  {
   "cell_type": "code",
   "execution_count": 10,
   "metadata": {},
   "outputs": [
    {
     "name": "stdout",
     "output_type": "stream",
     "text": [
      "The answer is: 60\n"
     ]
    }
   ],
   "source": [
    "def countPainters(boards,time):\n",
    "    n = len(boards)\n",
    "    painters = 1\n",
    "    boardspainters = 0\n",
    "\n",
    "    for i in range(n):\n",
    "        if boardspainters + boards[i] <= time:\n",
    "            boardspainters += boards[i]\n",
    "\n",
    "\n",
    "        else:\n",
    "            painters += 1\n",
    "            boardspainters = boards[i]\n",
    "\n",
    "    return painters\n",
    "\n",
    "def findlargetMinDistance(boards,k):\n",
    "    low = max(boards)\n",
    "    high = sum(boards)\n",
    "\n",
    "\n",
    "    for time in range(low,high+1):\n",
    "        if countPainters(boards,time) <= k:\n",
    "            return time \n",
    "    return low \n",
    "    \n",
    "\n",
    "boards = [10, 20, 30, 40]\n",
    "k = 2\n",
    "ans = findlargetMinDistance(boards, k)\n",
    "print(\"The answer is:\", ans)\n",
    "\n"
   ]
  },
  {
   "cell_type": "code",
   "execution_count": 11,
   "metadata": {},
   "outputs": [
    {
     "name": "stdout",
     "output_type": "stream",
     "text": [
      "The answer is: 60\n"
     ]
    }
   ],
   "source": [
    "def countPainters(boards,time):\n",
    "    n = len(boards)\n",
    "    painters = 1\n",
    "    boardspainters = 0\n",
    "\n",
    "    for i in range(n):\n",
    "        if boardspainters + boards[i] <= time:\n",
    "            boardspainters += boards[i]\n",
    "\n",
    "        else:\n",
    "            painters += 1\n",
    "            boardspainters = boards[i]\n",
    "\n",
    "    return painters\n",
    "\n",
    "def findlargestMinDistance(boards,k):\n",
    "    low = max(boards)\n",
    "    high = sum(boards)\n",
    "\n",
    "    while low <= high:\n",
    "        mid = (low + high)//2\n",
    "        painters = countPainters(boards,mid)\n",
    "        if painters > k:\n",
    "            low = mid + 1\n",
    "\n",
    "        else:\n",
    "            high = mid - 1\n",
    "\n",
    "    return low\n",
    "\n",
    "\n",
    "\n",
    "boards = [10, 20, 30, 40]\n",
    "k = 2\n",
    "ans = findlargestMinDistance(boards, k)\n",
    "print(\"The answer is:\", ans)"
   ]
  },
  {
   "cell_type": "code",
   "execution_count": null,
   "metadata": {},
   "outputs": [],
   "source": []
  }
 ],
 "metadata": {
  "kernelspec": {
   "display_name": "Python 3",
   "language": "python",
   "name": "python3"
  },
  "language_info": {
   "codemirror_mode": {
    "name": "ipython",
    "version": 3
   },
   "file_extension": ".py",
   "mimetype": "text/x-python",
   "name": "python",
   "nbconvert_exporter": "python",
   "pygments_lexer": "ipython3",
   "version": "3.9.6"
  }
 },
 "nbformat": 4,
 "nbformat_minor": 2
}
