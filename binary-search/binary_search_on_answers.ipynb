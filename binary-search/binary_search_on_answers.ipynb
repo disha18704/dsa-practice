{
 "cells": [
  {
   "cell_type": "markdown",
   "metadata": {},
   "source": [
    "Finding sqrt of a number using binary search"
   ]
  },
  {
   "cell_type": "code",
   "execution_count": 6,
   "metadata": {},
   "outputs": [
    {
     "name": "stdout",
     "output_type": "stream",
     "text": [
      "The floor of square root of 28 is: 5\n"
     ]
    }
   ],
   "source": [
    "# brute force \n",
    "\n",
    "def floorSqrt(n):\n",
    "\n",
    "    ans = 0\n",
    "\n",
    "    for i in range(1,n+1):\n",
    "        val = i * i\n",
    "        if val <= n:\n",
    "            ans = i \n",
    "\n",
    "        else:\n",
    "            break\n",
    "\n",
    "    return ans\n",
    "\n",
    "n = 28\n",
    "ans = floorSqrt(n)\n",
    "print(\"The floor of square root of\", n, \"is:\", ans)"
   ]
  },
  {
   "cell_type": "code",
   "execution_count": 5,
   "metadata": {},
   "outputs": [
    {
     "name": "stdout",
     "output_type": "stream",
     "text": [
      "The floor of square root of 10000 is: 100\n"
     ]
    }
   ],
   "source": [
    "def floorsqrt(n):\n",
    "\n",
    "    low = 1\n",
    "    high = n\n",
    "    \n",
    "\n",
    "    while(low <= high):\n",
    "         mid = (low+high)//2\n",
    "\n",
    "         val = mid * mid \n",
    "         if val <= n:\n",
    "              low = mid + 1\n",
    "         else:\n",
    "              high = mid - 1\n",
    "    return high\n",
    "\n",
    "n = 10000\n",
    "ans = floorsqrt(n)\n",
    "print(\"The floor of square root of\", n, \"is:\", ans)"
   ]
  },
  {
   "cell_type": "markdown",
   "metadata": {},
   "source": [
    "find the nth root of an integer"
   ]
  },
  {
   "cell_type": "code",
   "execution_count": null,
   "metadata": {},
   "outputs": [],
   "source": []
  }
 ],
 "metadata": {
  "kernelspec": {
   "display_name": "Python 3",
   "language": "python",
   "name": "python3"
  },
  "language_info": {
   "codemirror_mode": {
    "name": "ipython",
    "version": 3
   },
   "file_extension": ".py",
   "mimetype": "text/x-python",
   "name": "python",
   "nbconvert_exporter": "python",
   "pygments_lexer": "ipython3",
   "version": "3.9.6"
  }
 },
 "nbformat": 4,
 "nbformat_minor": 2
}
