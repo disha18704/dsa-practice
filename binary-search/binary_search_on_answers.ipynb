{
 "cells": [
  {
   "cell_type": "markdown",
   "metadata": {},
   "source": [
    "Finding sqrt of a number using binary search"
   ]
  },
  {
   "cell_type": "code",
   "execution_count": 6,
   "metadata": {},
   "outputs": [
    {
     "name": "stdout",
     "output_type": "stream",
     "text": [
      "The floor of square root of 28 is: 5\n"
     ]
    }
   ],
   "source": [
    "# brute force \n",
    "\n",
    "def floorSqrt(n):\n",
    "\n",
    "    ans = 0\n",
    "\n",
    "    for i in range(1,n+1):\n",
    "        val = i * i\n",
    "        if val <= n:\n",
    "            ans = i \n",
    "\n",
    "        else:\n",
    "            break\n",
    "\n",
    "    return ans\n",
    "\n",
    "n = 28\n",
    "ans = floorSqrt(n)\n",
    "print(\"The floor of square root of\", n, \"is:\", ans)"
   ]
  },
  {
   "cell_type": "code",
   "execution_count": 5,
   "metadata": {},
   "outputs": [
    {
     "name": "stdout",
     "output_type": "stream",
     "text": [
      "The floor of square root of 10000 is: 100\n"
     ]
    }
   ],
   "source": [
    "def floorsqrt(n):\n",
    "\n",
    "    low = 1\n",
    "    high = n\n",
    "    \n",
    "\n",
    "    while(low <= high):\n",
    "         mid = (low+high)//2\n",
    "\n",
    "         val = mid * mid \n",
    "         if val <= n:\n",
    "              low = mid + 1\n",
    "         else:\n",
    "              high = mid - 1\n",
    "    return high\n",
    "\n",
    "n = 10000\n",
    "ans = floorsqrt(n)\n",
    "print(\"The floor of square root of\", n, \"is:\", ans)"
   ]
  },
  {
   "cell_type": "markdown",
   "metadata": {},
   "source": [
    "find the nth root of an integer"
   ]
  },
  {
   "cell_type": "markdown",
   "metadata": {},
   "source": [
    "Eliminate the halves accordingly: \n",
    "\n",
    "\n",
    "\n",
    "\n",
    "If func(n, m, mid) == 1: On satisfying this condition, we can conclude that the number ‘mid’ is our answer. So, we will return to ‘mid’.\n",
    "\n",
    "\n",
    "If func(n, m, mid) == 0: On satisfying this condition, we can conclude that the number ‘mid’ is smaller than our answer. So, we will eliminate the left half and consider the right half(i.e. low = mid+1).\n",
    "\n",
    "\n",
    "If func(n, m, mid) == 2: the value mid is larger than the number we want. This means the numbers greater than ‘mid’ will not be our answers and the right half of ‘mid’ consists of such numbers. So, we will eliminate the right half and consider the left half(i.e. high = mid-1)."
   ]
  },
  {
   "cell_type": "code",
   "execution_count": 3,
   "metadata": {},
   "outputs": [
    {
     "name": "stdout",
     "output_type": "stream",
     "text": [
      "The answer is: -1\n"
     ]
    }
   ],
   "source": [
    "def func(mid,n,m):\n",
    "    ans = 1\n",
    "    for i in range(1, n+1):\n",
    "        ans *= mid\n",
    "        if ans > m:\n",
    "            return 2\n",
    "    if ans == m:\n",
    "        return 1\n",
    "    return 0\n",
    "\n",
    "def nthroot(n,m):\n",
    "    low = 1\n",
    "    high = m\n",
    "\n",
    "\n",
    "    while low <= high:\n",
    "        mid = (low+high)//2\n",
    "        midN = func(mid,n,m)\n",
    "\n",
    "        if midN == 1:\n",
    "            return mid\n",
    "        elif midN == 0:\n",
    "            low = mid + 1\n",
    "        else:\n",
    "            high = mid - 1\n",
    "\n",
    "    return -1\n",
    "\n",
    "n = 3\n",
    "m = 69\n",
    "ans = nthroot(n, m)\n",
    "print(\"The answer is:\", ans)"
   ]
  },
  {
   "cell_type": "markdown",
   "metadata": {},
   "source": [
    "Koko Eating Bananas\n",
    "\n",
    "\n",
    "\n",
    "Problem Statement: A monkey is given ‘n’ piles of bananas, whereas the 'ith' pile has ‘a[i]’ bananas. An integer ‘h’ is also given, which denotes the time (in hours) for all the bananas to be eaten."
   ]
  },
  {
   "cell_type": "markdown",
   "metadata": {},
   "source": [
    "brute force"
   ]
  },
  {
   "cell_type": "code",
   "execution_count": 2,
   "metadata": {},
   "outputs": [
    {
     "name": "stdout",
     "output_type": "stream",
     "text": [
      "Koko should eat at least 5 bananas/hr.\n"
     ]
    }
   ],
   "source": [
    "import math \n",
    "\n",
    "def findMAX(v):\n",
    "    maxi = float('-inf')\n",
    "    n = len(v)\n",
    "\n",
    "\n",
    "    for i in range(n):\n",
    "        maxi = max(maxi,v[i])\n",
    "    return maxi \n",
    "\n",
    "\n",
    "def calcHours(v, hourly):\n",
    "    totalH = 0\n",
    "    n = len(v)\n",
    "\n",
    "    for i in range(n):\n",
    "        totalH += math.ceil(v[i] / hourly)\n",
    "\n",
    "    return totalH\n",
    "\n",
    "def minratetoeatbananas(v,h):\n",
    "\n",
    "    maxi = findMAX(v)\n",
    "    for i in range(1,maxi+1):\n",
    "        reqTime = calcHours(v,i)\n",
    "        if reqTime <= h:\n",
    "            return i\n",
    "        \n",
    "    return maxi\n",
    "\n",
    "v = [7, 15, 6, 3]\n",
    "h = 8\n",
    "ans = minratetoeatbananas(v, h)\n",
    "print(\"Koko should eat at least\", ans, \"bananas/hr.\")"
   ]
  },
  {
   "cell_type": "markdown",
   "metadata": {},
   "source": [
    "optimal"
   ]
  },
  {
   "cell_type": "code",
   "execution_count": 3,
   "metadata": {},
   "outputs": [
    {
     "name": "stdout",
     "output_type": "stream",
     "text": [
      "Koko should eat at least 5 bananas/hr.\n"
     ]
    }
   ],
   "source": [
    "import math\n",
    "\n",
    "def findMAX(v):\n",
    "    maxi = float('-inf')\n",
    "    n = len(v)\n",
    "    for i in range(n):\n",
    "        maxi = max(maxi,v[i])\n",
    "    return maxi\n",
    "\n",
    "\n",
    "def calcHours(v,hourly):\n",
    "    totalH = 0\n",
    "    n = len(v)\n",
    "\n",
    "\n",
    "    for i in range (n):\n",
    "        totalH += math.ceil(v[i] / hourly)\n",
    "\n",
    "    return totalH\n",
    "\n",
    "def minRatetoeatbananas(v,h):\n",
    "    low = 1\n",
    "    high = findMAX(v)\n",
    "\n",
    "    while(low<= high):\n",
    "        mid = (low+high)//2\n",
    "        totalH = calcHours(v,mid)\n",
    "        if totalH <= h:\n",
    "            high = mid - 1\n",
    "        else:\n",
    "            low = mid + 1\n",
    "\n",
    "    return low\n",
    "\n",
    "v = [7, 15, 6, 3]\n",
    "h = 8\n",
    "ans = minRatetoeatbananas(v, h)\n",
    "print(\"Koko should eat at least\", ans, \"bananas/hr.\")\n",
    "\n"
   ]
  },
  {
   "cell_type": "code",
   "execution_count": null,
   "metadata": {},
   "outputs": [],
   "source": []
  }
 ],
 "metadata": {
  "kernelspec": {
   "display_name": "Python 3",
   "language": "python",
   "name": "python3"
  },
  "language_info": {
   "codemirror_mode": {
    "name": "ipython",
    "version": 3
   },
   "file_extension": ".py",
   "mimetype": "text/x-python",
   "name": "python",
   "nbconvert_exporter": "python",
   "pygments_lexer": "ipython3",
   "version": "3.9.6"
  }
 },
 "nbformat": 4,
 "nbformat_minor": 2
}
