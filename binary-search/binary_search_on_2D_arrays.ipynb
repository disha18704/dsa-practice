{
 "cells": [
  {
   "cell_type": "markdown",
   "metadata": {},
   "source": [
    "Find the row with maximum number of 1's"
   ]
  },
  {
   "cell_type": "markdown",
   "metadata": {},
   "source": [
    "Problem Statement: You have been given a non-empty grid ‘mat’ with 'n' rows and 'm' columns consisting of only 0s and 1s. All the rows are sorted in ascending order.\n",
    "Your task is to find the index of the row with the maximum number of ones.\n",
    "Note: If two rows have the same number of ones, consider the one with a smaller index. If there's no row with at least 1 zero, return -1."
   ]
  },
  {
   "cell_type": "code",
   "execution_count": null,
   "metadata": {},
   "outputs": [
    {
     "name": "stdout",
     "output_type": "stream",
     "text": [
      "The row with maximum no. of 1's is: 0\n"
     ]
    }
   ],
   "source": [
    "# brute force\n",
    "\n",
    "def rowWithMax1s(matrix, n,m):\n",
    "    count_max = 0\n",
    "    index = -1\n",
    "\n",
    "    for i in range (n):\n",
    "        count_ones = sum(matrix[i])\n",
    "        if count_ones > count_max:\n",
    "            count_max = count_ones\n",
    "            index = i\n",
    "    return index\n",
    "\n",
    "if __name__ == \"__main__\":\n",
    "    matrix = [[1, 1, 1], [0, 0, 1], [0, 0, 0]]\n",
    "    n = 3\n",
    "    m = 3\n",
    "    print(\"The row with maximum no. of 1's is:\", rowWithMax1s(matrix, n, m))"
   ]
  },
  {
   "cell_type": "code",
   "execution_count": 4,
   "metadata": {},
   "outputs": [
    {
     "name": "stdout",
     "output_type": "stream",
     "text": [
      "The row with maximum no. of 1's is: 1\n"
     ]
    }
   ],
   "source": [
    "# optimal \n",
    "\n",
    "\n",
    "def lowerBound(arr,n,x):\n",
    "    low = 0\n",
    "    high = n-1 \n",
    "\n",
    "    ans = n\n",
    "\n",
    "    while low <= high:\n",
    "        mid = (low + high)// 2\n",
    "\n",
    "        if arr[mid] >= x:\n",
    "            ans = mid\n",
    "\n",
    "            high = mid - 1 \n",
    "        else:\n",
    "            low = mid + 1\n",
    "    return ans \n",
    "\n",
    "def rowWithMax1s(matrix,n,m):\n",
    "    count_max = 0\n",
    "    index = -1 \n",
    "\n",
    "    for i in range(n):\n",
    "        count_ones = m - lowerBound(matrix[i],m,1)\n",
    "        if count_ones > count_max:\n",
    "            count_max = count_ones\n",
    "            index = i\n",
    "    return index\n",
    "\n",
    "\n",
    "matrix = [[1, 0, 0], [1, 0, 1], [0, 0, 0]]\n",
    "n = 3\n",
    "m = 3\n",
    "print(\"The row with maximum no. of 1's is:\", rowWithMax1s(matrix, n, m))\n",
    "\n"
   ]
  },
  {
   "cell_type": "markdown",
   "metadata": {},
   "source": [
    "Search in a sorted 2D matrix\n",
    "\n",
    "\n",
    "\n",
    "\n",
    "Problem Statement: You have been given a 2-D array 'mat' of size 'N x M' where 'N' and 'M' denote the number of rows and columns, respectively. The elements of each row are sorted in non-decreasing order. Moreover, the first element of a row is greater than the last element of the previous row (if it exists). You are given an integer ‘target’, and your task is to find if it exists in the given 'mat' or not.\n"
   ]
  },
  {
   "cell_type": "markdown",
   "metadata": {},
   "source": [
    "Brute Force"
   ]
  },
  {
   "cell_type": "code",
   "execution_count": 2,
   "metadata": {},
   "outputs": [
    {
     "name": "stdout",
     "output_type": "stream",
     "text": [
      "3\n",
      "4\n",
      "true\n"
     ]
    }
   ],
   "source": [
    "def searchMatrix(matrix,target):\n",
    "    n = len(matrix)\n",
    "    print(n)\n",
    "    m = len(matrix[0])\n",
    "    print(m)\n",
    "\n",
    "    for i in range (n):\n",
    "        for j in range(m):\n",
    "            if matrix[i][j] == target:\n",
    "                return True\n",
    "            \n",
    "    return False\n",
    "\n",
    "matrix = [[1, 2, 3, 4], [5, 6, 7, 8], [9, 10, 11, 12]]\n",
    "result = searchMatrix(matrix, 8)\n",
    "print(\"true\" if result else \"false\")"
   ]
  },
  {
   "cell_type": "markdown",
   "metadata": {},
   "source": [
    "Optimal"
   ]
  },
  {
   "cell_type": "code",
   "execution_count": 3,
   "metadata": {},
   "outputs": [
    {
     "name": "stdout",
     "output_type": "stream",
     "text": [
      "true\n"
     ]
    }
   ],
   "source": [
    "def searchMatrix(matrix, target):\n",
    "    n = len(matrix)\n",
    "    m = len(matrix[0])\n",
    "\n",
    "    low = 0\n",
    "    high = n * m - 1\n",
    "\n",
    "    while low <= high:\n",
    "        mid = (low + high)//2\n",
    "        row = mid // m\n",
    "        col = mid % m\n",
    "        if matrix[row][col] == target:\n",
    "            return True\n",
    "        elif matrix[row][col] < target:\n",
    "            low = mid + 1\n",
    "        else:\n",
    "            high = mid - 1\n",
    "\n",
    "    return False\n",
    "\n",
    "matrix = [[1, 2, 3, 4], [5, 6, 7, 8], [9, 10, 11, 12]]\n",
    "result = searchMatrix(matrix, 8)\n",
    "print(\"true\" if result else \"false\")"
   ]
  },
  {
   "cell_type": "markdown",
   "metadata": {},
   "source": [
    "Search in a row and column-wise sorted matrix"
   ]
  },
  {
   "cell_type": "markdown",
   "metadata": {},
   "source": [
    "problem Statement: You have been given a 2-D array 'mat' of size 'N x M' where 'N' and 'M' denote the number of rows and columns, respectively. The elements of each row and each column are sorted in non-decreasing order.\n",
    "But, the first element of a row is not necessarily greater than the last element of the previous row (if it exists).\n",
    "You are given an integer ‘target’, and your task is to find if it exists in the given 'mat' or not."
   ]
  },
  {
   "cell_type": "code",
   "execution_count": 1,
   "metadata": {},
   "outputs": [
    {
     "name": "stdout",
     "output_type": "stream",
     "text": [
      "true\n"
     ]
    }
   ],
   "source": [
    "def searchEl(matrix,target):\n",
    "    n = len(matrix)\n",
    "    m = len(matrix[0])\n",
    "\n",
    "    for i in range (n):\n",
    "        for j in range(m):\n",
    "            if matrix[i][j] == target:\n",
    "                return True\n",
    "    return False\n",
    "\n",
    "\n",
    "matrix = [\n",
    "    [1, 4, 7, 11, 15],\n",
    "    [2, 5, 8, 12, 19],\n",
    "    [3, 6, 9, 16, 22],\n",
    "    [10, 13, 14, 17, 24],\n",
    "    [18, 21, 23, 26, 30]\n",
    "]\n",
    "\n",
    "result = searchEl(matrix, 8)\n",
    "print(\"true\" if result else \"false\")"
   ]
  },
  {
   "cell_type": "code",
   "execution_count": 3,
   "metadata": {},
   "outputs": [
    {
     "name": "stdout",
     "output_type": "stream",
     "text": [
      "true\n"
     ]
    }
   ],
   "source": [
    "def binarySearch(nums,target):\n",
    "    n = len(nums)\n",
    "    low = 0\n",
    "    high= n-1\n",
    "\n",
    "    while low <= high:\n",
    "        mid = (low+high)//2\n",
    "        if nums[mid] == target:\n",
    "            return True\n",
    "        elif target > nums[mid]:\n",
    "            low = mid + 1\n",
    "\n",
    "        else:\n",
    "            high = mid - 1\n",
    "        \n",
    "        return False\n",
    "    \n",
    "def searchEle(matrix,target):\n",
    "        n = len(matrix)\n",
    "\n",
    "        for i in range(n):\n",
    "            flag = binarySearch(matrix[i],target)\n",
    "            if flag:\n",
    "                return True\n",
    "        return False\n",
    "        \n",
    "\n",
    "matrix = [\n",
    "    [1, 4, 7, 11, 15],\n",
    "    [2, 5, 8, 12, 19],\n",
    "    [3, 6, 9, 16, 22],\n",
    "    [10, 13, 14, 17, 24],\n",
    "    [18, 21, 23, 26, 30]\n",
    "]\n",
    "\n",
    "result = searchEle(matrix, 8)\n",
    "print(\"true\" if result else \"false\")\n"
   ]
  },
  {
   "cell_type": "code",
   "execution_count": 5,
   "metadata": {},
   "outputs": [
    {
     "name": "stdout",
     "output_type": "stream",
     "text": [
      "true\n"
     ]
    }
   ],
   "source": [
    "def searchElem(matrix,target):\n",
    "    n = len(matrix)\n",
    "    m = len(matrix[0])\n",
    "\n",
    "    row = 0\n",
    "    col = m-1\n",
    "\n",
    "    while row < n and col >=0:\n",
    "        if matrix[row][col] == target:\n",
    "            return True\n",
    "        elif matrix[row][col] < target:\n",
    "            row += 1\n",
    "        else:\n",
    "            col -= 1\n",
    "\n",
    "    return False\n",
    "\n",
    "matrix = [\n",
    "    [1, 4, 7, 11, 15],\n",
    "    [2, 5, 8, 12, 19],\n",
    "    [3, 6, 9, 16, 22],\n",
    "    [10, 13, 14, 17, 24],\n",
    "    [18, 21, 23, 26, 30]\n",
    "]\n",
    "\n",
    "result = searchElem(matrix, 8)\n",
    "print(\"true\" if result else \"false\")"
   ]
  },
  {
   "cell_type": "code",
   "execution_count": null,
   "metadata": {},
   "outputs": [],
   "source": []
  }
 ],
 "metadata": {
  "kernelspec": {
   "display_name": "Python 3",
   "language": "python",
   "name": "python3"
  },
  "language_info": {
   "codemirror_mode": {
    "name": "ipython",
    "version": 3
   },
   "file_extension": ".py",
   "mimetype": "text/x-python",
   "name": "python",
   "nbconvert_exporter": "python",
   "pygments_lexer": "ipython3",
   "version": "3.9.6"
  }
 },
 "nbformat": 4,
 "nbformat_minor": 2
}
