{
 "cells": [
  {
   "cell_type": "markdown",
   "metadata": {},
   "source": [
    "Find the row with maximum number of 1's"
   ]
  },
  {
   "cell_type": "markdown",
   "metadata": {},
   "source": [
    "Problem Statement: You have been given a non-empty grid ‘mat’ with 'n' rows and 'm' columns consisting of only 0s and 1s. All the rows are sorted in ascending order.\n",
    "Your task is to find the index of the row with the maximum number of ones.\n",
    "Note: If two rows have the same number of ones, consider the one with a smaller index. If there's no row with at least 1 zero, return -1."
   ]
  },
  {
   "cell_type": "code",
   "execution_count": null,
   "metadata": {},
   "outputs": [
    {
     "name": "stdout",
     "output_type": "stream",
     "text": [
      "The row with maximum no. of 1's is: 0\n"
     ]
    }
   ],
   "source": [
    "# brute force\n",
    "\n",
    "def rowWithMax1s(matrix, n,m):\n",
    "    count_max = 0\n",
    "    index = -1\n",
    "\n",
    "    for i in range (n):\n",
    "        count_ones = sum(matrix[i])\n",
    "        if count_ones > count_max:\n",
    "            count_max = count_ones\n",
    "            index = i\n",
    "    return index\n",
    "\n",
    "if __name__ == \"__main__\":\n",
    "    matrix = [[1, 1, 1], [0, 0, 1], [0, 0, 0]]\n",
    "    n = 3\n",
    "    m = 3\n",
    "    print(\"The row with maximum no. of 1's is:\", rowWithMax1s(matrix, n, m))"
   ]
  },
  {
   "cell_type": "code",
   "execution_count": 4,
   "metadata": {},
   "outputs": [
    {
     "name": "stdout",
     "output_type": "stream",
     "text": [
      "The row with maximum no. of 1's is: 1\n"
     ]
    }
   ],
   "source": [
    "# optimal \n",
    "\n",
    "\n",
    "def lowerBound(arr,n,x):\n",
    "    low = 0\n",
    "    high = n-1 \n",
    "\n",
    "    ans = n\n",
    "\n",
    "    while low <= high:\n",
    "        mid = (low + high)// 2\n",
    "\n",
    "        if arr[mid] >= x:\n",
    "            ans = mid\n",
    "\n",
    "            high = mid - 1 \n",
    "        else:\n",
    "            low = mid + 1\n",
    "    return ans \n",
    "\n",
    "def rowWithMax1s(matrix,n,m):\n",
    "    count_max = 0\n",
    "    index = -1 \n",
    "\n",
    "    for i in range(n):\n",
    "        count_ones = m - lowerBound(matrix[i],m,1)\n",
    "        if count_ones > count_max:\n",
    "            count_max = count_ones\n",
    "            index = i\n",
    "    return index\n",
    "\n",
    "\n",
    "matrix = [[1, 0, 0], [1, 0, 1], [0, 0, 0]]\n",
    "n = 3\n",
    "m = 3\n",
    "print(\"The row with maximum no. of 1's is:\", rowWithMax1s(matrix, n, m))\n",
    "\n"
   ]
  },
  {
   "cell_type": "code",
   "execution_count": null,
   "metadata": {},
   "outputs": [],
   "source": []
  }
 ],
 "metadata": {
  "kernelspec": {
   "display_name": "Python 3",
   "language": "python",
   "name": "python3"
  },
  "language_info": {
   "codemirror_mode": {
    "name": "ipython",
    "version": 3
   },
   "file_extension": ".py",
   "mimetype": "text/x-python",
   "name": "python",
   "nbconvert_exporter": "python",
   "pygments_lexer": "ipython3",
   "version": "3.9.6"
  }
 },
 "nbformat": 4,
 "nbformat_minor": 2
}
