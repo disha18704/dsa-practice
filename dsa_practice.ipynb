{
 "cells": [
  {
   "cell_type": "code",
   "execution_count": 3,
   "metadata": {},
   "outputs": [
    {
     "name": "stdout",
     "output_type": "stream",
     "text": [
      "Note: you may need to restart the kernel to use updated packages.Collecting nose\n",
      "  Downloading nose-1.3.7-py3-none-any.whl.metadata (1.7 kB)\n",
      "Downloading nose-1.3.7-py3-none-any.whl (154 kB)\n",
      "   ---------------------------------------- 0.0/154.7 kB ? eta -:--:--\n",
      "   -- ------------------------------------- 10.2/154.7 kB ? eta -:--:--\n",
      "   ---------------------------------------  153.6/154.7 kB 2.3 MB/s eta 0:00:01\n",
      "   ---------------------------------------- 154.7/154.7 kB 1.9 MB/s eta 0:00:00\n",
      "Installing collected packages: nose\n",
      "Successfully installed nose-1.3.7\n",
      "\n"
     ]
    },
    {
     "name": "stderr",
     "output_type": "stream",
     "text": [
      "\n",
      "[notice] A new release of pip is available: 24.0 -> 24.2\n",
      "[notice] To update, run: C:\\Users\\divya\\AppData\\Local\\Microsoft\\WindowsApps\\PythonSoftwareFoundation.Python.3.11_qbz5n2kfra8p0\\python.exe -m pip install --upgrade pip\n"
     ]
    }
   ],
   "source": [
    "pip install nose"
   ]
  },
  {
   "cell_type": "code",
   "execution_count": 5,
   "metadata": {},
   "outputs": [],
   "source": [
    "def solution(num1,num2):\n",
    "    return num1+num2"
   ]
  },
  {
   "cell_type": "code",
   "execution_count": 9,
   "metadata": {},
   "outputs": [
    {
     "name": "stdout",
     "output_type": "stream",
     "text": [
      "ALL TEST CASES PASSED\n"
     ]
    }
   ],
   "source": [
    "from nose.tools import assert_equal \n",
    "\n",
    "class SolutionTest(object):\n",
    "\n",
    "    def test(self,sol):\n",
    "        assert_equal(sol(1,3),4)\n",
    "        assert_equal(sol(4,4),8)\n",
    "\n",
    "        print (\"ALL TEST CASES PASSED\")\n",
    "\n",
    "t=SolutionTest()\n",
    "t.test(solution)\n"
   ]
  },
  {
   "cell_type": "code",
   "execution_count": 7,
   "metadata": {},
   "outputs": [
    {
     "name": "stdout",
     "output_type": "stream",
     "text": [
      "[5, 4, 3, 2, 1]\n"
     ]
    }
   ],
   "source": [
    "\n",
    "\n",
    "def reverse(n):\n",
    "    start = 0\n",
    "    end = len(n)-1\n",
    "\n",
    "\n",
    "    while start < end:\n",
    "        n[start],n[end] = n[end],n[start]\n",
    "\n",
    "        start += 1\n",
    "        end -= 1\n",
    "\n",
    "    return n\n",
    "n = [1,2,3,4,5]\n",
    "print(reverse(n))\n",
    "\n"
   ]
  },
  {
   "cell_type": "code",
   "execution_count": 10,
   "metadata": {},
   "outputs": [
    {
     "name": "stdout",
     "output_type": "stream",
     "text": [
      "False\n",
      "True\n"
     ]
    }
   ],
   "source": [
    "# if a string is palindrome or not \n",
    "\n",
    "def palindrome(s):\n",
    "\n",
    "    original_str = s\n",
    "    reverse_str = reverse(s)\n",
    "\n",
    "    if original_str == reverse_str:\n",
    "        return True\n",
    "    return False\n",
    "\n",
    "\n",
    "def reverse(s):\n",
    "    data = list(s)\n",
    "\n",
    "    start = 0\n",
    "    end = len(data)-1\n",
    "\n",
    "\n",
    "    while(start < end):\n",
    "\n",
    "        data[start], data[end] = data[end], data[start]\n",
    "\n",
    "        start += 1\n",
    "        end -=1\n",
    "\n",
    "    return ''.join(data)\n",
    "\n",
    "\n",
    "print(palindrome(\"string\"))\n",
    "print(palindrome(\"radar\"))\n",
    "\n",
    "\n",
    "\n"
   ]
  },
  {
   "cell_type": "code",
   "execution_count": null,
   "metadata": {},
   "outputs": [],
   "source": []
  },
  {
   "cell_type": "code",
   "execution_count": 15,
   "metadata": {},
   "outputs": [
    {
     "name": "stdout",
     "output_type": "stream",
     "text": [
      "4321\n"
     ]
    }
   ],
   "source": [
    "n = 1234\n",
    "\n",
    "\n",
    "\n",
    "\n",
    "def reverse_integer(n):\n",
    "\n",
    "    reverse = 0\n",
    "\n",
    "    while n > 0:\n",
    "        remainder = n % 10\n",
    "\n",
    "        reverse = reverse * 10 + remainder \n",
    "\n",
    "        n = n//10\n",
    "\n",
    "    return reverse\n",
    "\n",
    "print(reverse_integer(n))\n",
    "\n",
    "\n",
    "\n",
    "\n"
   ]
  },
  {
   "cell_type": "code",
   "execution_count": 18,
   "metadata": {},
   "outputs": [
    {
     "name": "stdout",
     "output_type": "stream",
     "text": [
      "False\n"
     ]
    }
   ],
   "source": [
    "def anagram(str1, str2):\n",
    "\n",
    "    if len(str1) != len(str2):\n",
    "        return False\n",
    "   \n",
    "\n",
    "    str1 = sorted(str1)\n",
    "    str2 = sorted(str2)\n",
    "\n",
    "    for i in range(len(str1)):\n",
    "        if str1[i] != str2[i]:\n",
    "            return False\n",
    "    return True\n",
    "\n",
    "\n",
    "\n",
    "\n",
    "str1 = \"fluster\"\n",
    "\n",
    "str2 = \"resfkul\"\n",
    "\n",
    "print(anagram(str1, str2))"
   ]
  },
  {
   "cell_type": "markdown",
   "metadata": {},
   "source": [
    "The line from typing import List is used to import the List type from the typing module in Python. The typing module is part of Python's standard library and provides support for type hints, allowing you to specify the types of variables, function arguments, and return values.\n",
    "\n",
    "\n",
    " By importing List, you can annotate that a function expects a list of a specific type. For example, List[int] indicates a list where all elements are integers."
   ]
  },
  {
   "cell_type": "code",
   "execution_count": 21,
   "metadata": {},
   "outputs": [
    {
     "name": "stdout",
     "output_type": "stream",
     "text": [
      "10\n",
      "57\n"
     ]
    }
   ],
   "source": [
    "#largest element in an array\n",
    "#brute force\n",
    "#TC=O(nlog(n))\n",
    "#SC=o(n)\n",
    "\n",
    "from typing import List\n",
    "def sortArr(arr: List[int]) -> int:\n",
    "\n",
    "    arr.sort()\n",
    "    return arr[-1]\n",
    "if __name__ == \"__main__\":\n",
    "    arr1 = [2,3,7,10,6]\n",
    "    arr2 = [10,11,8,57,2,1,56,0]\n",
    "\n",
    "    print(sortArr(arr1))\n",
    "    print(sortArr(arr2))\n",
    "\n"
   ]
  },
  {
   "cell_type": "code",
   "execution_count": 23,
   "metadata": {},
   "outputs": [
    {
     "name": "stdout",
     "output_type": "stream",
     "text": [
      "9\n"
     ]
    }
   ],
   "source": [
    "#optimal approach - best one for this question\n",
    "#We can maintain a max variable that will update whenever the current value is greater than the value in the max variable.  \n",
    "# TC- O(n)\n",
    "# SC - O(1)\n",
    "\n",
    "def findLargestElement(arr,n):\n",
    "    largest_number = arr[0]\n",
    "\n",
    "    for i in range(0,n):\n",
    "        if(largest_number < arr[i]):\n",
    "            largest_number = arr[i]\n",
    "    return largest_number\n",
    "\n",
    "if __name__ == \"__main__\":\n",
    "    arr = [8,9,7,5,6]\n",
    "    n=5\n",
    "    print(findLargestElement(arr,n))\n"
   ]
  },
  {
   "cell_type": "markdown",
   "metadata": {},
   "source": [
    "Print second largest and smallest number in an array"
   ]
  },
  {
   "cell_type": "code",
   "execution_count": 29,
   "metadata": {},
   "outputs": [
    {
     "name": "stdout",
     "output_type": "stream",
     "text": [
      "1\n",
      "7\n"
     ]
    }
   ],
   "source": [
    "#Brute Force - works well when there is no duplicate\n",
    "\n",
    "def getElements(arr, n):\n",
    "    if n == 0 or n == 1:\n",
    "        print(-1, -1)\n",
    "        return\n",
    "    \n",
    "    arr.sort()\n",
    "    s_small = arr[1]  # Second smallest element\n",
    "    s_large = arr[-2]  # Second largest element\n",
    "\n",
    "    print(s_small)\n",
    "    print(s_large)\n",
    "\n",
    "if __name__ == '__main__':\n",
    "    arr = [1, 2, 8, 0, 5, 6, 7]\n",
    "    n = len(arr)\n",
    "    getElements(arr, n)\n"
   ]
  },
  {
   "cell_type": "code",
   "execution_count": 38,
   "metadata": {},
   "outputs": [
    {
     "name": "stdout",
     "output_type": "stream",
     "text": [
      "7\n",
      "4\n"
     ]
    }
   ],
   "source": [
    "#Better Solution\n",
    "# tc - O(n)\n",
    "# sc - O(1)\n",
    "\n",
    "def getElements(arr,n):\n",
    "    if n==0 or n==1:\n",
    "        return -1,-1\n",
    "    \n",
    "    small = float('inf')\n",
    "    second_small = float('inf')\n",
    "    large = float('-inf')\n",
    "    second_large = float('-inf')\n",
    "\n",
    "\n",
    "    for i in range(n):\n",
    "        small = min(small, arr[i])\n",
    "        large = max(large, arr[i])\n",
    "\n",
    "    for i in range(n):\n",
    "        if small < arr[i] < second_small:\n",
    "            second_small = arr[i]\n",
    "\n",
    "        if large > arr[i] > second_large :\n",
    "            second_large = arr[i]\n",
    "    return second_large, second_small\n",
    "\n",
    "if __name__ == '__main__':\n",
    "    arr = [9,7,5,4,1]\n",
    "    n = len(arr)\n",
    "    second_large, second_small=getElements(arr,n)\n",
    "\n",
    "    print(second_large)\n",
    "    print(second_small)\n",
    "    \n",
    "\n",
    "\n",
    "\n"
   ]
  },
  {
   "cell_type": "code",
   "execution_count": 45,
   "metadata": {},
   "outputs": [
    {
     "name": "stdout",
     "output_type": "stream",
     "text": [
      "4\n"
     ]
    }
   ],
   "source": [
    "#optimal solution\n",
    "# single traversal\n",
    "# TC=O(N)\n",
    "# sC = O(1)\n",
    "\n",
    "def second_smallest(arr, n):\n",
    "\n",
    "    if(n<2):\n",
    "        return -1\n",
    "    \n",
    "    small = float('inf')\n",
    "    second_small = float('inf')\n",
    "    \n",
    "    for i in range (n):\n",
    "        if (arr[i]< small):\n",
    "            second_small = small\n",
    "            small = arr[i]\n",
    "        if  arr[i] < second_small and arr[i] != small:\n",
    "            second_small = arr[i]\n",
    "    return second_small\n",
    "\n",
    "if __name__ == '__main__':\n",
    "    arr = [9,7,6,5,4,0]\n",
    "    n = len(arr)\n",
    "    second_small = second_smallest(arr,n)\n",
    "\n",
    "    print(second_small)"
   ]
  },
  {
   "cell_type": "code",
   "execution_count": 47,
   "metadata": {},
   "outputs": [
    {
     "name": "stdout",
     "output_type": "stream",
     "text": [
      "7\n"
     ]
    }
   ],
   "source": [
    "def second_largest(arr,n):\n",
    "    if n < 2:\n",
    "        return -1\n",
    "    \n",
    "    second_large = float('-inf')\n",
    "    large = float('-inf')\n",
    "\n",
    "    for i in range (n):\n",
    "        if arr[i] > large:\n",
    "            second_large = large\n",
    "            large = arr[i]\n",
    "\n",
    "        if  arr[i] >second_large and arr[i] != large:\n",
    "            second_large = arr[i]\n",
    "\n",
    "    return second_large\n",
    "\n",
    "if __name__ == '__main__':\n",
    "    arr =[9,7,6,4,3]\n",
    "    n = len(arr)\n",
    "\n",
    "    second_large = second_largest(arr,n)\n",
    "\n",
    "    print(second_large)\n"
   ]
  },
  {
   "cell_type": "markdown",
   "metadata": {},
   "source": [
    "check if the array is sorted or not "
   ]
  },
  {
   "cell_type": "code",
   "execution_count": 51,
   "metadata": {},
   "outputs": [
    {
     "name": "stdout",
     "output_type": "stream",
     "text": [
      "True\n"
     ]
    }
   ],
   "source": [
    "#Brute force\n",
    "# TC= O(n^2)\n",
    "# SC = O(1)\n",
    "def sortedArray(arr,n):\n",
    "    for i in range(n):\n",
    "        for j in range (i+1,n):\n",
    "            if arr[j] < arr[i]:\n",
    "                return False\n",
    "            return True\n",
    "        \n",
    "if __name__ == '__main__':\n",
    "    arr = [1,2,3,4,5]\n",
    "    n = len(arr)\n",
    "\n",
    "    ans = sortedArray(arr,n)\n",
    "\n",
    "    if ans:\n",
    "        print(\"True\")\n",
    "    else:\n",
    "        print(\"False\")\n",
    "\n",
    "\n",
    "    "
   ]
  },
  {
   "cell_type": "code",
   "execution_count": 52,
   "metadata": {},
   "outputs": [
    {
     "name": "stdout",
     "output_type": "stream",
     "text": [
      "True\n"
     ]
    }
   ],
   "source": [
    "# optimal approach \n",
    "# single traversal\n",
    "# TC = O(N)\n",
    "# SC = O(1)\n",
    "\n",
    "def sortedArray(arr,n):\n",
    "    for i in range (1,n):\n",
    "        if arr[i] < arr[i-1]:\n",
    "            return False\n",
    "        return True\n",
    "    \n",
    "if __name__ == '__main__':\n",
    "    arr = [4,5,6,7]\n",
    "    n = len(arr)\n",
    "\n",
    "    ans = sortedArray(arr,n)\n",
    "\n",
    "    if ans:\n",
    "        print(\"True\")\n",
    "\n",
    "\n",
    "    else:\n",
    "        print(\"False\")\n",
    "\n",
    "    "
   ]
  },
  {
   "cell_type": "markdown",
   "metadata": {},
   "source": [
    "Removes duplicated from a sorted array"
   ]
  },
  {
   "cell_type": "code",
   "execution_count": 56,
   "metadata": {},
   "outputs": [
    {
     "name": "stdout",
     "output_type": "stream",
     "text": [
      "1 2 3 "
     ]
    }
   ],
   "source": [
    "#optimal\n",
    "\n",
    "from typing import List\n",
    "\n",
    "def removeDuplicates(arr: List[int]) -> int:\n",
    "    \n",
    "    \n",
    "    i = 0\n",
    "    for j in range(1, len(arr)):\n",
    "        if arr[i] != arr[j]:\n",
    "            i +=1\n",
    "            arr[i] = arr[j]\n",
    "    return i+1\n",
    "\n",
    "if __name__ == \"__main__\":\n",
    "    arr = [1,1,2,2,2,2,3,3]\n",
    "    k = removeDuplicates(arr)\n",
    "    for i in range(k):\n",
    "        print(arr[i], end = \" \")"
   ]
  },
  {
   "cell_type": "markdown",
   "metadata": {},
   "source": [
    "Left Rotate the array by one "
   ]
  },
  {
   "cell_type": "code",
   "execution_count": 7,
   "metadata": {},
   "outputs": [
    {
     "name": "stdout",
     "output_type": "stream",
     "text": [
      "1 2 3 "
     ]
    }
   ],
   "source": [
    "# brute force\n",
    "\n",
    "from typing import List\n",
    "\n",
    "def removeDuplicates(arr: List[int]) -> int:\n",
    "    st = set()\n",
    "    for i in range(len(arr)):\n",
    "        st.add(arr[i])\n",
    "\n",
    "    k = len(st)\n",
    "    j =0\n",
    "    for x in st:\n",
    "        arr[j]= x\n",
    "        j += 1\n",
    "    return k\n",
    "    \n",
    "if __name__ == '__main__':\n",
    "    arr = [1,1,2,2,2,3,3,3,3]\n",
    "    k = removeDuplicates(arr)\n",
    "\n",
    "    for i in range(k):\n",
    "        print(arr[i], end = \" \")\n",
    "\n",
    "\n"
   ]
  },
  {
   "cell_type": "code",
   "execution_count": 9,
   "metadata": {},
   "outputs": [
    {
     "name": "stdout",
     "output_type": "stream",
     "text": [
      "1 2 3 "
     ]
    }
   ],
   "source": [
    "# optimal solution\n",
    "\n",
    "from typing import List\n",
    "\n",
    "def removeDuplicates(arr: List[int]) -> int:\n",
    "\n",
    "    i = 0\n",
    "\n",
    "    for j in range(1,len(arr)):\n",
    "        if arr[i] != arr[j]:\n",
    "            i+=1\n",
    "            arr[i] = arr[j]\n",
    "    return i + 1\n",
    "\n",
    "if __name__ == '__main__':\n",
    "    arr = [1,1,2,2,2,3,3]\n",
    "    k = removeDuplicates(arr)\n",
    "    for i in range(k):\n",
    "        print(arr[i], end = \" \")\n",
    "\n"
   ]
  },
  {
   "cell_type": "markdown",
   "metadata": {},
   "source": [
    "Left Rotate an Array by One"
   ]
  },
  {
   "cell_type": "code",
   "execution_count": 15,
   "metadata": {},
   "outputs": [
    {
     "name": "stdout",
     "output_type": "stream",
     "text": [
      "[2, 3, 4, 5, 1]\n"
     ]
    }
   ],
   "source": [
    "\n",
    "def rotateArray(arr,n):\n",
    "\n",
    "    temp = arr[0]\n",
    "\n",
    "    for i in range(1,n):\n",
    "        arr[i-1] = arr[i]\n",
    "\n",
    "    arr[n-1] = temp\n",
    "\n",
    "    return arr\n",
    "\n",
    "\n",
    "if __name__ == '__main__':\n",
    "    arr= [1,2,3,4,5]\n",
    "    n= len(arr)\n",
    "\n",
    "    print(rotateArray(arr,n))\n",
    "\n",
    "\n"
   ]
  },
  {
   "cell_type": "markdown",
   "metadata": {},
   "source": [
    "left rotate an array by D places"
   ]
  },
  {
   "cell_type": "code",
   "execution_count": 16,
   "metadata": {},
   "outputs": [
    {
     "name": "stdout",
     "output_type": "stream",
     "text": [
      "[3, 4, 5, 6, 7, 8, 1, 2]\n"
     ]
    }
   ],
   "source": [
    "# brute force \n",
    "\n",
    "def rotate_to_left(arr, n, k):\n",
    "    if n == 0:\n",
    "        return \n",
    "    \n",
    "\n",
    "    k = k % n\n",
    "\n",
    "    temp = arr[:k]\n",
    "\n",
    "    for i in range(k,n):\n",
    "        arr[i-k] = arr[i]\n",
    "\n",
    "    arr[n-k:] = temp\n",
    "\n",
    "if __name__ == '__main__':\n",
    "    arr = [1,2,3,4,5,6,7,8]\n",
    "    n= len(arr)\n",
    "    k=2\n",
    "    rotate_to_left(arr,n,k)\n",
    "    print(arr)\n"
   ]
  },
  {
   "cell_type": "markdown",
   "metadata": {},
   "source": [
    "Revision"
   ]
  },
  {
   "cell_type": "code",
   "execution_count": 5,
   "metadata": {},
   "outputs": [
    {
     "name": "stdout",
     "output_type": "stream",
     "text": [
      "[5, 4, 3, 2, 1]\n"
     ]
    }
   ],
   "source": [
    "def reverse(arr):\n",
    "\n",
    "    start = 0\n",
    "    end = len(arr)-1\n",
    "\n",
    "\n",
    "    while start < end:\n",
    "\n",
    "        arr[start] , arr[end] = arr[end], arr[start]\n",
    "\n",
    "        start += 1\n",
    "\n",
    "        end -= 1\n",
    "    return arr\n",
    "\n",
    "if __name__ == '__main__':\n",
    "    arr= [1,2,3,4,5]\n",
    "    print(reverse(arr))"
   ]
  },
  {
   "cell_type": "code",
   "execution_count": 8,
   "metadata": {},
   "outputs": [
    {
     "name": "stdout",
     "output_type": "stream",
     "text": [
      "True\n",
      "adir\n"
     ]
    }
   ],
   "source": [
    "#if a string is palindrome or not \n",
    "\n",
    "def palindrome(str):\n",
    "\n",
    "    original_string = str\n",
    "\n",
    "    reversed_string = reverse(str)\n",
    "\n",
    "    if original_string == reversed_string:\n",
    "\n",
    "        return True\n",
    "    return False\n",
    "    \n",
    "def reverse(str):\n",
    "\n",
    "    list_of_string = list(str)\n",
    "\n",
    "    start = 0\n",
    "    end = len(str)-1\n",
    "\n",
    "    while start < end:\n",
    "\n",
    "        list_of_string[start], list_of_string[end] = list_of_string[end],list_of_string[start]\n",
    "\n",
    "\n",
    "        start += 1\n",
    "        end -= 1\n",
    "\n",
    "    return ''.join(list_of_string)\n",
    "\n",
    "\n",
    "\n",
    "\n",
    "print(palindrome(\"radar\"))\n",
    "\n",
    "if __name__ == '__main__':\n",
    "    str = \"rida\"\n",
    "    print(reverse(str))\n",
    "\n",
    "\n",
    "\n",
    "    \n",
    "\n",
    "\n"
   ]
  },
  {
   "cell_type": "code",
   "execution_count": 9,
   "metadata": {},
   "outputs": [
    {
     "name": "stdout",
     "output_type": "stream",
     "text": [
      "765\n"
     ]
    }
   ],
   "source": [
    "# reverse an integer \n",
    "\n",
    "\n",
    "n = 567\n",
    "\n",
    "def reverse_integer(n):\n",
    "\n",
    "    reverse_int =0\n",
    "\n",
    "    while n >0:\n",
    "\n",
    "        remainder = n % 10\n",
    "\n",
    "        reverse_int = reverse_int *10 + remainder \n",
    "\n",
    "\n",
    "        n = n//10\n",
    "\n",
    "    return reverse_int\n",
    "\n",
    "print(reverse_integer(n))"
   ]
  },
  {
   "cell_type": "code",
   "execution_count": 14,
   "metadata": {},
   "outputs": [
    {
     "name": "stdout",
     "output_type": "stream",
     "text": [
      "False\n"
     ]
    }
   ],
   "source": [
    "# if it is an anagram\n",
    "\n",
    "def anagram(str1, str2):\n",
    "\n",
    "    if len(str1) != len(str2):\n",
    "        return False\n",
    "    \n",
    "\n",
    "    str1 = sorted(str1)\n",
    "\n",
    "    str2 = sorted(str2)\n",
    "\n",
    "\n",
    "    for i in range(len(str1)):\n",
    "        if str1[i] != str2[i]:\n",
    "            return False\n",
    "    return True\n",
    "    \n",
    "\n",
    "str1 = \"fluster\"\n",
    "str2 = \"reskful\"\n",
    "\n",
    "print(anagram(str1,str2))"
   ]
  },
  {
   "cell_type": "code",
   "execution_count": 13,
   "metadata": {},
   "outputs": [
    {
     "name": "stdout",
     "output_type": "stream",
     "text": [
      "False\n"
     ]
    }
   ],
   "source": []
  },
  {
   "cell_type": "code",
   "execution_count": null,
   "metadata": {},
   "outputs": [],
   "source": []
  }
 ],
 "metadata": {
  "kernelspec": {
   "display_name": "Python 3",
   "language": "python",
   "name": "python3"
  },
  "language_info": {
   "codemirror_mode": {
    "name": "ipython",
    "version": 3
   },
   "file_extension": ".py",
   "mimetype": "text/x-python",
   "name": "python",
   "nbconvert_exporter": "python",
   "pygments_lexer": "ipython3",
   "version": "3.11.9"
  }
 },
 "nbformat": 4,
 "nbformat_minor": 2
}
