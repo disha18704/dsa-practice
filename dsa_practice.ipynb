{
 "cells": [
  {
   "cell_type": "code",
   "execution_count": 3,
   "metadata": {},
   "outputs": [
    {
     "name": "stdout",
     "output_type": "stream",
     "text": [
      "Note: you may need to restart the kernel to use updated packages.Collecting nose\n",
      "  Downloading nose-1.3.7-py3-none-any.whl.metadata (1.7 kB)\n",
      "Downloading nose-1.3.7-py3-none-any.whl (154 kB)\n",
      "   ---------------------------------------- 0.0/154.7 kB ? eta -:--:--\n",
      "   -- ------------------------------------- 10.2/154.7 kB ? eta -:--:--\n",
      "   ---------------------------------------  153.6/154.7 kB 2.3 MB/s eta 0:00:01\n",
      "   ---------------------------------------- 154.7/154.7 kB 1.9 MB/s eta 0:00:00\n",
      "Installing collected packages: nose\n",
      "Successfully installed nose-1.3.7\n",
      "\n"
     ]
    },
    {
     "name": "stderr",
     "output_type": "stream",
     "text": [
      "\n",
      "[notice] A new release of pip is available: 24.0 -> 24.2\n",
      "[notice] To update, run: C:\\Users\\divya\\AppData\\Local\\Microsoft\\WindowsApps\\PythonSoftwareFoundation.Python.3.11_qbz5n2kfra8p0\\python.exe -m pip install --upgrade pip\n"
     ]
    }
   ],
   "source": [
    "pip install nose"
   ]
  },
  {
   "cell_type": "code",
   "execution_count": 5,
   "metadata": {},
   "outputs": [],
   "source": [
    "def solution(num1,num2):\n",
    "    return num1+num2"
   ]
  },
  {
   "cell_type": "code",
   "execution_count": 9,
   "metadata": {},
   "outputs": [
    {
     "name": "stdout",
     "output_type": "stream",
     "text": [
      "ALL TEST CASES PASSED\n"
     ]
    }
   ],
   "source": [
    "from nose.tools import assert_equal \n",
    "\n",
    "class SolutionTest(object):\n",
    "\n",
    "    def test(self,sol):\n",
    "        assert_equal(sol(1,3),4)\n",
    "        assert_equal(sol(4,4),8)\n",
    "\n",
    "        print (\"ALL TEST CASES PASSED\")\n",
    "\n",
    "t=SolutionTest()\n",
    "t.test(solution)\n"
   ]
  },
  {
   "cell_type": "code",
   "execution_count": 7,
   "metadata": {},
   "outputs": [
    {
     "name": "stdout",
     "output_type": "stream",
     "text": [
      "[5, 4, 3, 2, 1]\n"
     ]
    }
   ],
   "source": [
    "\n",
    "\n",
    "def reverse(n):\n",
    "    start = 0\n",
    "    end = len(n)-1\n",
    "\n",
    "\n",
    "    while start < end:\n",
    "        n[start],n[end] = n[end],n[start]\n",
    "\n",
    "        start += 1\n",
    "        end -= 1\n",
    "\n",
    "    return n\n",
    "n = [1,2,3,4,5]\n",
    "print(reverse(n))\n",
    "\n"
   ]
  },
  {
   "cell_type": "code",
   "execution_count": 10,
   "metadata": {},
   "outputs": [
    {
     "name": "stdout",
     "output_type": "stream",
     "text": [
      "False\n",
      "True\n"
     ]
    }
   ],
   "source": [
    "# if a string is palindrome or not \n",
    "\n",
    "def palindrome(s):\n",
    "\n",
    "    original_str = s\n",
    "    reverse_str = reverse(s)\n",
    "\n",
    "    if original_str == reverse_str:\n",
    "        return True\n",
    "    return False\n",
    "\n",
    "\n",
    "def reverse(s):\n",
    "    data = list(s)\n",
    "\n",
    "    start = 0\n",
    "    end = len(data)-1\n",
    "\n",
    "\n",
    "    while(start < end):\n",
    "\n",
    "        data[start], data[end] = data[end], data[start]\n",
    "\n",
    "        start += 1\n",
    "        end -=1\n",
    "\n",
    "    return ''.join(data)\n",
    "\n",
    "\n",
    "print(palindrome(\"string\"))\n",
    "print(palindrome(\"radar\"))\n",
    "\n",
    "\n",
    "\n"
   ]
  },
  {
   "cell_type": "code",
   "execution_count": null,
   "metadata": {},
   "outputs": [],
   "source": []
  },
  {
   "cell_type": "code",
   "execution_count": 15,
   "metadata": {},
   "outputs": [
    {
     "name": "stdout",
     "output_type": "stream",
     "text": [
      "4321\n"
     ]
    }
   ],
   "source": [
    "n = 1234\n",
    "\n",
    "\n",
    "\n",
    "\n",
    "def reverse_integer(n):\n",
    "\n",
    "    reverse = 0\n",
    "\n",
    "    while n > 0:\n",
    "        remainder = n % 10\n",
    "\n",
    "        reverse = reverse * 10 + remainder \n",
    "\n",
    "        n = n//10\n",
    "\n",
    "    return reverse\n",
    "\n",
    "print(reverse_integer(n))\n",
    "\n",
    "\n",
    "\n",
    "\n"
   ]
  },
  {
   "cell_type": "code",
   "execution_count": 18,
   "metadata": {},
   "outputs": [
    {
     "name": "stdout",
     "output_type": "stream",
     "text": [
      "False\n"
     ]
    }
   ],
   "source": [
    "def anagram(str1, str2):\n",
    "\n",
    "    if len(str1) != len(str2):\n",
    "        return False\n",
    "   \n",
    "\n",
    "    str1 = sorted(str1)\n",
    "    str2 = sorted(str2)\n",
    "\n",
    "    for i in range(len(str1)):\n",
    "        if str1[i] != str2[i]:\n",
    "            return False\n",
    "    return True\n",
    "\n",
    "\n",
    "\n",
    "\n",
    "str1 = \"fluster\"\n",
    "\n",
    "str2 = \"resfkul\"\n",
    "\n",
    "print(anagram(str1, str2))"
   ]
  },
  {
   "cell_type": "markdown",
   "metadata": {},
   "source": [
    "The line from typing import List is used to import the List type from the typing module in Python. The typing module is part of Python's standard library and provides support for type hints, allowing you to specify the types of variables, function arguments, and return values.\n",
    "\n",
    "\n",
    " By importing List, you can annotate that a function expects a list of a specific type. For example, List[int] indicates a list where all elements are integers."
   ]
  },
  {
   "cell_type": "code",
   "execution_count": 21,
   "metadata": {},
   "outputs": [
    {
     "name": "stdout",
     "output_type": "stream",
     "text": [
      "10\n",
      "57\n"
     ]
    }
   ],
   "source": [
    "#largest element in an array\n",
    "#brute force\n",
    "#TC=O(nlog(n))\n",
    "#SC=o(n)\n",
    "\n",
    "from typing import List\n",
    "def sortArr(arr: List[int]) -> int:\n",
    "\n",
    "    arr.sort()\n",
    "    return arr[-1]\n",
    "if __name__ == \"__main__\":\n",
    "    arr1 = [2,3,7,10,6]\n",
    "    arr2 = [10,11,8,57,2,1,56,0]\n",
    "\n",
    "    print(sortArr(arr1))\n",
    "    print(sortArr(arr2))\n",
    "\n"
   ]
  },
  {
   "cell_type": "code",
   "execution_count": 23,
   "metadata": {},
   "outputs": [
    {
     "name": "stdout",
     "output_type": "stream",
     "text": [
      "9\n"
     ]
    }
   ],
   "source": [
    "#optimal approach - best one for this question\n",
    "#We can maintain a max variable that will update whenever the current value is greater than the value in the max variable.  \n",
    "# TC- O(n)\n",
    "# SC - O(1)\n",
    "\n",
    "def findLargestElement(arr,n):\n",
    "    largest_number = arr[0]\n",
    "\n",
    "    for i in range(0,n):\n",
    "        if(largest_number < arr[i]):\n",
    "            largest_number = arr[i]\n",
    "    return largest_number\n",
    "\n",
    "if __name__ == \"__main__\":\n",
    "    arr = [8,9,7,5,6]\n",
    "    n=5\n",
    "    print(findLargestElement(arr,n))\n"
   ]
  },
  {
   "cell_type": "markdown",
   "metadata": {},
   "source": [
    "Print second largest and smallest number in an array"
   ]
  },
  {
   "cell_type": "code",
   "execution_count": 29,
   "metadata": {},
   "outputs": [
    {
     "name": "stdout",
     "output_type": "stream",
     "text": [
      "1\n",
      "7\n"
     ]
    }
   ],
   "source": [
    "#Brute Force - works well when there is no duplicate\n",
    "\n",
    "def getElements(arr, n):\n",
    "    if n == 0 or n == 1:\n",
    "        print(-1, -1)\n",
    "        return\n",
    "    \n",
    "    arr.sort()\n",
    "    s_small = arr[1]  # Second smallest element\n",
    "    s_large = arr[-2]  # Second largest element\n",
    "\n",
    "    print(s_small)\n",
    "    print(s_large)\n",
    "\n",
    "if __name__ == '__main__':\n",
    "    arr = [1, 2, 8, 0, 5, 6, 7]\n",
    "    n = len(arr)\n",
    "    getElements(arr, n)\n"
   ]
  },
  {
   "cell_type": "code",
   "execution_count": 38,
   "metadata": {},
   "outputs": [
    {
     "name": "stdout",
     "output_type": "stream",
     "text": [
      "7\n",
      "4\n"
     ]
    }
   ],
   "source": [
    "#Better Solution\n",
    "# tc - O(n)\n",
    "# sc - O(1)\n",
    "\n",
    "def getElements(arr,n):\n",
    "    if n==0 or n==1:\n",
    "        return -1,-1\n",
    "    \n",
    "    small = float('inf')\n",
    "    second_small = float('inf')\n",
    "    large = float('-inf')\n",
    "    second_large = float('-inf')\n",
    "\n",
    "\n",
    "    for i in range(n):\n",
    "        small = min(small, arr[i])\n",
    "        large = max(large, arr[i])\n",
    "\n",
    "    for i in range(n):\n",
    "        if small < arr[i] < second_small:\n",
    "            second_small = arr[i]\n",
    "\n",
    "        if large > arr[i] > second_large :\n",
    "            second_large = arr[i]\n",
    "    return second_large, second_small\n",
    "\n",
    "if __name__ == '__main__':\n",
    "    arr = [9,7,5,4,1]\n",
    "    n = len(arr)\n",
    "    second_large, second_small=getElements(arr,n)\n",
    "\n",
    "    print(second_large)\n",
    "    print(second_small)\n",
    "    \n",
    "\n",
    "\n",
    "\n"
   ]
  },
  {
   "cell_type": "code",
   "execution_count": 45,
   "metadata": {},
   "outputs": [
    {
     "name": "stdout",
     "output_type": "stream",
     "text": [
      "4\n"
     ]
    }
   ],
   "source": [
    "#optimal solution\n",
    "# single traversal\n",
    "# TC=O(N)\n",
    "# sC = O(1)\n",
    "\n",
    "def second_smallest(arr, n):\n",
    "\n",
    "    if(n<2):\n",
    "        return -1\n",
    "    \n",
    "    small = float('inf')\n",
    "    second_small = float('inf')\n",
    "    \n",
    "    for i in range (n):\n",
    "        if (arr[i]< small):\n",
    "            second_small = small\n",
    "            small = arr[i]\n",
    "        if  arr[i] < second_small and arr[i] != small:\n",
    "            second_small = arr[i]\n",
    "    return second_small\n",
    "\n",
    "if __name__ == '__main__':\n",
    "    arr = [9,7,6,5,4,0]\n",
    "    n = len(arr)\n",
    "    second_small = second_smallest(arr,n)\n",
    "\n",
    "    print(second_small)"
   ]
  },
  {
   "cell_type": "code",
   "execution_count": 47,
   "metadata": {},
   "outputs": [
    {
     "name": "stdout",
     "output_type": "stream",
     "text": [
      "7\n"
     ]
    }
   ],
   "source": [
    "def second_largest(arr,n):\n",
    "    if n < 2:\n",
    "        return -1\n",
    "    \n",
    "    second_large = float('-inf')\n",
    "    large = float('-inf')\n",
    "\n",
    "    for i in range (n):\n",
    "        if arr[i] > large:\n",
    "            second_large = large\n",
    "            large = arr[i]\n",
    "\n",
    "        if  arr[i] >second_large and arr[i] != large:\n",
    "            second_large = arr[i]\n",
    "\n",
    "    return second_large\n",
    "\n",
    "if __name__ == '__main__':\n",
    "    arr =[9,7,6,4,3]\n",
    "    n = len(arr)\n",
    "\n",
    "    second_large = second_largest(arr,n)\n",
    "\n",
    "    print(second_large)\n"
   ]
  },
  {
   "cell_type": "markdown",
   "metadata": {},
   "source": [
    "check if the array is sorted or not "
   ]
  },
  {
   "cell_type": "code",
   "execution_count": 51,
   "metadata": {},
   "outputs": [
    {
     "name": "stdout",
     "output_type": "stream",
     "text": [
      "True\n"
     ]
    }
   ],
   "source": [
    "#Brute force\n",
    "# TC= O(n^2)\n",
    "# SC = O(1)\n",
    "def sortedArray(arr,n):\n",
    "    for i in range(n):\n",
    "        for j in range (i+1,n):\n",
    "            if arr[j] < arr[i]:\n",
    "                return False\n",
    "            return True\n",
    "        \n",
    "if __name__ == '__main__':\n",
    "    arr = [1,2,3,4,5]\n",
    "    n = len(arr)\n",
    "\n",
    "    ans = sortedArray(arr,n)\n",
    "\n",
    "    if ans:\n",
    "        print(\"True\")\n",
    "    else:\n",
    "        print(\"False\")\n",
    "\n",
    "\n",
    "    "
   ]
  },
  {
   "cell_type": "code",
   "execution_count": 52,
   "metadata": {},
   "outputs": [
    {
     "name": "stdout",
     "output_type": "stream",
     "text": [
      "True\n"
     ]
    }
   ],
   "source": [
    "# optimal approach \n",
    "# single traversal\n",
    "# TC = O(N)\n",
    "# SC = O(1)\n",
    "\n",
    "def sortedArray(arr,n):\n",
    "    for i in range (1,n):\n",
    "        if arr[i] < arr[i-1]:\n",
    "            return False\n",
    "        return True\n",
    "    \n",
    "if __name__ == '__main__':\n",
    "    arr = [4,5,6,7]\n",
    "    n = len(arr)\n",
    "\n",
    "    ans = sortedArray(arr,n)\n",
    "\n",
    "    if ans:\n",
    "        print(\"True\")\n",
    "\n",
    "\n",
    "    else:\n",
    "        print(\"False\")\n",
    "\n",
    "    "
   ]
  },
  {
   "cell_type": "markdown",
   "metadata": {},
   "source": [
    "Removes duplicated from a sorted array"
   ]
  },
  {
   "cell_type": "code",
   "execution_count": 56,
   "metadata": {},
   "outputs": [
    {
     "name": "stdout",
     "output_type": "stream",
     "text": [
      "1 2 3 "
     ]
    }
   ],
   "source": [
    "#optimal\n",
    "\n",
    "from typing import List\n",
    "\n",
    "def removeDuplicates(arr: List[int]) -> int:\n",
    "    \n",
    "    \n",
    "    i = 0\n",
    "    for j in range(1, len(arr)):\n",
    "        if arr[i] != arr[j]:\n",
    "            i +=1\n",
    "            arr[i] = arr[j]\n",
    "    return i+1\n",
    "\n",
    "if __name__ == \"__main__\":\n",
    "    arr = [1,1,2,2,2,2,3,3]\n",
    "    k = removeDuplicates(arr)\n",
    "    for i in range(k):\n",
    "        print(arr[i], end = \" \")"
   ]
  },
  {
   "cell_type": "markdown",
   "metadata": {},
   "source": [
    "Left Rotate the array by one "
   ]
  },
  {
   "cell_type": "code",
   "execution_count": 7,
   "metadata": {},
   "outputs": [
    {
     "name": "stdout",
     "output_type": "stream",
     "text": [
      "1 2 3 "
     ]
    }
   ],
   "source": [
    "# brute force\n",
    "\n",
    "from typing import List\n",
    "\n",
    "def removeDuplicates(arr: List[int]) -> int:\n",
    "    st = set()\n",
    "    for i in range(len(arr)):\n",
    "        st.add(arr[i])\n",
    "\n",
    "    k = len(st)\n",
    "    j =0\n",
    "    for x in st:\n",
    "        arr[j]= x\n",
    "        j += 1\n",
    "    return k\n",
    "    \n",
    "if __name__ == '__main__':\n",
    "    arr = [1,1,2,2,2,3,3,3,3]\n",
    "    k = removeDuplicates(arr)\n",
    "\n",
    "    for i in range(k):\n",
    "        print(arr[i], end = \" \")\n",
    "\n",
    "\n"
   ]
  },
  {
   "cell_type": "code",
   "execution_count": 9,
   "metadata": {},
   "outputs": [
    {
     "name": "stdout",
     "output_type": "stream",
     "text": [
      "1 2 3 "
     ]
    }
   ],
   "source": [
    "# optimal solution\n",
    "\n",
    "from typing import List\n",
    "\n",
    "def removeDuplicates(arr: List[int]) -> int:\n",
    "\n",
    "    i = 0\n",
    "\n",
    "    for j in range(1,len(arr)):\n",
    "        if arr[i] != arr[j]:\n",
    "            i+=1\n",
    "            arr[i] = arr[j]\n",
    "    return i + 1\n",
    "\n",
    "if __name__ == '__main__':\n",
    "    arr = [1,1,2,2,2,3,3]\n",
    "    k = removeDuplicates(arr)\n",
    "    for i in range(k):\n",
    "        print(arr[i], end = \" \")\n",
    "\n"
   ]
  },
  {
   "cell_type": "markdown",
   "metadata": {},
   "source": [
    "Left Rotate an Array by One"
   ]
  },
  {
   "cell_type": "code",
   "execution_count": 15,
   "metadata": {},
   "outputs": [
    {
     "name": "stdout",
     "output_type": "stream",
     "text": [
      "[2, 3, 4, 5, 1]\n"
     ]
    }
   ],
   "source": [
    "\n",
    "def rotateArray(arr,n):\n",
    "\n",
    "    temp = arr[0]\n",
    "\n",
    "    for i in range(1,n):\n",
    "        arr[i-1] = arr[i]\n",
    "\n",
    "    arr[n-1] = temp\n",
    "\n",
    "    return arr\n",
    "\n",
    "\n",
    "if __name__ == '__main__':\n",
    "    arr= [1,2,3,4,5]\n",
    "    n= len(arr)\n",
    "\n",
    "    print(rotateArray(arr,n))\n",
    "\n",
    "\n"
   ]
  },
  {
   "cell_type": "markdown",
   "metadata": {},
   "source": [
    "left rotate an array by D places"
   ]
  },
  {
   "cell_type": "code",
   "execution_count": 16,
   "metadata": {},
   "outputs": [
    {
     "name": "stdout",
     "output_type": "stream",
     "text": [
      "[3, 4, 5, 6, 7, 8, 1, 2]\n"
     ]
    }
   ],
   "source": [
    "# brute force \n",
    "\n",
    "def rotate_to_left(arr, n, k):\n",
    "    if n == 0:\n",
    "        return \n",
    "    \n",
    "\n",
    "    k = k % n\n",
    "\n",
    "    temp = arr[:k]\n",
    "\n",
    "    for i in range(k,n):\n",
    "        arr[i-k] = arr[i]\n",
    "\n",
    "    arr[n-k:] = temp\n",
    "\n",
    "if __name__ == '__main__':\n",
    "    arr = [1,2,3,4,5,6,7,8]\n",
    "    n= len(arr)\n",
    "    k=2\n",
    "    rotate_to_left(arr,n,k)\n",
    "    print(arr)\n"
   ]
  },
  {
   "cell_type": "code",
   "execution_count": 18,
   "metadata": {},
   "outputs": [
    {
     "name": "stdout",
     "output_type": "stream",
     "text": [
      "[3, 4, 5, 6, 7, 1, 2]\n"
     ]
    }
   ],
   "source": [
    "# optimal solution\n",
    "\n",
    "def reverse (arr,start,end):\n",
    "    \n",
    "\n",
    "    while start < end:\n",
    "        arr[start], arr[end] = arr[end], arr[start]\n",
    "        start += 1\n",
    "        end -=1\n",
    "\n",
    "def rotate_to_left(arr,n,k):\n",
    "    reverse(arr, 0,k-1)\n",
    "\n",
    "    reverse(arr,k,n-1)\n",
    "\n",
    "    reverse(arr, 0,n-1)\n",
    "\n",
    "if __name__ == '__main__':\n",
    "    arr = [1,2,3,4,5,6,7]\n",
    "    n = len(arr)\n",
    "    k = 2\n",
    "    rotate_to_left(arr,n,k)\n",
    "    print(arr)"
   ]
  },
  {
   "cell_type": "markdown",
   "metadata": {},
   "source": [
    "Moves Zeros to the end"
   ]
  },
  {
   "cell_type": "code",
   "execution_count": 20,
   "metadata": {},
   "outputs": [
    {
     "name": "stdout",
     "output_type": "stream",
     "text": [
      "1 2 9 8 7 4 5 1 0 0 0 0 0 \n"
     ]
    }
   ],
   "source": [
    "#brute force \n",
    "\n",
    "# TC-O(N) + O(X) + O(N-X) ~ O(2*N), where N = total no. of elements,\n",
    "# X = no. of non-zero elements, and N-X = total no. of zeros.\n",
    "# Reason: O(N) for copying non-zero elements from the original to the temporary array. O(X) for again copying it back from the temporary to the original array. O(N-X) for filling zeros in the original array.\n",
    "#  So, the total time complexity will be O(2*N).\n",
    "# Sc - O(N)\n",
    "\n",
    "def moveZeros(n:int, arr:[int]) -> int:\n",
    "\n",
    "    temp = []\n",
    "\n",
    "    for i in range(n):\n",
    "        if arr[i] != 0:\n",
    "            temp.append(arr[i])\n",
    "\n",
    "    non_zero_len = len(temp)\n",
    "\n",
    "    for i in range(non_zero_len):\n",
    "        arr[i] = temp[i]\n",
    "\n",
    "    for i in range(non_zero_len,n):\n",
    "        arr[i] = 0\n",
    "\n",
    "    return arr\n",
    "\n",
    "\n",
    "arr = [1,0,2,9,8,7,0,4,0,0,0,5,1]\n",
    "n = len(arr)\n",
    "ans = moveZeros(n,arr)\n",
    "\n",
    "for it in ans:\n",
    "    print(it,end=\" \")\n",
    "print()\n",
    "\n",
    "\n"
   ]
  },
  {
   "cell_type": "code",
   "execution_count": 23,
   "metadata": {},
   "outputs": [
    {
     "name": "stdout",
     "output_type": "stream",
     "text": [
      "1 9 8 6 0 0 0 0 0 \n"
     ]
    }
   ],
   "source": [
    "# optimal approach\n",
    "\n",
    "# o(n)\n",
    "# o(1)\n",
    "\n",
    "def moveZeros(n: int, a:[int]) -> int:\n",
    "\n",
    "    j = -1\n",
    "\n",
    "    for i in range (n):\n",
    "        if a[i] == 0:\n",
    "            j =i\n",
    "            break\n",
    "\n",
    "    if j == -1:\n",
    "        return a\n",
    "    \n",
    "    for i in range(j + 1, n):\n",
    "        if a[i] != 0:\n",
    "            a[i], a[j] = a[j] , a[i]\n",
    "            j += 1\n",
    "\n",
    "    return a\n",
    "\n",
    "\n",
    "arr = [1,0,0,0,9,8,0,6,0]\n",
    "n = len(arr)\n",
    "ans = moveZeros(n,arr)\n",
    "\n",
    "for it in ans:\n",
    "    print(it, end = ' ')\n",
    "print()\n"
   ]
  },
  {
   "cell_type": "markdown",
   "metadata": {},
   "source": [
    "Linear search"
   ]
  },
  {
   "cell_type": "code",
   "execution_count": 32,
   "metadata": {},
   "outputs": [
    {
     "name": "stdout",
     "output_type": "stream",
     "text": [
      "2\n"
     ]
    }
   ],
   "source": [
    "def linearSearch(n:int, arr:[int],num:int) -> int:\n",
    "\n",
    "    for i in range(n):\n",
    "        if arr[i] == num:\n",
    "            return i\n",
    "        \n",
    "    return -1\n",
    "    \n",
    "\n",
    "if __name__ == '__main__':\n",
    "    arr = [2,3,4,5,2]\n",
    "    n = len(arr)\n",
    "    num = 4\n",
    "    ans = linearSearch(n,arr,num)     \n",
    "\n",
    "\n",
    "print(ans)"
   ]
  },
  {
   "cell_type": "markdown",
   "metadata": {},
   "source": [
    "Union of two sorted arrays"
   ]
  },
  {
   "cell_type": "code",
   "execution_count": 37,
   "metadata": {},
   "outputs": [
    {
     "name": "stdout",
     "output_type": "stream",
     "text": [
      "[0, 1, 2, 3, 4, 5, 6, 7, 8, 9]\n"
     ]
    }
   ],
   "source": [
    "def find_union(arr1,arr2):\n",
    "\n",
    "    s = set()\n",
    "    union = []\n",
    "\n",
    "    for num in arr1:\n",
    "        s.add(num)\n",
    "\n",
    "    for num in arr2:\n",
    "        s.add(num)\n",
    "\n",
    "    for num in s:\n",
    "        union.append(num)\n",
    "\n",
    "    return union\n",
    "\n",
    "\n",
    "\n",
    "arr1 = [1,2,2,3,4,5,5,4]\n",
    "arr2=  [1,2,3,9,8,0,6,7]\n",
    "\n",
    "union = find_union(arr1,arr2)\n",
    "\n",
    "print(union)"
   ]
  },
  {
   "cell_type": "code",
   "execution_count": 30,
   "metadata": {},
   "outputs": [
    {
     "name": "stdout",
     "output_type": "stream",
     "text": [
      "3\n"
     ]
    }
   ],
   "source": [
    "def linear_search(arr,n,num):\n",
    "\n",
    "    for i in range (n):\n",
    "\n",
    "        if arr[i] == num:\n",
    "\n",
    "            return i\n",
    "        \n",
    "    return -1\n",
    "    \n",
    "arr = [1,2,3,4,5]\n",
    "num = 4\n",
    "n = len(arr)\n",
    "\n",
    "ans = linear_search(arr,n,num)\n",
    "\n",
    "print(ans)\n",
    "        \n",
    "\n"
   ]
  },
  {
   "cell_type": "markdown",
   "metadata": {},
   "source": [
    "Revision"
   ]
  },
  {
   "cell_type": "code",
   "execution_count": 5,
   "metadata": {},
   "outputs": [
    {
     "name": "stdout",
     "output_type": "stream",
     "text": [
      "[5, 4, 3, 2, 1]\n"
     ]
    }
   ],
   "source": [
    "def reverse(arr):\n",
    "\n",
    "    start = 0\n",
    "    end = len(arr)-1\n",
    "\n",
    "\n",
    "    while start < end:\n",
    "\n",
    "        arr[start] , arr[end] = arr[end], arr[start]\n",
    "\n",
    "        start += 1\n",
    "\n",
    "        end -= 1\n",
    "    return arr\n",
    "\n",
    "if __name__ == '__main__':\n",
    "    arr= [1,2,3,4,5]\n",
    "    print(reverse(arr))"
   ]
  },
  {
   "cell_type": "code",
   "execution_count": 8,
   "metadata": {},
   "outputs": [
    {
     "name": "stdout",
     "output_type": "stream",
     "text": [
      "True\n",
      "adir\n"
     ]
    }
   ],
   "source": [
    "#if a string is palindrome or not \n",
    "\n",
    "def palindrome(str):\n",
    "\n",
    "    original_string = str\n",
    "\n",
    "    reversed_string = reverse(str)\n",
    "\n",
    "    if original_string == reversed_string:\n",
    "\n",
    "        return True\n",
    "    return False\n",
    "    \n",
    "def reverse(str):\n",
    "\n",
    "    list_of_string = list(str)\n",
    "\n",
    "    start = 0\n",
    "    end = len(str)-1\n",
    "\n",
    "    while start < end:\n",
    "\n",
    "        list_of_string[start], list_of_string[end] = list_of_string[end],list_of_string[start]\n",
    "\n",
    "\n",
    "        start += 1\n",
    "        end -= 1\n",
    "\n",
    "    return ''.join(list_of_string)\n",
    "\n",
    "\n",
    "\n",
    "\n",
    "print(palindrome(\"radar\"))\n",
    "\n",
    "if __name__ == '__main__':\n",
    "    str = \"rida\"\n",
    "    print(reverse(str))\n",
    "\n",
    "\n",
    "\n",
    "    \n",
    "\n",
    "\n"
   ]
  },
  {
   "cell_type": "code",
   "execution_count": 9,
   "metadata": {},
   "outputs": [
    {
     "name": "stdout",
     "output_type": "stream",
     "text": [
      "765\n"
     ]
    }
   ],
   "source": [
    "# reverse an integer \n",
    "\n",
    "\n",
    "n = 567\n",
    "\n",
    "def reverse_integer(n):\n",
    "\n",
    "    reverse_int =0\n",
    "\n",
    "    while n >0:\n",
    "\n",
    "        remainder = n % 10\n",
    "\n",
    "        reverse_int = reverse_int *10 + remainder \n",
    "\n",
    "\n",
    "        n = n//10\n",
    "\n",
    "    return reverse_int\n",
    "\n",
    "print(reverse_integer(n))"
   ]
  },
  {
   "cell_type": "code",
   "execution_count": 14,
   "metadata": {},
   "outputs": [
    {
     "name": "stdout",
     "output_type": "stream",
     "text": [
      "False\n"
     ]
    }
   ],
   "source": [
    "# if it is an anagram\n",
    "\n",
    "def anagram(str1, str2):\n",
    "\n",
    "    if len(str1) != len(str2):\n",
    "        return False\n",
    "    \n",
    "\n",
    "    str1 = sorted(str1)\n",
    "\n",
    "    str2 = sorted(str2)\n",
    "\n",
    "\n",
    "    for i in range(len(str1)):\n",
    "        if str1[i] != str2[i]:\n",
    "            return False\n",
    "    return True\n",
    "    \n",
    "\n",
    "str1 = \"fluster\"\n",
    "str2 = \"reskful\"\n",
    "\n",
    "print(anagram(str1,str2))"
   ]
  },
  {
   "cell_type": "code",
   "execution_count": 1,
   "metadata": {},
   "outputs": [
    {
     "name": "stdout",
     "output_type": "stream",
     "text": [
      "9\n"
     ]
    }
   ],
   "source": [
    "#find the largest number \n",
    "\n",
    "def findLagestElements(arr,n):\n",
    "\n",
    "    largest = arr[0]\n",
    "\n",
    "    for i in range (n):\n",
    "\n",
    "        if arr[i] > largest:\n",
    "            largest = arr[i]\n",
    "    \n",
    "    return largest\n",
    "\n",
    "\n",
    "if __name__ == '__main__':\n",
    "\n",
    "    arr = [2,3,4,2,9,1,0.8]\n",
    "    n= len(arr)\n",
    "\n",
    "    print(findLagestElements(arr,n))\n",
    "\n"
   ]
  },
  {
   "cell_type": "code",
   "execution_count": 4,
   "metadata": {},
   "outputs": [
    {
     "name": "stdout",
     "output_type": "stream",
     "text": [
      "8\n"
     ]
    }
   ],
   "source": [
    "def findSecondLargest(arr,n):\n",
    "\n",
    "    largest = float('-inf')\n",
    "    second_large = float('-inf')\n",
    "\n",
    "\n",
    "    for i in range (n):\n",
    "        if arr[i] > largest:\n",
    "            second_large = largest\n",
    "            largest = arr[i]\n",
    "\n",
    "        if arr[i] > second_large and arr[i] != largest:\n",
    "            second_large = arr[i]\n",
    "\n",
    "    return(second_large)\n",
    "\n",
    "if __name__ == '__main__':\n",
    "\n",
    "    arr = [2,3,4,2,9,1,8]\n",
    "    n= len(arr)\n",
    "\n",
    "    print(findSecondLargest(arr,n))\n"
   ]
  },
  {
   "cell_type": "code",
   "execution_count": 11,
   "metadata": {},
   "outputs": [
    {
     "name": "stdout",
     "output_type": "stream",
     "text": [
      "8\n"
     ]
    }
   ],
   "source": [
    "def large(arr,n):\n",
    "\n",
    "    arr.sort()\n",
    "\n",
    "    second_largest = arr[-2]\n",
    "    print(second_largest)\n",
    "\n",
    "if __name__ == '__main__':\n",
    "    arr = [1, 2, 8, 0, 5, 6, 7,9]\n",
    "    n = len(arr)\n",
    "    large(arr, n)\n",
    "\n",
    "    "
   ]
  },
  {
   "cell_type": "code",
   "execution_count": 14,
   "metadata": {},
   "outputs": [
    {
     "name": "stdout",
     "output_type": "stream",
     "text": [
      "7\n"
     ]
    }
   ],
   "source": [
    "def second_large(arr,n):\n",
    "\n",
    "    large = float('-inf')\n",
    "\n",
    "    second_largest = float('-inf')\n",
    "\n",
    "    for i in range(n):\n",
    "        large = max(large,arr[i])\n",
    "\n",
    "    for i in range(n):\n",
    "        if large > arr[i] > second_largest:\n",
    "            second_largest = arr[i]\n",
    "\n",
    "    return second_largest\n",
    "\n",
    "if __name__ == '__main__':\n",
    "    arr = [9,7,5,4,1]\n",
    "    n = len(arr)\n",
    "    second_large =second_large(arr,n)\n",
    "\n",
    "    print(second_large)\n"
   ]
  },
  {
   "cell_type": "code",
   "execution_count": 15,
   "metadata": {},
   "outputs": [
    {
     "name": "stdout",
     "output_type": "stream",
     "text": [
      "False\n"
     ]
    }
   ],
   "source": [
    "def sortedArray(arr,n):\n",
    "\n",
    "    for i in range (n):\n",
    "        for j in range (i+1,n):\n",
    "            if arr[j]  < arr[i]:\n",
    "                return False\n",
    "            \n",
    "        return True\n",
    "\n",
    "if __name__ == '__main__':\n",
    "    arr = [9,7,5,4,1]\n",
    "    n = len(arr)\n",
    "\n",
    "print(sortedArray(arr,n))"
   ]
  },
  {
   "cell_type": "code",
   "execution_count": 17,
   "metadata": {},
   "outputs": [
    {
     "name": "stdout",
     "output_type": "stream",
     "text": [
      "True\n"
     ]
    }
   ],
   "source": [
    "def sortedArray2(arr,n):\n",
    "\n",
    "    for i in range (1,n):\n",
    "        if arr[i] < arr [i-1]:\n",
    "            return False\n",
    "    return True\n",
    "\n",
    "\n",
    "if __name__ == '__main__':\n",
    "    arr = [1,2,3,4,5]\n",
    "    n = len(arr)\n",
    "\n",
    "print(sortedArray2(arr,n))\n",
    "\n"
   ]
  },
  {
   "cell_type": "code",
   "execution_count": 10,
   "metadata": {},
   "outputs": [
    {
     "name": "stdout",
     "output_type": "stream",
     "text": [
      "6\n",
      "1 2 3 4 5 9 "
     ]
    }
   ],
   "source": [
    "def removeDuplicates (arr,n):\n",
    "\n",
    "\n",
    "    st = set()\n",
    "\n",
    "    for i in range (n):\n",
    "        st.add(arr[i])\n",
    "\n",
    "    k = len(st)\n",
    "    a= 0\n",
    "\n",
    "    print(k)\n",
    "\n",
    "    for x in st:\n",
    "        arr[a] = x\n",
    "        a +=1\n",
    "\n",
    "    return k\n",
    "if __name__ == '__main__':\n",
    "    arr = [1,2,3,4,5,5,1,1,2,2,2,9,2,1]\n",
    "    n = len(arr)\n",
    "\n",
    "    k = removeDuplicates(arr,n)\n",
    "\n",
    "    for i in range (k):\n",
    "        print(arr[i], end = ' ')\n",
    "\n"
   ]
  },
  {
   "cell_type": "code",
   "execution_count": 9,
   "metadata": {},
   "outputs": [
    {
     "name": "stdout",
     "output_type": "stream",
     "text": [
      "1 2 3 4 0 2 "
     ]
    }
   ],
   "source": [
    "#optimal approach\n",
    "\n",
    "def removeDuplicates(arr,n):\n",
    "\n",
    "    i =0\n",
    "\n",
    "    for j in range (1, n):\n",
    "\n",
    "        if arr[i] != arr[j]:\n",
    "            i += 1\n",
    "\n",
    "            arr[i] = arr[j]\n",
    "\n",
    "        \n",
    "    return i + 1\n",
    "        \n",
    "if __name__ =='__main__':\n",
    "\n",
    "    arr= [1,1,2,2,3,3,4,0,2]\n",
    "    n=len(arr)\n",
    "\n",
    "    k = removeDuplicates(arr,n)\n",
    "\n",
    "    for i in range(k):\n",
    "        print(arr[i],end = ' ')\n",
    "\n",
    "\n"
   ]
  },
  {
   "cell_type": "code",
   "execution_count": 13,
   "metadata": {},
   "outputs": [
    {
     "name": "stdout",
     "output_type": "stream",
     "text": [
      "False\n"
     ]
    }
   ],
   "source": [
    "def sortedArray(arr,n):\n",
    "\n",
    "    for i in range (1,n):\n",
    "\n",
    "        if arr[i] < arr[i -1]:\n",
    "            return True\n",
    "        return False\n",
    "    \n",
    "if __name__ == '__main__':\n",
    "    arr = [1,2,3,1,4,5]\n",
    "    n = len(arr)\n",
    "\n",
    "    print(sortedArray(arr,n))\n",
    "\n"
   ]
  },
  {
   "cell_type": "code",
   "execution_count": 19,
   "metadata": {},
   "outputs": [
    {
     "name": "stdout",
     "output_type": "stream",
     "text": [
      "False\n"
     ]
    }
   ],
   "source": [
    "def LinearSearch(arr,n):\n",
    "\n",
    "    for i in range(n):\n",
    "        if  arr[i] == num:\n",
    "            return True\n",
    "        \n",
    "    return False\n",
    "\n",
    "if __name__ == '__main__':\n",
    "    arr = [1,2,3,1,4,5]\n",
    "    n = len(arr)\n",
    "    num = 0\n",
    "\n",
    "    print(LinearSearch(arr,n))"
   ]
  },
  {
   "cell_type": "code",
   "execution_count": 27,
   "metadata": {},
   "outputs": [
    {
     "name": "stdout",
     "output_type": "stream",
     "text": [
      "1 2 3 4 5 2 3 1 0 0 0 0 0 "
     ]
    }
   ],
   "source": [
    "\n",
    "def moveZeros(arr,n):\n",
    "\n",
    "    temp = []\n",
    "\n",
    "    for i in range(n):\n",
    "        if arr[i] != 0:\n",
    "            temp.append(arr[i])\n",
    "\n",
    "    temp_len = len(temp)\n",
    "\n",
    "    for i in range(temp_len):\n",
    "        arr[i] = temp[i]\n",
    "\n",
    "\n",
    "\n",
    "    for i in range(temp_len,n):\n",
    "\n",
    "        arr[i] = 0\n",
    "\n",
    "    return arr\n",
    "\n",
    "if __name__ == \"__main__\":\n",
    "\n",
    "    arr = [1,2,0,3,0,4,5,0,0,2,3,0,1]\n",
    "    n = len (arr)\n",
    "\n",
    "    k=moveZeros(arr,n)\n",
    "\n",
    "    for i in range(n):\n",
    "        print(arr[i], end = ' ')\n",
    "    \n",
    "\n",
    "\n",
    "\n",
    "\n",
    "\n"
   ]
  },
  {
   "cell_type": "code",
   "execution_count": 30,
   "metadata": {},
   "outputs": [
    {
     "name": "stdout",
     "output_type": "stream",
     "text": [
      "2 3 4 5 2 3 1 0 0 0 0 0 "
     ]
    }
   ],
   "source": [
    "def moveZeros(arr,n):\n",
    "\n",
    "    j = -1\n",
    "    \n",
    "\n",
    "    for i in range(n):\n",
    "        if arr[i] != 0:\n",
    "            j =i\n",
    "            break\n",
    "\n",
    "    if j == -1:\n",
    "        return arr\n",
    "    \n",
    "\n",
    "    for i in range(j+1,n):\n",
    "        if arr[i] != 0:\n",
    "            arr[i] , arr[j] = arr[j], arr[i]\n",
    "            j +=1\n",
    "\n",
    "    return arr\n",
    "\n",
    "if __name__ == \"__main__\":\n",
    "\n",
    "    arr = [1,2,0,3,0,4,5,0,0,2,3,0]\n",
    "    n = len (arr)\n",
    "\n",
    "    k=moveZeros(arr,n)\n",
    "\n",
    "    for i in range(n):\n",
    "        print(arr[i], end = ' ')\n",
    "\n",
    "\n",
    "\n",
    "\n",
    "        "
   ]
  },
  {
   "cell_type": "code",
   "execution_count": 40,
   "metadata": {},
   "outputs": [
    {
     "name": "stdout",
     "output_type": "stream",
     "text": [
      "2 3 4 1 "
     ]
    }
   ],
   "source": [
    "def rotate(arr,n):\n",
    "\n",
    "    random = arr[0]\n",
    "\n",
    "    for i in range (n-1):\n",
    "        arr[i] = arr[i+1]\n",
    "\n",
    "    arr[n-1] = random\n",
    "\n",
    "    for i in range (n):\n",
    "        print(arr[i],end = \" \")\n",
    "\n",
    "arr = [1,2,3,4]\n",
    "n =4\n",
    "rotate(arr,n)\n",
    "\n"
   ]
  },
  {
   "cell_type": "markdown",
   "metadata": {},
   "source": [
    "Find a missing number in an array"
   ]
  },
  {
   "cell_type": "code",
   "execution_count": 41,
   "metadata": {},
   "outputs": [
    {
     "data": {
      "text/plain": [
       "4"
      ]
     },
     "execution_count": 41,
     "metadata": {},
     "output_type": "execute_result"
    }
   ],
   "source": [
    "#brute force \n",
    "\n",
    "def missingNumber(arr,n):\n",
    "\n",
    "    for i in range (1, n+1):\n",
    "\n",
    "        # element_does_not_exist\n",
    "        flag = 0\n",
    "\n",
    "        for j in range(n):\n",
    "            if arr[j] == i:\n",
    "                flag =1 \n",
    "                break\n",
    "        \n",
    "        if flag == 0:\n",
    "            return i\n",
    "        \n",
    "    return -1\n",
    "\n",
    "arr = [1,2,3,5]\n",
    "n = len(arr)\n",
    "missingNumber(arr,n)\n",
    "\n",
    "\n",
    "\n",
    "\n",
    "\n"
   ]
  },
  {
   "cell_type": "code",
   "execution_count": 45,
   "metadata": {},
   "outputs": [
    {
     "name": "stdout",
     "output_type": "stream",
     "text": [
      "4\n"
     ]
    }
   ],
   "source": [
    "# optimal approach\n",
    "def missingNumber(arr,n):\n",
    "\n",
    "    summation = (n*(n+1)) // 2\n",
    "\n",
    "    s2 = sum(arr)\n",
    "\n",
    "    missingNum = summation - s2\n",
    "\n",
    "    return missingNum\n",
    "\n",
    "arr = [1,2,3,5]\n",
    "n = len(arr) + 1\n",
    "print(missingNumber(arr,n))\n"
   ]
  },
  {
   "cell_type": "markdown",
   "metadata": {},
   "source": [
    "Maximum consecutive ones in an binary array"
   ]
  },
  {
   "cell_type": "code",
   "execution_count": 46,
   "metadata": {},
   "outputs": [
    {
     "data": {
      "text/plain": [
       "5"
      ]
     },
     "execution_count": 46,
     "metadata": {},
     "output_type": "execute_result"
    }
   ],
   "source": [
    "def consecOnesMax(arr,n):\n",
    "\n",
    "    count = 0\n",
    "    maxi = 0\n",
    "\n",
    "    for i in range(n):\n",
    "        if arr[i] == 1:\n",
    "            count +=1\n",
    "        else:\n",
    "            count =0\n",
    "\n",
    "        maxi = max(maxi,count)\n",
    "\n",
    "    return maxi\n",
    "\n",
    "arr = [1,1,0,1,1,1,0,1,1,1,1,1,0]\n",
    "\n",
    "n = len (arr)\n",
    "\n",
    "consecOnesMax(arr,n)"
   ]
  },
  {
   "cell_type": "markdown",
   "metadata": {},
   "source": [
    "Find the number that appear once, and the others appear twice"
   ]
  },
  {
   "cell_type": "code",
   "execution_count": 50,
   "metadata": {},
   "outputs": [
    {
     "data": {
      "text/plain": [
       "2"
      ]
     },
     "execution_count": 50,
     "metadata": {},
     "output_type": "execute_result"
    }
   ],
   "source": [
    "def numAppearOnce(arr):\n",
    "\n",
    "    for i in range(n):\n",
    "        count = 0\n",
    "        num = arr[i]\n",
    "        for j in range (n):\n",
    "            if arr[j]== num:\n",
    "                count += 1\n",
    "        if count == 1:\n",
    "            return num\n",
    "    \n",
    "    return -1\n",
    "\n",
    "arr = [1,1,2,3,3,4,4]\n",
    "n = len(arr)\n",
    "\n",
    "numAppearOnce(arr)\n"
   ]
  },
  {
   "cell_type": "code",
   "execution_count": 52,
   "metadata": {},
   "outputs": [
    {
     "data": {
      "text/plain": [
       "2"
      ]
     },
     "execution_count": 52,
     "metadata": {},
     "output_type": "execute_result"
    }
   ],
   "source": [
    "#better solution -1 \n",
    "def numAppearOnce2(arr):\n",
    "\n",
    "    n = len(arr)\n",
    "    maxi = max(arr)\n",
    "\n",
    "    hash = [0] * (maxi + 1)\n",
    "\n",
    "    for num in arr:\n",
    "        hash[num] +=1\n",
    "\n",
    "    for num in arr:\n",
    "        if hash[num] == 1:\n",
    "            return num\n",
    "        \n",
    "    return -1\n",
    "        \n",
    "arr = [1,1,2,3,3,4,4]\n",
    "\n",
    "numAppearOnce2(arr)"
   ]
  },
  {
   "cell_type": "code",
   "execution_count": 55,
   "metadata": {},
   "outputs": [
    {
     "data": {
      "text/plain": [
       "5"
      ]
     },
     "execution_count": 55,
     "metadata": {},
     "output_type": "execute_result"
    }
   ],
   "source": [
    "# better solution -2 \n",
    "\n",
    "def numAppearOnce3(arr):\n",
    "\n",
    "    n = len(arr)\n",
    "\n",
    "    hashmap = {}\n",
    "\n",
    "    for num in arr:\n",
    "        hashmap[num] = hashmap.get(num,0) + 1\n",
    "\n",
    "    for num, count in hashmap.items():\n",
    "        if count ==1:\n",
    "            return num\n",
    "        \n",
    "    return -1\n",
    "\n",
    "arr = [1,1,2,2,3,5,3,4,4]\n",
    "\n",
    "numAppearOnce3(arr)"
   ]
  },
  {
   "cell_type": "code",
   "execution_count": 57,
   "metadata": {},
   "outputs": [
    {
     "data": {
      "text/plain": [
       "5"
      ]
     },
     "execution_count": 57,
     "metadata": {},
     "output_type": "execute_result"
    }
   ],
   "source": [
    "# optimal approach\n",
    "\n",
    "def numAppearOnce4(arr):\n",
    "\n",
    "    xorr = 0\n",
    "\n",
    "    for num in arr:\n",
    "\n",
    "        xorr = xorr^arr[num]\n",
    "\n",
    "    return xorr\n",
    "\n",
    "arr = [1,1,2,2,3,5,3,4,4]\n",
    "\n",
    "numAppearOnce4(arr)"
   ]
  },
  {
   "cell_type": "markdown",
   "metadata": {},
   "source": [
    "Longest subarray with sum k"
   ]
  },
  {
   "cell_type": "code",
   "execution_count": 9,
   "metadata": {},
   "outputs": [
    {
     "name": "stdout",
     "output_type": "stream",
     "text": [
      "2\n"
     ]
    }
   ],
   "source": [
    "\n",
    "#bute force 1\n",
    "def longestSubarray(arr,k):\n",
    "\n",
    "    sub_array_len = 0\n",
    "\n",
    "    for i in range (n):\n",
    "        for j in range(i,n):\n",
    "            sum = 0\n",
    "            for m in range(i,j+1):\n",
    "                sum += arr[m]\n",
    "\n",
    "            if sum == k:\n",
    "                sub_array_len = max(sub_array_len,j-i+1) #j is index say 2 and i = 0\n",
    "    return(sub_array_len)\n",
    "    \n",
    "arr = [2,2,1,3,2,4]\n",
    "k =4\n",
    "n = len(arr)\n",
    "print(longestSubarray(arr,k))"
   ]
  },
  {
   "cell_type": "code",
   "execution_count": 12,
   "metadata": {},
   "outputs": [
    {
     "name": "stdout",
     "output_type": "stream",
     "text": [
      "1\n"
     ]
    }
   ],
   "source": [
    "# brute force 2\n",
    "\n",
    "def longestSubarray2(arr,n):\n",
    "\n",
    "    n = len(arr)\n",
    "\n",
    "    subarray_len = 0\n",
    "\n",
    "    for i in range(n):\n",
    "        sum = 0\n",
    "        for j in range(i,n):\n",
    "\n",
    "            sum += arr[j]\n",
    "\n",
    "            if sum == k:\n",
    "                subarray_len = max(subarray_len, j-i+1)\n",
    "    \n",
    "    return subarray_len\n",
    "\n",
    "arr = [2,2,1,3,2,4]\n",
    "k =1\n",
    "print(longestSubarray2(arr,k))\n",
    "        "
   ]
  },
  {
   "cell_type": "markdown",
   "metadata": {},
   "source": [
    "better and optimal of this question are left ^^"
   ]
  },
  {
   "cell_type": "code",
   "execution_count": null,
   "metadata": {},
   "outputs": [],
   "source": []
  }
 ],
 "metadata": {
  "kernelspec": {
   "display_name": "Python 3",
   "language": "python",
   "name": "python3"
  },
  "language_info": {
   "codemirror_mode": {
    "name": "ipython",
    "version": 3
   },
   "file_extension": ".py",
   "mimetype": "text/x-python",
   "name": "python",
   "nbconvert_exporter": "python",
   "pygments_lexer": "ipython3",
   "version": "3.11.9"
  }
 },
 "nbformat": 4,
 "nbformat_minor": 2
}
