{
 "cells": [
  {
   "cell_type": "code",
   "execution_count": 8,
   "metadata": {},
   "outputs": [
    {
     "name": "stdout",
     "output_type": "stream",
     "text": [
      "Before selection sort:\n",
      "13 46 24 52 20 9\n",
      "After selection sort:\n",
      "9 13 20 24 46 52\n"
     ]
    }
   ],
   "source": [
    "def selection_sort(arr):\n",
    "\n",
    "    n = len(arr)\n",
    "\n",
    "    for i in range (n-1):\n",
    "        mini = i\n",
    "        for j in range (i+1,n):\n",
    "            if arr[j] < arr[mini]:\n",
    "                mini = j\n",
    "\n",
    "        arr[mini], arr[i] = arr[i], arr[mini]\n",
    "\n",
    "\n",
    "    print(\"After selection sort:\")\n",
    "    print(\" \".join(map(str, arr)))\n",
    "\n",
    "if __name__ == \"__main__\":\n",
    "    arr = [13, 46, 24, 52, 20, 9]\n",
    "    print(\"Before selection sort:\")\n",
    "    print(\" \".join(map(str, arr)))\n",
    "    selection_sort(arr)\n"
   ]
  },
  {
   "cell_type": "code",
   "execution_count": 11,
   "metadata": {},
   "outputs": [
    {
     "name": "stdout",
     "output_type": "stream",
     "text": [
      "Before Using Bubble Sort:\n",
      "13 46 24 52 20 9\n",
      "After Using Bubble Sort:\n",
      "9 13 20 24 46 52\n"
     ]
    }
   ],
   "source": [
    "def bubble_sort(arr):\n",
    "    n = len(arr)\n",
    "\n",
    "    for i in range(n-1,-1,-1):\n",
    "        for j in range (i):\n",
    "            if arr[j] > arr[j+1]:\n",
    "                arr[j],arr[j+1]=arr[j+1],arr[j]\n",
    "    print(\"After Using Bubble Sort:\")\n",
    "    print(\" \".join(map(str, arr)))\n",
    "\n",
    "if __name__ == \"__main__\":\n",
    "    arr = [13, 46, 24, 52, 20, 9]\n",
    "    print(\"Before Using Bubble Sort:\")\n",
    "    print(\" \".join(map(str, arr)))\n",
    "    bubble_sort(arr)\n",
    "\n"
   ]
  },
  {
   "cell_type": "code",
   "execution_count": 15,
   "metadata": {},
   "outputs": [
    {
     "name": "stdout",
     "output_type": "stream",
     "text": [
      "Before Using Insertion Sort:\n",
      "13 46 24 52 20 9\n",
      "After Using Insertion Sort:\n",
      "9 13 20 24 46 52\n"
     ]
    }
   ],
   "source": [
    "def insertion_sort(arr):\n",
    "    n= len(arr)\n",
    "\n",
    "    for i in range (n):\n",
    "        j =i\n",
    "\n",
    "        while j > 0 and arr[j-1] > arr[j]:\n",
    "            arr[j-1],arr[j] = arr[j], arr[j-1]\n",
    "\n",
    "            j -=1\n",
    "    print(\"After Using Insertion Sort:\")\n",
    "    print(\" \".join(map(str, arr)))\n",
    "\n",
    "\n",
    "if __name__ == \"__main__\":\n",
    "    arr = [13, 46, 24, 52, 20, 9]\n",
    "    print(\"Before Using Insertion Sort:\")\n",
    "    print(\" \".join(map(str, arr)))\n",
    "    insertion_sort(arr)\n"
   ]
  },
  {
   "cell_type": "code",
   "execution_count": 2,
   "metadata": {},
   "outputs": [
    {
     "name": "stdout",
     "output_type": "stream",
     "text": [
      "Before Sorting Array:\n",
      "[9, 4, 7, 6, 3, 1, 5]\n",
      "After Sorting Array:\n",
      "[9, 4, 7, 6, 3, 1, 5]\n"
     ]
    }
   ],
   "source": [
    "def merge(arr,low,high,mid):\n",
    "    temp = []\n",
    "    left = low \n",
    "    right = mid + 1\n",
    "\n",
    "\n",
    "    while left <= mid and right <= high:\n",
    "        if arr[left] <= arr[right]:\n",
    "            temp.append(arr[left])\n",
    "            left +=1\n",
    "        else:\n",
    "            temp.append(arr[right])\n",
    "            right += 1\n",
    "\n",
    "    while left <= mid:\n",
    "        temp.append(arr[left])\n",
    "        left += 1\n",
    "\n",
    "    while right <= high:\n",
    "        temp.append(arr[right])\n",
    "        right += 1\n",
    "\n",
    "    for i in range(len(temp)):\n",
    "        arr[low + i] = temp[i]\n",
    "\n",
    "\n",
    "\n",
    "def merge_sort(arr,low,high):\n",
    "    if low >= high:\n",
    "        return\n",
    "    \n",
    "\n",
    "    mid = (low +high)//2\n",
    "    merge_sort(arr,low,mid)\n",
    "    merge_sort(arr,mid+1,high)\n",
    "\n",
    "    merge(arr,low,mid,high)\n",
    "\n",
    "if __name__ == \"__main__\":\n",
    "    arr = [9, 4, 7, 6, 3, 1, 5]\n",
    "    n = len(arr)\n",
    "\n",
    "    print(\"Before Sorting Array:\")\n",
    "    print(arr)\n",
    "\n",
    "    merge_sort(arr, 0, n - 1)\n",
    "\n",
    "    print(\"After Sorting Array:\")\n",
    "    print(arr)\n",
    "    \n"
   ]
  },
  {
   "cell_type": "code",
   "execution_count": 3,
   "metadata": {},
   "outputs": [
    {
     "name": "stdout",
     "output_type": "stream",
     "text": [
      "Before Sorting Array:\n",
      "[9, 4, 7, 6, 3, 1, 5]\n",
      "After Sorting Array:\n",
      "[1, 3, 4, 5, 6, 7, 9]\n"
     ]
    }
   ],
   "source": [
    "def merge(arr, low, mid, high):\n",
    "    temp = []\n",
    "    left = low\n",
    "    right = mid + 1\n",
    "\n",
    "    # Merging elements in sorted order\n",
    "    while left <= mid and right <= high:\n",
    "        if arr[left] <= arr[right]:\n",
    "            temp.append(arr[left])\n",
    "            left += 1\n",
    "        else:\n",
    "            temp.append(arr[right])\n",
    "            right += 1\n",
    "\n",
    "    # If elements on the left half are still left\n",
    "    while left <= mid:\n",
    "        temp.append(arr[left])\n",
    "        left += 1\n",
    "\n",
    "    # If elements on the right half are still left\n",
    "    while right <= high:  # Fixed this condition\n",
    "        temp.append(arr[right])\n",
    "        right += 1\n",
    "\n",
    "    # Transferring all elements from temp back to arr\n",
    "    for i in range(len(temp)):\n",
    "        arr[low + i] = temp[i]\n",
    "\n",
    "\n",
    "def merge_sort(arr, low, high):\n",
    "    if low >= high:\n",
    "        return\n",
    "\n",
    "    mid = (low + high) // 2\n",
    "    merge_sort(arr, low, mid)\n",
    "    merge_sort(arr, mid + 1, high)\n",
    "\n",
    "    merge(arr, low, mid, high)\n",
    "\n",
    "\n",
    "if __name__ == \"__main__\":\n",
    "    arr = [9, 4, 7, 6, 3, 1, 5]\n",
    "    n = len(arr)\n",
    "\n",
    "    print(\"Before Sorting Array:\")\n",
    "    print(arr)\n",
    "\n",
    "    merge_sort(arr, 0, n - 1)\n",
    "\n",
    "    print(\"After Sorting Array:\")\n",
    "    print(arr)\n"
   ]
  },
  {
   "cell_type": "code",
   "execution_count": null,
   "metadata": {},
   "outputs": [],
   "source": []
  }
 ],
 "metadata": {
  "kernelspec": {
   "display_name": "Python 3",
   "language": "python",
   "name": "python3"
  },
  "language_info": {
   "codemirror_mode": {
    "name": "ipython",
    "version": 3
   },
   "file_extension": ".py",
   "mimetype": "text/x-python",
   "name": "python",
   "nbconvert_exporter": "python",
   "pygments_lexer": "ipython3",
   "version": "3.9.6"
  }
 },
 "nbformat": 4,
 "nbformat_minor": 2
}
