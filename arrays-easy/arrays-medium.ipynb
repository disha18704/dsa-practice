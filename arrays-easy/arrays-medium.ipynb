{
 "cells": [
  {
   "cell_type": "markdown",
   "metadata": {},
   "source": [
    "Two Sum"
   ]
  },
  {
   "cell_type": "markdown",
   "metadata": {},
   "source": [
    "Observation: In every iteration, if the inner loop starts from index 0, we will be checking the same pair of numbers multiple times. For example, in iteration 1, for i = 0, we will check for the pair arr[0] and arr[1]. Again in iteration 2, for i = 1, we will check arr[1] and arr[0]. So, to eliminate these same pairs, we will start the inner loop from i+1."
   ]
  },
  {
   "cell_type": "code",
   "execution_count": 5,
   "metadata": {},
   "outputs": [
    {
     "name": "stdout",
     "output_type": "stream",
     "text": [
      "This is the answer for variant 1: YES\n"
     ]
    }
   ],
   "source": [
    "def two_sum(n,arr,target):\n",
    "    for i in range(n):\n",
    "        for j in range(i+1,n):\n",
    "            if arr[i] + arr[j] == target:\n",
    "                return \"YES\"\n",
    "    return \"NO\"\n",
    "\n",
    "\n",
    "\n",
    "if __name__ == \"__main__\":\n",
    "    n = 5\n",
    "    arr = [2, 6, 5, 8, 11]\n",
    "    target = 14\n",
    "    ans = two_sum(n, arr, target)\n",
    "    print(f\"This is the answer for variant 1: {ans}\")"
   ]
  },
  {
   "cell_type": "code",
   "execution_count": 8,
   "metadata": {},
   "outputs": [
    {
     "name": "stdout",
     "output_type": "stream",
     "text": [
      "This is the answer for variant 2: [1, 3]\n"
     ]
    }
   ],
   "source": [
    "def twosum(arr):\n",
    "    n = len(arr)\n",
    "\n",
    "    target = 14 \n",
    "\n",
    "    ans = []\n",
    "\n",
    "\n",
    "    for i in range (n):\n",
    "        for j in range(i+1,n):\n",
    "            if arr[i] + arr[j] == target:\n",
    "                ans.append(i)\n",
    "                ans.append(j)\n",
    "                return ans\n",
    "\n",
    "    return[-1,-1]\n",
    "    \n",
    "if __name__ == \"__main__\":\n",
    "    arr = [2, 6, 5, 8, 11]\n",
    "    ans = twosum(arr)\n",
    "    print(f\"This is the answer for variant 2: [{ans[0]}, {ans[1]}]\")\n"
   ]
  },
  {
   "cell_type": "code",
   "execution_count": null,
   "metadata": {},
   "outputs": [],
   "source": []
  }
 ],
 "metadata": {
  "kernelspec": {
   "display_name": "Python 3",
   "language": "python",
   "name": "python3"
  },
  "language_info": {
   "codemirror_mode": {
    "name": "ipython",
    "version": 3
   },
   "file_extension": ".py",
   "mimetype": "text/x-python",
   "name": "python",
   "nbconvert_exporter": "python",
   "pygments_lexer": "ipython3",
   "version": "3.9.6"
  }
 },
 "nbformat": 4,
 "nbformat_minor": 2
}
