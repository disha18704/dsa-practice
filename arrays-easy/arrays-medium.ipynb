{
 "cells": [
  {
   "cell_type": "code",
   "execution_count": 1,
   "metadata": {},
   "outputs": [
    {
     "name": "stdout",
     "output_type": "stream",
     "text": [
      "This is the answer for variant 1: YES\n"
     ]
    }
   ],
   "source": [
    "def two_sum(n, arr, target):\n",
    "    for i in range(n):\n",
    "        for j in range(i + 1, n):\n",
    "            if arr[i] + arr[j] == target:\n",
    "                return \"YES\"\n",
    "    return \"NO\"\n",
    "\n",
    "if __name__ == \"__main__\":\n",
    "    n = 5\n",
    "    arr = [2, 6, 5, 8, 11]\n",
    "    target = 14\n",
    "    ans = two_sum(n, arr, target)\n",
    "    print(f\"This is the answer for variant 1: {ans}\")"
   ]
  },
  {
   "cell_type": "code",
   "execution_count": null,
   "metadata": {},
   "outputs": [],
   "source": []
  }
 ],
 "metadata": {
  "kernelspec": {
   "display_name": "Python 3",
   "language": "python",
   "name": "python3"
  },
  "language_info": {
   "codemirror_mode": {
    "name": "ipython",
    "version": 3
   },
   "file_extension": ".py",
   "mimetype": "text/x-python",
   "name": "python",
   "nbconvert_exporter": "python",
   "pygments_lexer": "ipython3",
   "version": "3.9.6"
  }
 },
 "nbformat": 4,
 "nbformat_minor": 2
}
