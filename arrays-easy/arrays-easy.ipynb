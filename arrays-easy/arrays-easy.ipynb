{
 "cells": [
  {
   "cell_type": "markdown",
   "metadata": {},
   "source": [
    "when we sort the array we get the time complexity of nlogn"
   ]
  },
  {
   "cell_type": "markdown",
   "metadata": {},
   "source": [
    "Largest element in array"
   ]
  },
  {
   "cell_type": "code",
   "execution_count": 1,
   "metadata": {},
   "outputs": [
    {
     "name": "stdout",
     "output_type": "stream",
     "text": [
      "The Largest element in the array is: 5\n",
      "The Largest element in the array is: 10\n"
     ]
    }
   ],
   "source": [
    "def sort_array(arr):\n",
    "    arr.sort()\n",
    "    return arr[-1]\n",
    "\n",
    "if __name__ == \"__main__\":\n",
    "    arr1 = [2, 5, 1, 3, 0]\n",
    "    arr2 = [8, 10, 5, 7, 9]\n",
    "    print(\"The Largest element in the array is:\", sort_array(arr1))\n",
    "    print(\"The Largest element in the array is:\", sort_array(arr2))\n",
    "\n"
   ]
  },
  {
   "cell_type": "markdown",
   "metadata": {},
   "source": [
    "recursive approach"
   ]
  },
  {
   "cell_type": "code",
   "execution_count": 3,
   "metadata": {},
   "outputs": [
    {
     "name": "stdout",
     "output_type": "stream",
     "text": [
      "The Largest element in the array is: 10\n",
      "The Largest element in the array is: 19\n"
     ]
    }
   ],
   "source": [
    "def sortArr(arr):\n",
    "    n = len(arr)\n",
    "    max = arr[0]\n",
    "\n",
    "    for i in range(n):\n",
    "        if max < arr[i]:\n",
    "            max = arr[i]\n",
    "    return max\n",
    "\n",
    "if __name__ == \"__main__\":\n",
    "    arr1 = [2, 5, 1, 3, 10]\n",
    "    arr2 = [8, 10, 5, 7, 19]\n",
    "    print(\"The Largest element in the array is:\", sortArr(arr1))\n",
    "    print(\"The Largest element in the array is:\", sortArr(arr2))"
   ]
  },
  {
   "cell_type": "markdown",
   "metadata": {},
   "source": [
    "Find the second largest element "
   ]
  },
  {
   "cell_type": "markdown",
   "metadata": {},
   "source": [
    "[this approach only works if there are no duplicates]\n",
    "BRUTE FORCE"
   ]
  },
  {
   "cell_type": "code",
   "execution_count": 4,
   "metadata": {},
   "outputs": [
    {
     "name": "stdout",
     "output_type": "stream",
     "text": [
      "The Largest element in the array is: 5\n",
      "The Largest element in the array is: 10\n"
     ]
    }
   ],
   "source": [
    "def sec_large(arr):\n",
    "    arr.sort()\n",
    "    return arr(-2)\n",
    "\n",
    "if __name__ == \"__main__\":\n",
    "    arr1 = [2, 5, 1, 3, 0]\n",
    "    arr2 = [8, 10, 5, 7, 9]\n",
    "    print(\"The Largest element in the array is:\", sort_array(arr1))\n",
    "    print(\"The Largest element in the array is:\", sort_array(arr2))"
   ]
  },
  {
   "cell_type": "markdown",
   "metadata": {},
   "source": [
    "Better "
   ]
  },
  {
   "cell_type": "markdown",
   "metadata": {},
   "source": [
    "by not using sorting here and just traversal we are having better time complexity"
   ]
  },
  {
   "cell_type": "markdown",
   "metadata": {},
   "source": [
    "Time Complexity: O(N), We do two linear traversals in our array\n",
    "\n",
    "Space Complexity: O(1)"
   ]
  },
  {
   "cell_type": "code",
   "execution_count": 6,
   "metadata": {},
   "outputs": [
    {
     "name": "stdout",
     "output_type": "stream",
     "text": [
      "Second smallest is 2\n",
      "Second largest is 6\n"
     ]
    }
   ],
   "source": [
    "def sec_el(arr):\n",
    "    n = len(arr)\n",
    "    if n == 0 and n== 1:\n",
    "        print(-1,-1)\n",
    "\n",
    "    small = float('inf')\n",
    "    second_small = float('inf')\n",
    "    large = float('-inf')\n",
    "    second_large = float('-inf')\n",
    "\n",
    "    for i in range(n):\n",
    "        small = min(small,arr[i])\n",
    "        large = max(large,arr[i])\n",
    "\n",
    "    for i in range(n):\n",
    "        if arr[i]< second_small and arr[i] != small:\n",
    "            second_small = arr[i]\n",
    "\n",
    "        if arr[i] > second_large and arr[i] != large:\n",
    "            second_large = arr[i]\n",
    "\n",
    "    print(\"Second smallest is\", second_small)\n",
    "    print(\"Second largest is\", second_large)\n",
    "\n",
    "\n",
    "\n",
    "if __name__ == '__main__':\n",
    "    arr = [1, 2, 4, 6, 7, 5]\n",
    "    n = len(arr)\n",
    "    sec_el(arr)\n"
   ]
  },
  {
   "cell_type": "markdown",
   "metadata": {},
   "source": [
    "optimal----\n",
    "trying single traversal this time"
   ]
  },
  {
   "cell_type": "markdown",
   "metadata": {},
   "source": [
    "Time Complexity: O(N), Single-pass solution\n",
    "\n",
    "Space Complexity: O(1)"
   ]
  },
  {
   "cell_type": "code",
   "execution_count": 8,
   "metadata": {},
   "outputs": [
    {
     "name": "stdout",
     "output_type": "stream",
     "text": [
      "Second smallest is 2\n"
     ]
    }
   ],
   "source": [
    "def secondSmallest(arr, n):\n",
    "    if (n < 2):\n",
    "        return -1\n",
    "    small = float('inf')\n",
    "    second_small = float('inf')\n",
    "    for i in range(n):\n",
    "        if (arr[i] < small):\n",
    "            second_small = small\n",
    "            small = arr[i]\n",
    "        elif (arr[i] < second_small and arr[i] != small):\n",
    "            second_small = arr[i]\n",
    "    return second_small\n",
    "\n",
    "\n",
    "if __name__ == \"__main__\":\n",
    "    arr = [1, 2, 4, 7, 7, 5]\n",
    "    n = len(arr)\n",
    "    sS = secondSmallest(arr, n)\n",
    "    print(\"Second smallest is\", sS)\n"
   ]
  },
  {
   "cell_type": "markdown",
   "metadata": {},
   "source": [
    "check if the array is sorted or not"
   ]
  },
  {
   "cell_type": "markdown",
   "metadata": {},
   "source": [
    "Time Complexity: O(N^2)\n",
    "\n",
    "Space Complexity: O(1)"
   ]
  },
  {
   "cell_type": "code",
   "execution_count": 11,
   "metadata": {},
   "outputs": [
    {
     "name": "stdout",
     "output_type": "stream",
     "text": [
      "True\n"
     ]
    }
   ],
   "source": [
    "def isSorted(arr):\n",
    "    n = len(arr)\n",
    "    for i in range (n):\n",
    "        for j in range(i+1):\n",
    "            if arr[i] < arr[j]:\n",
    "                return False\n",
    "    return True\n",
    "\n",
    "if __name__ == \"__main__\":\n",
    "    arr = [1, 2, 3, 4, 5]\n",
    "    ans = isSorted(arr)\n",
    "    if ans:\n",
    "        print(\"True\")\n",
    "    else:\n",
    "        print(\"False\")"
   ]
  },
  {
   "cell_type": "code",
   "execution_count": 14,
   "metadata": {},
   "outputs": [
    {
     "name": "stdout",
     "output_type": "stream",
     "text": [
      "True\n"
     ]
    }
   ],
   "source": [
    "def isSorted(arr):\n",
    "    for i in range (1,n):\n",
    "        if arr[i] < arr[i-1]:\n",
    "            return False\n",
    "        \n",
    "    return True\n",
    "\n",
    "if __name__ == \"__main__\":\n",
    "    arr = [1, 2, 3, 4, 5]\n",
    "    ans = isSorted(arr)\n",
    "    if ans:\n",
    "        print(\"True\")\n",
    "    else:\n",
    "        print(\"False\")"
   ]
  },
  {
   "cell_type": "code",
   "execution_count": null,
   "metadata": {},
   "outputs": [],
   "source": []
  }
 ],
 "metadata": {
  "kernelspec": {
   "display_name": "Python 3",
   "language": "python",
   "name": "python3"
  },
  "language_info": {
   "codemirror_mode": {
    "name": "ipython",
    "version": 3
   },
   "file_extension": ".py",
   "mimetype": "text/x-python",
   "name": "python",
   "nbconvert_exporter": "python",
   "pygments_lexer": "ipython3",
   "version": "3.9.6"
  }
 },
 "nbformat": 4,
 "nbformat_minor": 2
}
