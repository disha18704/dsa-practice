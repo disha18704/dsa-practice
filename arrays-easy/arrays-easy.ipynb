{
 "cells": [
  {
   "cell_type": "markdown",
   "metadata": {},
   "source": [
    "when we sort the array we get the time complexity of nlogn"
   ]
  },
  {
   "cell_type": "markdown",
   "metadata": {},
   "source": [
    "Largest element in array"
   ]
  },
  {
   "cell_type": "code",
   "execution_count": 1,
   "metadata": {},
   "outputs": [
    {
     "name": "stdout",
     "output_type": "stream",
     "text": [
      "The Largest element in the array is: 5\n",
      "The Largest element in the array is: 10\n"
     ]
    }
   ],
   "source": [
    "def sort_array(arr):\n",
    "    arr.sort()\n",
    "    return arr[-1]\n",
    "\n",
    "if __name__ == \"__main__\":\n",
    "    arr1 = [2, 5, 1, 3, 0]\n",
    "    arr2 = [8, 10, 5, 7, 9]\n",
    "    print(\"The Largest element in the array is:\", sort_array(arr1))\n",
    "    print(\"The Largest element in the array is:\", sort_array(arr2))\n",
    "\n"
   ]
  },
  {
   "cell_type": "markdown",
   "metadata": {},
   "source": [
    "recursive approach"
   ]
  },
  {
   "cell_type": "code",
   "execution_count": 3,
   "metadata": {},
   "outputs": [
    {
     "name": "stdout",
     "output_type": "stream",
     "text": [
      "The Largest element in the array is: 10\n",
      "The Largest element in the array is: 19\n"
     ]
    }
   ],
   "source": [
    "def sortArr(arr):\n",
    "    n = len(arr)\n",
    "    max = arr[0]\n",
    "\n",
    "    for i in range(n):\n",
    "        if max < arr[i]:\n",
    "            max = arr[i]\n",
    "    return max\n",
    "\n",
    "if __name__ == \"__main__\":\n",
    "    arr1 = [2, 5, 1, 3, 10]\n",
    "    arr2 = [8, 10, 5, 7, 19]\n",
    "    print(\"The Largest element in the array is:\", sortArr(arr1))\n",
    "    print(\"The Largest element in the array is:\", sortArr(arr2))"
   ]
  },
  {
   "cell_type": "markdown",
   "metadata": {},
   "source": [
    "Find the second largest element "
   ]
  },
  {
   "cell_type": "markdown",
   "metadata": {},
   "source": [
    "[this approach only works if there are no duplicates]\n",
    "BRUTE FORCE"
   ]
  },
  {
   "cell_type": "code",
   "execution_count": 4,
   "metadata": {},
   "outputs": [
    {
     "name": "stdout",
     "output_type": "stream",
     "text": [
      "The Largest element in the array is: 5\n",
      "The Largest element in the array is: 10\n"
     ]
    }
   ],
   "source": [
    "def sec_large(arr):\n",
    "    arr.sort()\n",
    "    return arr(-2)\n",
    "\n",
    "if __name__ == \"__main__\":\n",
    "    arr1 = [2, 5, 1, 3, 0]\n",
    "    arr2 = [8, 10, 5, 7, 9]\n",
    "    print(\"The Largest element in the array is:\", sort_array(arr1))\n",
    "    print(\"The Largest element in the array is:\", sort_array(arr2))"
   ]
  },
  {
   "cell_type": "markdown",
   "metadata": {},
   "source": [
    "Better "
   ]
  },
  {
   "cell_type": "markdown",
   "metadata": {},
   "source": [
    "by not using sorting here and just traversal we are having better time complexity"
   ]
  },
  {
   "cell_type": "markdown",
   "metadata": {},
   "source": [
    "Time Complexity: O(N), We do two linear traversals in our array\n",
    "\n",
    "Space Complexity: O(1)"
   ]
  },
  {
   "cell_type": "code",
   "execution_count": 6,
   "metadata": {},
   "outputs": [
    {
     "name": "stdout",
     "output_type": "stream",
     "text": [
      "Second smallest is 2\n",
      "Second largest is 6\n"
     ]
    }
   ],
   "source": [
    "def sec_el(arr):\n",
    "    n = len(arr)\n",
    "    if n == 0 and n== 1:\n",
    "        print(-1,-1)\n",
    "\n",
    "    small = float('inf')\n",
    "    second_small = float('inf')\n",
    "    large = float('-inf')\n",
    "    second_large = float('-inf')\n",
    "\n",
    "    for i in range(n):\n",
    "        small = min(small,arr[i])\n",
    "        large = max(large,arr[i])\n",
    "\n",
    "    for i in range(n):\n",
    "        if arr[i]< second_small and arr[i] != small:\n",
    "            second_small = arr[i]\n",
    "\n",
    "        if arr[i] > second_large and arr[i] != large:\n",
    "            second_large = arr[i]\n",
    "\n",
    "    print(\"Second smallest is\", second_small)\n",
    "    print(\"Second largest is\", second_large)\n",
    "\n",
    "\n",
    "\n",
    "if __name__ == '__main__':\n",
    "    arr = [1, 2, 4, 6, 7, 5]\n",
    "    n = len(arr)\n",
    "    sec_el(arr)\n"
   ]
  },
  {
   "cell_type": "markdown",
   "metadata": {},
   "source": [
    "optimal----\n",
    "trying single traversal this time"
   ]
  },
  {
   "cell_type": "markdown",
   "metadata": {},
   "source": [
    "Time Complexity: O(N), Single-pass solution\n",
    "\n",
    "Space Complexity: O(1)"
   ]
  },
  {
   "cell_type": "code",
   "execution_count": 8,
   "metadata": {},
   "outputs": [
    {
     "name": "stdout",
     "output_type": "stream",
     "text": [
      "Second smallest is 2\n"
     ]
    }
   ],
   "source": [
    "def secondSmallest(arr, n):\n",
    "    if (n < 2):\n",
    "        return -1\n",
    "    small = float('inf')\n",
    "    second_small = float('inf')\n",
    "    for i in range(n):\n",
    "        if (arr[i] < small):\n",
    "            second_small = small\n",
    "            small = arr[i]\n",
    "        elif (arr[i] < second_small and arr[i] != small):\n",
    "            second_small = arr[i]\n",
    "    return second_small\n",
    "\n",
    "\n",
    "if __name__ == \"__main__\":\n",
    "    arr = [1, 2, 4, 7, 7, 5]\n",
    "    n = len(arr)\n",
    "    sS = secondSmallest(arr, n)\n",
    "    print(\"Second smallest is\", sS)\n"
   ]
  },
  {
   "cell_type": "markdown",
   "metadata": {},
   "source": [
    "check if the array is sorted or not"
   ]
  },
  {
   "cell_type": "markdown",
   "metadata": {},
   "source": [
    "Time Complexity: O(N^2)\n",
    "\n",
    "Space Complexity: O(1)"
   ]
  },
  {
   "cell_type": "code",
   "execution_count": 11,
   "metadata": {},
   "outputs": [
    {
     "name": "stdout",
     "output_type": "stream",
     "text": [
      "True\n"
     ]
    }
   ],
   "source": [
    "def isSorted(arr):\n",
    "    n = len(arr)\n",
    "    for i in range (n):\n",
    "        for j in range(i+1):\n",
    "            if arr[i] < arr[j]:\n",
    "                return False\n",
    "    return True\n",
    "\n",
    "if __name__ == \"__main__\":\n",
    "    arr = [1, 2, 3, 4, 5]\n",
    "    ans = isSorted(arr)\n",
    "    if ans:\n",
    "        print(\"True\")\n",
    "    else:\n",
    "        print(\"False\")"
   ]
  },
  {
   "cell_type": "code",
   "execution_count": 3,
   "metadata": {},
   "outputs": [
    {
     "name": "stdout",
     "output_type": "stream",
     "text": [
      "True\n"
     ]
    }
   ],
   "source": [
    "def isSorted(arr):\n",
    "    n = len(arr)\n",
    "    for i in range (1,n):\n",
    "        if arr[i] < arr[i-1]:\n",
    "            print(arr[i-1])\n",
    "            return False\n",
    "        \n",
    "    return True\n",
    "\n",
    "if __name__ == \"__main__\":\n",
    "    arr = [1, 2, 3, 4, 5]\n",
    "    ans = isSorted(arr)\n",
    "    if ans:\n",
    "        print(\"True\")\n",
    "    else:\n",
    "        print(\"False\")"
   ]
  },
  {
   "cell_type": "markdown",
   "metadata": {},
   "source": [
    "Remove Duplicates from the soretd array"
   ]
  },
  {
   "cell_type": "markdown",
   "metadata": {},
   "source": [
    "Brute \n",
    "\n",
    "\n",
    "Adding an element to a set (st.add()) in Python typically takes O(log(n)) for each element due to underlying hash-based implementation.\n",
    "For an array of size n, this loop iterates n times.\n",
    "Time complexity for this step: O(n * log(n)).\n",
    "\n",
    "\n",
    "Time complexity: O(n*log(n))+O(n)\n",
    "\n",
    "Space Complexity: O(n) "
   ]
  },
  {
   "cell_type": "code",
   "execution_count": 2,
   "metadata": {},
   "outputs": [
    {
     "name": "stdout",
     "output_type": "stream",
     "text": [
      "The array after removing duplicate elements is \n",
      "1 2 3 "
     ]
    }
   ],
   "source": [
    "def removeDuplicates(arr):\n",
    "    n= len(arr)\n",
    "\n",
    "    st = set()\n",
    "\n",
    "    for i in range (n):\n",
    "        st.add(arr[i])\n",
    "    k = len(st)\n",
    "    j = 0\n",
    "    for x in st:\n",
    "        arr[j] = x\n",
    "        j += 1\n",
    "    return k\n",
    "    \n",
    "if __name__ == \"__main__\":\n",
    "    arr = [1, 1, 2, 2, 2, 3, 3]\n",
    "    k = removeDuplicates(arr)\n",
    "    print(\"The array after removing duplicate elements is \")\n",
    "    for i in range(k):\n",
    "        print(arr[i], end=\" \")"
   ]
  },
  {
   "cell_type": "markdown",
   "metadata": {},
   "source": [
    "optimal"
   ]
  },
  {
   "cell_type": "code",
   "execution_count": 12,
   "metadata": {},
   "outputs": [
    {
     "name": "stdout",
     "output_type": "stream",
     "text": [
      "2\n",
      "3\n",
      "The array after removing duplicate elements is \n",
      "1 2 3 "
     ]
    }
   ],
   "source": [
    "def removeDuplicates(arr):\n",
    "\n",
    "    i = 0\n",
    "    for j in range (1,len(arr)):\n",
    "        if arr[i] != arr[j]:\n",
    "            i += 1\n",
    "        \n",
    "            arr[i] = arr[j]\n",
    "\n",
    "            print(i+1)\n",
    "    return i+1\n",
    "    \n",
    "\n",
    "\n",
    "if __name__ == \"__main__\":\n",
    "    arr = [1, 1, 2, 2, 2, 3, 3]\n",
    "    k = removeDuplicates(arr)\n",
    "    print(\"The array after removing duplicate elements is \")\n",
    "    for i in range(k):\n",
    "        print(arr[i], end=\" \")"
   ]
  },
  {
   "cell_type": "markdown",
   "metadata": {},
   "source": [
    "Left rotate array by one "
   ]
  },
  {
   "cell_type": "markdown",
   "metadata": {},
   "source": [
    "Time Complexity: O(n), as we iterate through the array only once.\n",
    "\n",
    "Space Complexity: O(n) as we are using another array of size, same as the given array."
   ]
  },
  {
   "cell_type": "markdown",
   "metadata": {},
   "source": [
    "brute "
   ]
  },
  {
   "cell_type": "code",
   "execution_count": 16,
   "metadata": {},
   "outputs": [
    {
     "name": "stdout",
     "output_type": "stream",
     "text": [
      "2\n",
      "3\n",
      "4\n",
      "5\n",
      "2 3 4 5 1 \n"
     ]
    }
   ],
   "source": [
    "def rotate(arr):\n",
    "    n = len(arr)\n",
    "\n",
    "    temp = [0] * n\n",
    "    for i in range (1,n):\n",
    "        temp[i-1] = arr[i]\n",
    "        # temp[1 - 1] = arr[1]\n",
    "        print(temp[i-1])\n",
    "    temp[n-1] = arr[0]\n",
    "\n",
    "    for i in range (n):\n",
    "        print(temp[i], end=\" \")\n",
    "    print()\n",
    "\n",
    "n = 5\n",
    "arr = [1, 2, 3, 4, 5]\n",
    "rotate(arr)"
   ]
  },
  {
   "cell_type": "markdown",
   "metadata": {},
   "source": [
    "optimal"
   ]
  },
  {
   "cell_type": "markdown",
   "metadata": {},
   "source": [
    "Time Complexity: O(n), as we iterate through the array only once.\n",
    "\n",
    "Space Complexity: O(1) as no extra space is used"
   ]
  },
  {
   "cell_type": "code",
   "execution_count": 18,
   "metadata": {},
   "outputs": [
    {
     "name": "stdout",
     "output_type": "stream",
     "text": [
      "2 3 4 5 1 "
     ]
    }
   ],
   "source": [
    "def rotate(arr):\n",
    "    n = len(arr)\n",
    "    x = arr[0]\n",
    "\n",
    "    for i in range (0,n-1):\n",
    "        arr[i] = arr[i+1]\n",
    "    arr[n-1] = x\n",
    "    for i in range (n):\n",
    "        print(arr[i],end = \" \")\n",
    "\n",
    "n = 5\n",
    "arr = [1, 2, 3, 4, 5]\n",
    "rotate(arr)"
   ]
  },
  {
   "cell_type": "markdown",
   "metadata": {},
   "source": [
    "Rotate the array by k elements "
   ]
  },
  {
   "cell_type": "markdown",
   "metadata": {},
   "source": [
    "Time Complexity: \n",
    "O\n",
    "(\n",
    "n\n",
    ")\n",
    "O(n)\n",
    "Space Complexity: \n",
    "O\n",
    "(\n",
    "k\n",
    ")\n",
    "O(k), where \n",
    "k\n",
    "≤\n",
    "n\n",
    "k≤n."
   ]
  },
  {
   "cell_type": "code",
   "execution_count": 34,
   "metadata": {},
   "outputs": [
    {
     "name": "stdout",
     "output_type": "stream",
     "text": [
      "4\n",
      "3\n",
      "2\n",
      "[4, 5, 1, 2, 3]\n"
     ]
    }
   ],
   "source": [
    "def rotateToRight(arr,k):\n",
    "\n",
    "    n = len(arr)\n",
    "\n",
    "    \n",
    "\n",
    "    if (n == 0):\n",
    "        return\n",
    "    \n",
    "    k = k % n\n",
    "\n",
    "    if k > n:\n",
    "        return\n",
    "    \n",
    "\n",
    "    temp = arr[-k:]\n",
    "\n",
    "    for i in range (n-1,k-1,-1):\n",
    "        print(i)  # because of -1 \n",
    "        arr[i] = arr[i-k]\n",
    "\n",
    "        \n",
    "        \n",
    "\n",
    "    for i in range (k):\n",
    "        arr[i] = temp[i]\n",
    "\n",
    "    print(arr)\n",
    "\n",
    "arr = [1,2,3,4,5]\n",
    "k = 7\n",
    "rotateToRight(arr,k)"
   ]
  },
  {
   "cell_type": "markdown",
   "metadata": {},
   "source": [
    "with reversal method"
   ]
  },
  {
   "cell_type": "markdown",
   "metadata": {},
   "source": [
    "Time Complexity - O(N) where N is the number of elements in an array\n",
    "\n",
    "Space Complexity - O(1) since no extra space is required"
   ]
  },
  {
   "cell_type": "code",
   "execution_count": 42,
   "metadata": {},
   "outputs": [
    {
     "name": "stdout",
     "output_type": "stream",
     "text": [
      "After rotating the k elements to the right:\n",
      "[7, 6, 5, 4, 3, 2, 1]\n"
     ]
    }
   ],
   "source": [
    "def reverse(arr,start,end):\n",
    "\n",
    "    start = 0\n",
    "    end = len(arr)-1\n",
    "\n",
    "    while start <= end:\n",
    "        arr[start], arr[end] = arr[end],arr[start]\n",
    "        start += 1\n",
    "        end  -=1\n",
    "\n",
    "def rotate(arr,n,k):\n",
    "    k =3\n",
    "\n",
    "    k = k% n\n",
    "\n",
    "    reverse(arr,0,n-k-1)\n",
    "\n",
    "    reverse(arr,n-k,n-1)\n",
    "\n",
    "    reverse(arr,0,n-1)\n",
    "\n",
    "arr = [1, 2, 3, 4, 5, 6, 7]\n",
    "n = len(arr)\n",
    "k = 2\n",
    "rotate(arr,n,k)\n",
    "\n",
    "print(\"After rotating the k elements to the right:\")\n",
    "print(arr)\n"
   ]
  },
  {
   "cell_type": "markdown",
   "metadata": {},
   "source": [
    "Move zeros to end"
   ]
  },
  {
   "cell_type": "markdown",
   "metadata": {},
   "source": [
    "brute \n",
    "\n",
    "\n",
    "Time Complexity: O(N) + O(X) + O(N-X) ~ O(2*N), where N = total no. of elements,\n",
    "X = no. of non-zero elements, and N-X = total no. of zeros.\n",
    "Reason: O(N) for copying non-zero elements from the original to the temporary array. O(X) for again copying it back from the temporary to the original array. O(N-X) for filling zeros in the original array. So, the total time complexity will be O(2*N).\n",
    "\n",
    "Space Complexity: O(N), as we are using a temporary array to solve this problem and the maximum size of the array can be N in the worst case.\n",
    "Reason: The temporary array stores the non-zero elements. In the worst case, all the given array elements will be non-zero."
   ]
  },
  {
   "cell_type": "code",
   "execution_count": 44,
   "metadata": {},
   "outputs": [
    {
     "name": "stdout",
     "output_type": "stream",
     "text": [
      "1 2 3 2 4 5 1 0 0 0 \n"
     ]
    }
   ],
   "source": [
    "def moveZeros(n,arr):\n",
    "    temp = []\n",
    "\n",
    "    for i in range (n):\n",
    "\n",
    "        if arr[i] != 0:\n",
    "            temp.append(arr[i])\n",
    "\n",
    "    len_temp = len(temp)\n",
    "\n",
    "    for i in range(len_temp):\n",
    "        arr[i] = temp[i]\n",
    "\n",
    "    for i in range (len_temp,n):\n",
    "        arr[i] = 0\n",
    "\n",
    "    return arr\n",
    "\n",
    "arr = [1, 0, 2, 3, 2, 0, 0, 4, 5, 1]\n",
    "n = 10\n",
    "ans = moveZeros(n, arr)\n",
    "for it in ans:\n",
    "    print(it, end=\" \")\n",
    "print()\n",
    "\n"
   ]
  },
  {
   "cell_type": "markdown",
   "metadata": {},
   "source": [
    "optimal"
   ]
  },
  {
   "cell_type": "markdown",
   "metadata": {},
   "source": [
    "Time Complexity: O(N), N = size of the array.\n",
    "Reason: We have used 2 loops and using those loops, we are basically traversing the array once.\n",
    "\n",
    "Space Complexity: O(1) as we are not using any extra space to solve this problem."
   ]
  },
  {
   "cell_type": "code",
   "execution_count": null,
   "metadata": {},
   "outputs": [
    {
     "name": "stdout",
     "output_type": "stream",
     "text": [
      "1 2 3 2 4 5 1 0 0 0 \n"
     ]
    }
   ],
   "source": [
    "def moveZeros(n,arr):\n",
    "    j = -1\n",
    "\n",
    "    for i in range  (n):\n",
    "        if arr[i] == 0:\n",
    "            j = i\n",
    "            break\n",
    "\n",
    "    if j == -1:\n",
    "        return arr\n",
    "    \n",
    "    for i in range (j + 1,n):\n",
    "        if arr[i] != 0:\n",
    "            arr[i],arr[j] = arr[j],arr[i]\n",
    "\n",
    "            j += 1\n",
    "    return arr\n",
    "\n",
    "arr = [1, 0, 2, 3, 2, 0, 0, 4, 5, 1]\n",
    "n = 10\n",
    "ans = moveZeros(n, arr)\n",
    "for it in ans:\n",
    "    print(it, end=' ')\n",
    "print()"
   ]
  },
  {
   "cell_type": "markdown",
   "metadata": {},
   "source": [
    "Linear Search"
   ]
  },
  {
   "cell_type": "markdown",
   "metadata": {},
   "source": [
    "Time Complexity: O(n), where n is the length of the array.\n",
    "\n",
    "Space Complexity: O(1)"
   ]
  },
  {
   "cell_type": "code",
   "execution_count": 48,
   "metadata": {},
   "outputs": [
    {
     "name": "stdout",
     "output_type": "stream",
     "text": [
      "3\n"
     ]
    }
   ],
   "source": [
    "def linearSearch(arr):\n",
    "\n",
    "    num = 4\n",
    "    n = len(arr)\n",
    "\n",
    "    for i in range (n):\n",
    "        if arr[i] == num:\n",
    "            return i\n",
    "    return -1\n",
    "    \n",
    "arr = [1,2,3,4,5]\n",
    "val = linearSearch(arr)\n",
    "\n",
    "print(val)"
   ]
  },
  {
   "cell_type": "markdown",
   "metadata": {},
   "source": [
    "Find the Union"
   ]
  },
  {
   "cell_type": "markdown",
   "metadata": {},
   "source": [
    "brute"
   ]
  },
  {
   "cell_type": "markdown",
   "metadata": {},
   "source": [
    "Time Complexity: \n",
    "O\n",
    "(\n",
    "n\n",
    "1\n",
    "+\n",
    "n\n",
    "2\n",
    "+\n",
    "k\n",
    ")\n",
    "O(n \n",
    "1\n",
    "​\n",
    " +n \n",
    "2\n",
    "​\n",
    " +k)\n",
    "Space Complexity: \n",
    "O\n",
    "(\n",
    "n\n",
    "1\n",
    "+\n",
    "n\n",
    "2\n",
    "+\n",
    "k\n",
    ")\n",
    "O(n \n",
    "1\n",
    "​\n",
    " +n \n",
    "2\n",
    "​\n",
    " +k)"
   ]
  },
  {
   "cell_type": "code",
   "execution_count": 54,
   "metadata": {},
   "outputs": [
    {
     "name": "stdout",
     "output_type": "stream",
     "text": [
      "[0, 1, 2, 3, 4, 5, 6, 7]\n"
     ]
    }
   ],
   "source": [
    "def union(arr):\n",
    "    arr1 = [2,3,4,5,0,1,2,3,4,4,1,1]\n",
    "    arr2 = [1,2,3,4,5,6,7]\n",
    "    n = len(arr)\n",
    "\n",
    "    result = arr1 + arr2\n",
    "\n",
    "    st = set()\n",
    "\n",
    "    for item in result:\n",
    "        st.add(item)\n",
    "\n",
    "    print(list(st))\n",
    "\n",
    "union(arr)\n",
    "\n",
    "\n",
    "\n",
    "\n"
   ]
  },
  {
   "cell_type": "markdown",
   "metadata": {},
   "source": [
    "better "
   ]
  },
  {
   "cell_type": "code",
   "execution_count": 55,
   "metadata": {},
   "outputs": [
    {
     "name": "stdout",
     "output_type": "stream",
     "text": [
      "Union of arr1 and arr2 is:\n",
      "1 2 3 4 5 6 7 8 9 10 11 12\n"
     ]
    }
   ],
   "source": [
    "def union(arr1,arr2):\n",
    "\n",
    "    s = set()\n",
    "    union = []\n",
    "\n",
    "    for num in arr1:\n",
    "        s.add(num)\n",
    "\n",
    "    for num in arr2:\n",
    "        s.add(num)\n",
    "\n",
    "    for num in s:\n",
    "        union.append(num)\n",
    "\n",
    "    return union\n",
    "\n",
    "arr1 = [1, 2, 3, 4, 5, 6, 7, 8, 9, 10]\n",
    "arr2 = [2, 3, 4, 4, 5, 11, 12]\n",
    "\n",
    "union = union(arr1, arr2)\n",
    "\n",
    "print(\"Union of arr1 and arr2 is:\")\n",
    "print(*union)"
   ]
  },
  {
   "cell_type": "markdown",
   "metadata": {},
   "source": [
    "optimal"
   ]
  },
  {
   "cell_type": "markdown",
   "metadata": {},
   "source": [
    "Time Complexity: O(m+n), Because at max i runs for n times and j runs for m times. When there are no common elements in arr1 and arr2 and all elements in arr1, arr2 are distinct. \n",
    "\n",
    "Space Complexity : O(m+n) {If Space of Union ArrayList is considered} \n",
    "\n",
    "O(1) {If Space of union ArrayList is not considered}"
   ]
  },
  {
   "cell_type": "code",
   "execution_count": 61,
   "metadata": {},
   "outputs": [
    {
     "name": "stdout",
     "output_type": "stream",
     "text": [
      "Union of arr1 and arr2 is:\n",
      "1 2 3 4 5 6 7 8 9 10 11 12\n"
     ]
    }
   ],
   "source": [
    "def union(arr1, arr2):\n",
    "    i = 0\n",
    "    j = 0\n",
    "    arr = []\n",
    "\n",
    "    while i < len(arr1) and j < len(arr2):\n",
    "        if arr1[i] <= arr2[j]:\n",
    "            if len(arr) == 0 or arr[-1] != arr1[i]:\n",
    "                arr.append(arr1[i])\n",
    "            i += 1\n",
    "        else:\n",
    "            if len(arr) == 0 or arr[-1] != arr2[j]:\n",
    "                arr.append(arr2[j])\n",
    "            j += 1\n",
    "\n",
    "    # Handle remaining elements in arr1\n",
    "    while i < len(arr1):\n",
    "        if arr[-1] != arr1[i]:\n",
    "            arr.append(arr1[i])\n",
    "        i += 1\n",
    "\n",
    "    # Handle remaining elements in arr2\n",
    "    while j < len(arr2):\n",
    "        if arr[-1] != arr2[j]:\n",
    "            arr.append(arr2[j])\n",
    "        j += 1\n",
    "\n",
    "    return arr\n",
    "\n",
    "\n",
    "arr1 = [1, 2, 3, 4, 5, 6, 7, 8, 9, 10]\n",
    "arr2 = [2, 3, 4, 4, 5, 11, 12]\n",
    "\n",
    "result = union(arr1, arr2)\n",
    "\n",
    "print(\"Union of arr1 and arr2 is:\")\n",
    "print(*result)\n"
   ]
  },
  {
   "cell_type": "markdown",
   "metadata": {},
   "source": [
    "Find a missing number in the array"
   ]
  },
  {
   "cell_type": "markdown",
   "metadata": {},
   "source": [
    "Brute force"
   ]
  },
  {
   "cell_type": "markdown",
   "metadata": {},
   "source": [
    "if number exists the flag variable will be 1 and if doesn't flag will be 0.\n",
    "\n",
    "\n",
    "return -1 is there if there is any edge case "
   ]
  },
  {
   "cell_type": "code",
   "execution_count": 1,
   "metadata": {},
   "outputs": [
    {
     "name": "stdout",
     "output_type": "stream",
     "text": [
      "The missing number is: 8\n"
     ]
    }
   ],
   "source": [
    "def missing_num(arr):\n",
    "\n",
    "    n = len(arr)\n",
    "\n",
    "    for i in range (1, n+1):\n",
    "\n",
    "        flag = 0\n",
    "\n",
    "        for j in range (n):\n",
    "            if arr[j] == i:\n",
    "                flag = 1\n",
    "                break\n",
    "\n",
    "        if flag == 0:\n",
    "            return i\n",
    "        \n",
    "    return -1\n",
    "\n",
    "def main():\n",
    "\n",
    "    a = [1, 2, 3,4,5,5,6,7,9]\n",
    "    ans = missing_num(a)\n",
    "    print(\"The missing number is:\", ans)\n",
    "\n",
    "if __name__ == '__main__':\n",
    "    main()\n",
    "\n",
    "\n"
   ]
  },
  {
   "cell_type": "markdown",
   "metadata": {},
   "source": [
    "Better solution"
   ]
  },
  {
   "cell_type": "markdown",
   "metadata": {},
   "source": [
    "tc- o(2n)\n",
    "\n",
    "sc - o(n)"
   ]
  },
  {
   "cell_type": "code",
   "execution_count": 19,
   "metadata": {},
   "outputs": [
    {
     "name": "stdout",
     "output_type": "stream",
     "text": [
      "5\n",
      "[0, 0, 0, 0, 0, 0]\n",
      "1\n",
      "1\n",
      "1\n",
      "1\n",
      "The missing number is: 3\n"
     ]
    }
   ],
   "source": [
    "def missing_number(arr):\n",
    "\n",
    "    n = len(arr)+1\n",
    "    print(n)\n",
    "\n",
    "    hash_arr = [0]*(n+1)\n",
    "    print(hash_arr)\n",
    "\n",
    "    for num in arr:\n",
    "        hash_arr[num] = 1\n",
    "\n",
    "        print(hash_arr[num])\n",
    "\n",
    "        \n",
    "\n",
    "    for i in range (1,n+1):\n",
    "        if hash_arr[i] == 0:\n",
    "            return i\n",
    "        \n",
    "    return -1\n",
    "\n",
    "def main():\n",
    "    N = 5\n",
    "    arr = [1, 2, 4, 5]\n",
    "    ans = missing_number(arr)\n",
    "    print(\"The missing number is:\", ans)\n",
    "\n",
    "if __name__ == '__main__':\n",
    "    main()\n"
   ]
  },
  {
   "cell_type": "markdown",
   "metadata": {},
   "source": [
    "We know that the summation of the first N numbers is (N*(N+1))/2. We can say this S1. Now, in the given array, every number between 1 to N except one number is present. So, if we add the numbers of the array (say S2), the difference between S1 and S2 will be the missing number. Because, while adding all the numbers of the array, we did not add that particular number that is missing.\n",
    "\n"
   ]
  },
  {
   "cell_type": "markdown",
   "metadata": {},
   "source": [
    "Optimal solution"
   ]
  },
  {
   "cell_type": "markdown",
   "metadata": {},
   "source": [
    "tc - o(n)\n",
    "\n",
    "sc - o(1)"
   ]
  },
  {
   "cell_type": "code",
   "execution_count": 9,
   "metadata": {},
   "outputs": [
    {
     "name": "stdout",
     "output_type": "stream",
     "text": [
      "The missing number is: 3\n"
     ]
    }
   ],
   "source": [
    "def missing(arr):\n",
    "    n = len(arr)\n",
    "\n",
    "    sum1 = (n*(n+1))//2\n",
    "\n",
    "\n",
    "    sum = 0\n",
    "\n",
    "    for i in range (n-1):\n",
    "        sum += arr[i]\n",
    "        i += 1\n",
    "\n",
    "    missingsum = sum1-sum\n",
    "\n",
    "    return missingsum\n",
    "\n",
    "def main():\n",
    "    arr = [1, 2, 4, 5]\n",
    "    ans = missing(arr)\n",
    "    print(\"The missing number is:\", ans)\n",
    "\n",
    "if __name__ == '__main__':\n",
    "    main()"
   ]
  },
  {
   "cell_type": "markdown",
   "metadata": {},
   "source": [
    "Optimal solution 2\n",
    "\n",
    "XOR of two same numbers is always 0 i.e. a ^ a = 0. ←Property 1.\n",
    "XOR of a number with 0 will result in the number itself i.e. 0 ^ a = a.  ←Property 2"
   ]
  },
  {
   "cell_type": "markdown",
   "metadata": {},
   "source": [
    "tc - o(2n)\n",
    "\n",
    "sc - o(1)"
   ]
  },
  {
   "cell_type": "code",
   "execution_count": 12,
   "metadata": {},
   "outputs": [
    {
     "name": "stdout",
     "output_type": "stream",
     "text": [
      "The missing number is: 3\n"
     ]
    }
   ],
   "source": [
    "def XOR_missing(arr):\n",
    "\n",
    "    n = len(arr) + 1\n",
    "\n",
    "    xor1 = 0\n",
    "\n",
    "    for i in range (1,n+1):\n",
    "\n",
    "        xor1 = xor1 ^ i\n",
    "\n",
    "\n",
    "    xor2 = 0\n",
    "\n",
    "    for i in arr:\n",
    "\n",
    "        xor2 = xor2 ^ i\n",
    "\n",
    "    return xor1 ^ xor2\n",
    "\n",
    "\n",
    "def main():\n",
    "    arr = [1, 2, 4, 5]\n",
    "    ans = XOR_missing(arr)\n",
    "    print(\"The missing number is:\", ans)\n",
    "\n",
    "\n",
    "if __name__ == '__main__':\n",
    "    main()\n",
    "\n"
   ]
  },
  {
   "cell_type": "code",
   "execution_count": 20,
   "metadata": {},
   "outputs": [
    {
     "name": "stdout",
     "output_type": "stream",
     "text": [
      "The missing number is: 3\n"
     ]
    }
   ],
   "source": [
    "def missing(arr):\n",
    "\n",
    "    xor1 = 0\n",
    "    xor2 = 0\n",
    "\n",
    "\n",
    "    n = len(arr)+1\n",
    "\n",
    "\n",
    "    for i in range (n-1):\n",
    "        xor1 = xor1 ^ arr[i]\n",
    "\n",
    "        xor2 = xor2 ^ (i+1)\n",
    "\n",
    "    xor1 = xor1 ^ n\n",
    "\n",
    "    return xor1 ^ xor2\n",
    "\n",
    "def main():\n",
    "    N = 5\n",
    "    a = [1, 2, 4, 5]\n",
    "    ans = missing(a)\n",
    "    print(\"The missing number is:\", ans)\n",
    "\n",
    "\n",
    "if __name__ == '__main__':\n",
    "    main()"
   ]
  },
  {
   "cell_type": "markdown",
   "metadata": {},
   "source": [
    "Count Maximum Consecutive One's in the array\n",
    "\n",
    "\n",
    "We maintain a variable count that keeps a track of the number of consecutive 1’s while traversing the array. The other variable max_count maintains the maximum number of 1’s, in other words, it maintains the answer.\n",
    "\n",
    "We start traversing from the beginning of the array. Since we can encounter either a 1 or 0 there can be two situations:-\n",
    "\n",
    "If  the value at the current index is equal to 1 we increase the value of count by one. After updating  the count variable if it becomes more than the max_count  update the max_count.\n",
    "If the value at the current index is equal to zero we make the variable count as 0 since there are no more consecutive ones."
   ]
  },
  {
   "cell_type": "markdown",
   "metadata": {},
   "source": [
    "nums[0] == 1, so\n",
    "\n",
    "cnt = cnt + 1 = 0 + 1 = 1\n",
    "\n",
    "maxi = max(maxi, cnt) = max(0, 1) = 1\n",
    "\n",
    "Current streak: cnt = 1\n",
    "\n",
    "Maximum streak so far: maxi = 1"
   ]
  },
  {
   "cell_type": "markdown",
   "metadata": {},
   "source": [
    "tc - O(n)\n",
    "\n",
    "sc - O(1)"
   ]
  },
  {
   "cell_type": "code",
   "execution_count": 21,
   "metadata": {},
   "outputs": [
    {
     "name": "stdout",
     "output_type": "stream",
     "text": [
      "The maximum  consecutive 1's are 3\n"
     ]
    }
   ],
   "source": [
    "def findMaxones(arr):\n",
    "\n",
    "    n = len(arr)\n",
    "\n",
    "    count = 0\n",
    "    maximum_count = 0\n",
    "\n",
    "    for i in range (n):\n",
    "\n",
    "        \n",
    "\n",
    "        if arr[i] == 1:\n",
    "            count += 1\n",
    "\n",
    "        else:\n",
    "            count = 0\n",
    "\n",
    "        maximum_count = max(maximum_count,count)\n",
    "\n",
    "\n",
    "    return maximum_count\n",
    "\n",
    "if __name__ == \"__main__\":\n",
    "    nums = [1, 1, 0, 1, 1, 1]\n",
    "    ans = findMaxones(nums)\n",
    "    print(\"The maximum  consecutive 1's are\", ans)"
   ]
  },
  {
   "cell_type": "markdown",
   "metadata": {},
   "source": [
    "Find the number that appears once, and other numbers twice"
   ]
  },
  {
   "cell_type": "markdown",
   "metadata": {},
   "source": [
    "brute force "
   ]
  },
  {
   "cell_type": "markdown",
   "metadata": {},
   "source": [
    "tc-O(n^2)\n",
    "\n",
    "sc - O(1)\n"
   ]
  },
  {
   "cell_type": "code",
   "execution_count": null,
   "metadata": {},
   "outputs": [
    {
     "name": "stdout",
     "output_type": "stream",
     "text": [
      "The single element is: 4\n"
     ]
    }
   ],
   "source": [
    "def onceElement(arr):\n",
    "\n",
    "    n = len(arr)\n",
    "\n",
    "    for i in range (n):\n",
    "\n",
    "        num = arr[i]\n",
    "\n",
    "        count = 0\n",
    "\n",
    "        for j in range (n):\n",
    "            if arr[j] == num:\n",
    "                count += 1\n",
    "\n",
    "        if count == 1:\n",
    "            return num\n",
    "        \n",
    "\n",
    "    return -1 \n",
    "\n",
    "def main():\n",
    "    arr = [4, 1, 2, 1, 2]\n",
    "    ans = onceElement(arr)\n",
    "    print(\"The single element is:\", ans)\n",
    "\n",
    "\n",
    "if __name__ == '__main__':\n",
    "    main()"
   ]
  },
  {
   "cell_type": "markdown",
   "metadata": {},
   "source": [
    "tc - O(3n)= o(n)\n",
    "\n",
    "sc = o(n)"
   ]
  },
  {
   "cell_type": "code",
   "execution_count": 25,
   "metadata": {},
   "outputs": [
    {
     "name": "stdout",
     "output_type": "stream",
     "text": [
      "The single element is: 4\n"
     ]
    }
   ],
   "source": [
    "def onceeElement(arr):\n",
    "\n",
    "    n = len(arr)\n",
    "\n",
    "    hash = [0] * (n)\n",
    "\n",
    "    for num in arr:\n",
    "        hash[num] += 1\n",
    "\n",
    "    for num in arr:\n",
    "        if hash[num] == 1:\n",
    "            return num\n",
    "        \n",
    "    return -1\n",
    "\n",
    "\n",
    "def main():\n",
    "    arr = [4, 1, 2, 1, 2]\n",
    "    ans = onceeElement(arr)\n",
    "    print(\"The single element is:\", ans)\n",
    "\n",
    "\n",
    "if __name__ == '__main__':\n",
    "    main()\n",
    "\n"
   ]
  },
  {
   "cell_type": "markdown",
   "metadata": {},
   "source": [
    "better 2 hashmap"
   ]
  },
  {
   "cell_type": "code",
   "execution_count": null,
   "metadata": {},
   "outputs": [],
   "source": []
  },
  {
   "cell_type": "markdown",
   "metadata": {},
   "source": [
    "optimal"
   ]
  },
  {
   "cell_type": "code",
   "execution_count": 26,
   "metadata": {},
   "outputs": [
    {
     "name": "stdout",
     "output_type": "stream",
     "text": [
      "The single element is: 4\n"
     ]
    }
   ],
   "source": [
    "def onceEle(arr):\n",
    "\n",
    "    xorr = 0\n",
    "\n",
    "    for num in arr:\n",
    "        xorr ^= num \n",
    "\n",
    "    return xorr\n",
    "\n",
    "def main():\n",
    "    arr = [4, 1, 2, 1, 2]\n",
    "    ans= onceEle(arr)\n",
    "    print(\"The single element is:\", ans)\n",
    "\n",
    "if __name__ == \"__main__\":\n",
    "    main()"
   ]
  },
  {
   "cell_type": "code",
   "execution_count": null,
   "metadata": {},
   "outputs": [],
   "source": []
  }
 ],
 "metadata": {
  "kernelspec": {
   "display_name": "Python 3",
   "language": "python",
   "name": "python3"
  },
  "language_info": {
   "codemirror_mode": {
    "name": "ipython",
    "version": 3
   },
   "file_extension": ".py",
   "mimetype": "text/x-python",
   "name": "python",
   "nbconvert_exporter": "python",
   "pygments_lexer": "ipython3",
   "version": "3.9.6"
  }
 },
 "nbformat": 4,
 "nbformat_minor": 2
}
