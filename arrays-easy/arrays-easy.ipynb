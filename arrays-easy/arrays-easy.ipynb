{
 "cells": [
  {
   "cell_type": "markdown",
   "metadata": {},
   "source": [
    "when we sort the array we get the time complexity of nlogn"
   ]
  },
  {
   "cell_type": "markdown",
   "metadata": {},
   "source": [
    "Largest element in array"
   ]
  },
  {
   "cell_type": "code",
   "execution_count": 1,
   "metadata": {},
   "outputs": [
    {
     "name": "stdout",
     "output_type": "stream",
     "text": [
      "The Largest element in the array is: 5\n",
      "The Largest element in the array is: 10\n"
     ]
    }
   ],
   "source": [
    "def sort_array(arr):\n",
    "    arr.sort()\n",
    "    return arr[-1]\n",
    "\n",
    "if __name__ == \"__main__\":\n",
    "    arr1 = [2, 5, 1, 3, 0]\n",
    "    arr2 = [8, 10, 5, 7, 9]\n",
    "    print(\"The Largest element in the array is:\", sort_array(arr1))\n",
    "    print(\"The Largest element in the array is:\", sort_array(arr2))\n",
    "\n"
   ]
  },
  {
   "cell_type": "markdown",
   "metadata": {},
   "source": [
    "recursive approach"
   ]
  },
  {
   "cell_type": "code",
   "execution_count": 3,
   "metadata": {},
   "outputs": [
    {
     "name": "stdout",
     "output_type": "stream",
     "text": [
      "The Largest element in the array is: 10\n",
      "The Largest element in the array is: 19\n"
     ]
    }
   ],
   "source": [
    "def sortArr(arr):\n",
    "    n = len(arr)\n",
    "    max = arr[0]\n",
    "\n",
    "    for i in range(n):\n",
    "        if max < arr[i]:\n",
    "            max = arr[i]\n",
    "    return max\n",
    "\n",
    "if __name__ == \"__main__\":\n",
    "    arr1 = [2, 5, 1, 3, 10]\n",
    "    arr2 = [8, 10, 5, 7, 19]\n",
    "    print(\"The Largest element in the array is:\", sortArr(arr1))\n",
    "    print(\"The Largest element in the array is:\", sortArr(arr2))"
   ]
  },
  {
   "cell_type": "markdown",
   "metadata": {},
   "source": [
    "Find the second largest element "
   ]
  },
  {
   "cell_type": "markdown",
   "metadata": {},
   "source": [
    "[this approach only works if there are no duplicates]\n",
    "BRUTE FORCE"
   ]
  },
  {
   "cell_type": "code",
   "execution_count": 4,
   "metadata": {},
   "outputs": [
    {
     "name": "stdout",
     "output_type": "stream",
     "text": [
      "The Largest element in the array is: 5\n",
      "The Largest element in the array is: 10\n"
     ]
    }
   ],
   "source": [
    "def sec_large(arr):\n",
    "    arr.sort()\n",
    "    return arr(-2)\n",
    "\n",
    "if __name__ == \"__main__\":\n",
    "    arr1 = [2, 5, 1, 3, 0]\n",
    "    arr2 = [8, 10, 5, 7, 9]\n",
    "    print(\"The Largest element in the array is:\", sort_array(arr1))\n",
    "    print(\"The Largest element in the array is:\", sort_array(arr2))"
   ]
  },
  {
   "cell_type": "markdown",
   "metadata": {},
   "source": [
    "Better "
   ]
  },
  {
   "cell_type": "markdown",
   "metadata": {},
   "source": [
    "by not using sorting here and just traversal we are having better time complexity"
   ]
  },
  {
   "cell_type": "markdown",
   "metadata": {},
   "source": [
    "Time Complexity: O(N), We do two linear traversals in our array\n",
    "\n",
    "Space Complexity: O(1)"
   ]
  },
  {
   "cell_type": "code",
   "execution_count": 6,
   "metadata": {},
   "outputs": [
    {
     "name": "stdout",
     "output_type": "stream",
     "text": [
      "Second smallest is 2\n",
      "Second largest is 6\n"
     ]
    }
   ],
   "source": [
    "def sec_el(arr):\n",
    "    n = len(arr)\n",
    "    if n == 0 and n== 1:\n",
    "        print(-1,-1)\n",
    "\n",
    "    small = float('inf')\n",
    "    second_small = float('inf')\n",
    "    large = float('-inf')\n",
    "    second_large = float('-inf')\n",
    "\n",
    "    for i in range(n):\n",
    "        small = min(small,arr[i])\n",
    "        large = max(large,arr[i])\n",
    "\n",
    "    for i in range(n):\n",
    "        if arr[i]< second_small and arr[i] != small:\n",
    "            second_small = arr[i]\n",
    "\n",
    "        if arr[i] > second_large and arr[i] != large:\n",
    "            second_large = arr[i]\n",
    "\n",
    "    print(\"Second smallest is\", second_small)\n",
    "    print(\"Second largest is\", second_large)\n",
    "\n",
    "\n",
    "\n",
    "if __name__ == '__main__':\n",
    "    arr = [1, 2, 4, 6, 7, 5]\n",
    "    n = len(arr)\n",
    "    sec_el(arr)\n"
   ]
  },
  {
   "cell_type": "markdown",
   "metadata": {},
   "source": [
    "optimal----\n",
    "trying single traversal this time"
   ]
  },
  {
   "cell_type": "markdown",
   "metadata": {},
   "source": [
    "Time Complexity: O(N), Single-pass solution\n",
    "\n",
    "Space Complexity: O(1)"
   ]
  },
  {
   "cell_type": "code",
   "execution_count": 8,
   "metadata": {},
   "outputs": [
    {
     "name": "stdout",
     "output_type": "stream",
     "text": [
      "Second smallest is 2\n"
     ]
    }
   ],
   "source": [
    "def secondSmallest(arr, n):\n",
    "    if (n < 2):\n",
    "        return -1\n",
    "    small = float('inf')\n",
    "    second_small = float('inf')\n",
    "    for i in range(n):\n",
    "        if (arr[i] < small):\n",
    "            second_small = small\n",
    "            small = arr[i]\n",
    "        elif (arr[i] < second_small and arr[i] != small):\n",
    "            second_small = arr[i]\n",
    "    return second_small\n",
    "\n",
    "\n",
    "if __name__ == \"__main__\":\n",
    "    arr = [1, 2, 4, 7, 7, 5]\n",
    "    n = len(arr)\n",
    "    sS = secondSmallest(arr, n)\n",
    "    print(\"Second smallest is\", sS)\n"
   ]
  },
  {
   "cell_type": "markdown",
   "metadata": {},
   "source": [
    "check if the array is sorted or not"
   ]
  },
  {
   "cell_type": "markdown",
   "metadata": {},
   "source": [
    "Time Complexity: O(N^2)\n",
    "\n",
    "Space Complexity: O(1)"
   ]
  },
  {
   "cell_type": "code",
   "execution_count": 11,
   "metadata": {},
   "outputs": [
    {
     "name": "stdout",
     "output_type": "stream",
     "text": [
      "True\n"
     ]
    }
   ],
   "source": [
    "def isSorted(arr):\n",
    "    n = len(arr)\n",
    "    for i in range (n):\n",
    "        for j in range(i+1):\n",
    "            if arr[i] < arr[j]:\n",
    "                return False\n",
    "    return True\n",
    "\n",
    "if __name__ == \"__main__\":\n",
    "    arr = [1, 2, 3, 4, 5]\n",
    "    ans = isSorted(arr)\n",
    "    if ans:\n",
    "        print(\"True\")\n",
    "    else:\n",
    "        print(\"False\")"
   ]
  },
  {
   "cell_type": "code",
   "execution_count": 3,
   "metadata": {},
   "outputs": [
    {
     "name": "stdout",
     "output_type": "stream",
     "text": [
      "True\n"
     ]
    }
   ],
   "source": [
    "def isSorted(arr):\n",
    "    n = len(arr)\n",
    "    for i in range (1,n):\n",
    "        if arr[i] < arr[i-1]:\n",
    "            print(arr[i-1])\n",
    "            return False\n",
    "        \n",
    "    return True\n",
    "\n",
    "if __name__ == \"__main__\":\n",
    "    arr = [1, 2, 3, 4, 5]\n",
    "    ans = isSorted(arr)\n",
    "    if ans:\n",
    "        print(\"True\")\n",
    "    else:\n",
    "        print(\"False\")"
   ]
  },
  {
   "cell_type": "markdown",
   "metadata": {},
   "source": [
    "Remove Duplicates from the soretd array"
   ]
  },
  {
   "cell_type": "markdown",
   "metadata": {},
   "source": [
    "Brute \n",
    "\n",
    "\n",
    "Adding an element to a set (st.add()) in Python typically takes O(log(n)) for each element due to underlying hash-based implementation.\n",
    "For an array of size n, this loop iterates n times.\n",
    "Time complexity for this step: O(n * log(n)).\n",
    "\n",
    "\n",
    "Time complexity: O(n*log(n))+O(n)\n",
    "\n",
    "Space Complexity: O(n) "
   ]
  },
  {
   "cell_type": "code",
   "execution_count": 2,
   "metadata": {},
   "outputs": [
    {
     "name": "stdout",
     "output_type": "stream",
     "text": [
      "The array after removing duplicate elements is \n",
      "1 2 3 "
     ]
    }
   ],
   "source": [
    "def removeDuplicates(arr):\n",
    "    n= len(arr)\n",
    "\n",
    "    st = set()\n",
    "\n",
    "    for i in range (n):\n",
    "        st.add(arr[i])\n",
    "    k = len(st)\n",
    "    j = 0\n",
    "    for x in st:\n",
    "        arr[j] = x\n",
    "        j += 1\n",
    "    return k\n",
    "    \n",
    "if __name__ == \"__main__\":\n",
    "    arr = [1, 1, 2, 2, 2, 3, 3]\n",
    "    k = removeDuplicates(arr)\n",
    "    print(\"The array after removing duplicate elements is \")\n",
    "    for i in range(k):\n",
    "        print(arr[i], end=\" \")"
   ]
  },
  {
   "cell_type": "markdown",
   "metadata": {},
   "source": [
    "optimal"
   ]
  },
  {
   "cell_type": "code",
   "execution_count": 12,
   "metadata": {},
   "outputs": [
    {
     "name": "stdout",
     "output_type": "stream",
     "text": [
      "2\n",
      "3\n",
      "The array after removing duplicate elements is \n",
      "1 2 3 "
     ]
    }
   ],
   "source": [
    "def removeDuplicates(arr):\n",
    "\n",
    "    i = 0\n",
    "    for j in range (1,len(arr)):\n",
    "        if arr[i] != arr[j]:\n",
    "            i += 1\n",
    "        \n",
    "            arr[i] = arr[j]\n",
    "\n",
    "            print(i+1)\n",
    "    return i+1\n",
    "    \n",
    "\n",
    "\n",
    "if __name__ == \"__main__\":\n",
    "    arr = [1, 1, 2, 2, 2, 3, 3]\n",
    "    k = removeDuplicates(arr)\n",
    "    print(\"The array after removing duplicate elements is \")\n",
    "    for i in range(k):\n",
    "        print(arr[i], end=\" \")"
   ]
  },
  {
   "cell_type": "markdown",
   "metadata": {},
   "source": [
    "Left rotate array by one "
   ]
  },
  {
   "cell_type": "markdown",
   "metadata": {},
   "source": [
    "Time Complexity: O(n), as we iterate through the array only once.\n",
    "\n",
    "Space Complexity: O(n) as we are using another array of size, same as the given array."
   ]
  },
  {
   "cell_type": "markdown",
   "metadata": {},
   "source": [
    "brute "
   ]
  },
  {
   "cell_type": "code",
   "execution_count": 16,
   "metadata": {},
   "outputs": [
    {
     "name": "stdout",
     "output_type": "stream",
     "text": [
      "2\n",
      "3\n",
      "4\n",
      "5\n",
      "2 3 4 5 1 \n"
     ]
    }
   ],
   "source": [
    "def rotate(arr):\n",
    "    n = len(arr)\n",
    "\n",
    "    temp = [0] * n\n",
    "    for i in range (1,n):\n",
    "        temp[i-1] = arr[i]\n",
    "        # temp[1 - 1] = arr[1]\n",
    "        print(temp[i-1])\n",
    "    temp[n-1] = arr[0]\n",
    "\n",
    "    for i in range (n):\n",
    "        print(temp[i], end=\" \")\n",
    "    print()\n",
    "\n",
    "n = 5\n",
    "arr = [1, 2, 3, 4, 5]\n",
    "rotate(arr)"
   ]
  },
  {
   "cell_type": "markdown",
   "metadata": {},
   "source": [
    "optimal"
   ]
  },
  {
   "cell_type": "markdown",
   "metadata": {},
   "source": [
    "Time Complexity: O(n), as we iterate through the array only once.\n",
    "\n",
    "Space Complexity: O(1) as no extra space is used"
   ]
  },
  {
   "cell_type": "code",
   "execution_count": 18,
   "metadata": {},
   "outputs": [
    {
     "name": "stdout",
     "output_type": "stream",
     "text": [
      "2 3 4 5 1 "
     ]
    }
   ],
   "source": [
    "def rotate(arr):\n",
    "    n = len(arr)\n",
    "    x = arr[0]\n",
    "\n",
    "    for i in range (0,n-1):\n",
    "        arr[i] = arr[i+1]\n",
    "    arr[n-1] = x\n",
    "    for i in range (n):\n",
    "        print(arr[i],end = \" \")\n",
    "\n",
    "n = 5\n",
    "arr = [1, 2, 3, 4, 5]\n",
    "rotate(arr)"
   ]
  },
  {
   "cell_type": "markdown",
   "metadata": {},
   "source": [
    "Rotate the array by k elements "
   ]
  },
  {
   "cell_type": "markdown",
   "metadata": {},
   "source": [
    "Time Complexity: \n",
    "O\n",
    "(\n",
    "n\n",
    ")\n",
    "O(n)\n",
    "Space Complexity: \n",
    "O\n",
    "(\n",
    "k\n",
    ")\n",
    "O(k), where \n",
    "k\n",
    "≤\n",
    "n\n",
    "k≤n."
   ]
  },
  {
   "cell_type": "code",
   "execution_count": 34,
   "metadata": {},
   "outputs": [
    {
     "name": "stdout",
     "output_type": "stream",
     "text": [
      "4\n",
      "3\n",
      "2\n",
      "[4, 5, 1, 2, 3]\n"
     ]
    }
   ],
   "source": [
    "def rotateToRight(arr,k):\n",
    "\n",
    "    n = len(arr)\n",
    "\n",
    "    \n",
    "\n",
    "    if (n == 0):\n",
    "        return\n",
    "    \n",
    "    k = k % n\n",
    "\n",
    "    if k > n:\n",
    "        return\n",
    "    \n",
    "\n",
    "    temp = arr[-k:]\n",
    "\n",
    "    for i in range (n-1,k-1,-1):\n",
    "        print(i)  # because of -1 \n",
    "        arr[i] = arr[i-k]\n",
    "\n",
    "        \n",
    "        \n",
    "\n",
    "    for i in range (k):\n",
    "        arr[i] = temp[i]\n",
    "\n",
    "    print(arr)\n",
    "\n",
    "arr = [1,2,3,4,5]\n",
    "k = 7\n",
    "rotateToRight(arr,k)"
   ]
  },
  {
   "cell_type": "markdown",
   "metadata": {},
   "source": [
    "with reversal method"
   ]
  },
  {
   "cell_type": "markdown",
   "metadata": {},
   "source": [
    "Time Complexity - O(N) where N is the number of elements in an array\n",
    "\n",
    "Space Complexity - O(1) since no extra space is required"
   ]
  },
  {
   "cell_type": "code",
   "execution_count": 42,
   "metadata": {},
   "outputs": [
    {
     "name": "stdout",
     "output_type": "stream",
     "text": [
      "After rotating the k elements to the right:\n",
      "[7, 6, 5, 4, 3, 2, 1]\n"
     ]
    }
   ],
   "source": [
    "def reverse(arr,start,end):\n",
    "\n",
    "    start = 0\n",
    "    end = len(arr)-1\n",
    "\n",
    "    while start <= end:\n",
    "        arr[start], arr[end] = arr[end],arr[start]\n",
    "        start += 1\n",
    "        end  -=1\n",
    "\n",
    "def rotate(arr,n,k):\n",
    "    k =3\n",
    "\n",
    "    k = k% n\n",
    "\n",
    "    reverse(arr,0,n-k-1)\n",
    "\n",
    "    reverse(arr,n-k,n-1)\n",
    "\n",
    "    reverse(arr,0,n-1)\n",
    "\n",
    "arr = [1, 2, 3, 4, 5, 6, 7]\n",
    "n = len(arr)\n",
    "k = 2\n",
    "rotate(arr,n,k)\n",
    "\n",
    "print(\"After rotating the k elements to the right:\")\n",
    "print(arr)\n"
   ]
  },
  {
   "cell_type": "markdown",
   "metadata": {},
   "source": [
    "Move zeros to end"
   ]
  },
  {
   "cell_type": "markdown",
   "metadata": {},
   "source": [
    "brute \n",
    "\n",
    "\n",
    "Time Complexity: O(N) + O(X) + O(N-X) ~ O(2*N), where N = total no. of elements,\n",
    "X = no. of non-zero elements, and N-X = total no. of zeros.\n",
    "Reason: O(N) for copying non-zero elements from the original to the temporary array. O(X) for again copying it back from the temporary to the original array. O(N-X) for filling zeros in the original array. So, the total time complexity will be O(2*N).\n",
    "\n",
    "Space Complexity: O(N), as we are using a temporary array to solve this problem and the maximum size of the array can be N in the worst case.\n",
    "Reason: The temporary array stores the non-zero elements. In the worst case, all the given array elements will be non-zero."
   ]
  },
  {
   "cell_type": "code",
   "execution_count": 44,
   "metadata": {},
   "outputs": [
    {
     "name": "stdout",
     "output_type": "stream",
     "text": [
      "1 2 3 2 4 5 1 0 0 0 \n"
     ]
    }
   ],
   "source": [
    "def moveZeros(n,arr):\n",
    "    temp = []\n",
    "\n",
    "    for i in range (n):\n",
    "\n",
    "        if arr[i] != 0:\n",
    "            temp.append(arr[i])\n",
    "\n",
    "    len_temp = len(temp)\n",
    "\n",
    "    for i in range(len_temp):\n",
    "        arr[i] = temp[i]\n",
    "\n",
    "    for i in range (len_temp,n):\n",
    "        arr[i] = 0\n",
    "\n",
    "    return arr\n",
    "\n",
    "arr = [1, 0, 2, 3, 2, 0, 0, 4, 5, 1]\n",
    "n = 10\n",
    "ans = moveZeros(n, arr)\n",
    "for it in ans:\n",
    "    print(it, end=\" \")\n",
    "print()\n",
    "\n"
   ]
  },
  {
   "cell_type": "markdown",
   "metadata": {},
   "source": [
    "optimal"
   ]
  },
  {
   "cell_type": "markdown",
   "metadata": {},
   "source": [
    "Time Complexity: O(N), N = size of the array.\n",
    "Reason: We have used 2 loops and using those loops, we are basically traversing the array once.\n",
    "\n",
    "Space Complexity: O(1) as we are not using any extra space to solve this problem."
   ]
  },
  {
   "cell_type": "code",
   "execution_count": null,
   "metadata": {},
   "outputs": [
    {
     "name": "stdout",
     "output_type": "stream",
     "text": [
      "1 2 3 2 4 5 1 0 0 0 \n"
     ]
    }
   ],
   "source": [
    "def moveZeros(n,arr):\n",
    "    j = -1\n",
    "\n",
    "    for i in range  (n):\n",
    "        if arr[i] == 0:\n",
    "            j = i\n",
    "            break\n",
    "\n",
    "    if j == -1:\n",
    "        return arr\n",
    "    \n",
    "    for i in range (j + 1,n):\n",
    "        if arr[i] != 0:\n",
    "            arr[i],arr[j] = arr[j],arr[i]\n",
    "\n",
    "            j += 1\n",
    "    return arr\n",
    "\n",
    "arr = [1, 0, 2, 3, 2, 0, 0, 4, 5, 1]\n",
    "n = 10\n",
    "ans = moveZeros(n, arr)\n",
    "for it in ans:\n",
    "    print(it, end=' ')\n",
    "print()"
   ]
  },
  {
   "cell_type": "markdown",
   "metadata": {},
   "source": [
    "Linear Search"
   ]
  },
  {
   "cell_type": "markdown",
   "metadata": {},
   "source": [
    "Time Complexity: O(n), where n is the length of the array.\n",
    "\n",
    "Space Complexity: O(1)"
   ]
  },
  {
   "cell_type": "code",
   "execution_count": 48,
   "metadata": {},
   "outputs": [
    {
     "name": "stdout",
     "output_type": "stream",
     "text": [
      "3\n"
     ]
    }
   ],
   "source": [
    "def linearSearch(arr):\n",
    "\n",
    "    num = 4\n",
    "    n = len(arr)\n",
    "\n",
    "    for i in range (n):\n",
    "        if arr[i] == num:\n",
    "            return i\n",
    "    return -1\n",
    "    \n",
    "arr = [1,2,3,4,5]\n",
    "val = linearSearch(arr)\n",
    "\n",
    "print(val)"
   ]
  },
  {
   "cell_type": "markdown",
   "metadata": {},
   "source": [
    "Find the Union"
   ]
  },
  {
   "cell_type": "code",
   "execution_count": null,
   "metadata": {},
   "outputs": [],
   "source": []
  }
 ],
 "metadata": {
  "kernelspec": {
   "display_name": "Python 3",
   "language": "python",
   "name": "python3"
  },
  "language_info": {
   "codemirror_mode": {
    "name": "ipython",
    "version": 3
   },
   "file_extension": ".py",
   "mimetype": "text/x-python",
   "name": "python",
   "nbconvert_exporter": "python",
   "pygments_lexer": "ipython3",
   "version": "3.9.6"
  }
 },
 "nbformat": 4,
 "nbformat_minor": 2
}
