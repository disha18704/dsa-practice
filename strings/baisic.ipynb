{
 "cells": [
  {
   "cell_type": "code",
   "execution_count": 4,
   "id": "64e6f1c0",
   "metadata": {},
   "outputs": [
    {
     "name": "stdout",
     "output_type": "stream",
     "text": [
      "1\n",
      "1\n",
      "0\n",
      "1\n",
      "0\n",
      "()()()\n",
      "1\n",
      "1\n",
      "0\n",
      "1\n",
      "0\n",
      "1\n",
      "2\n",
      "1\n",
      "0\n",
      "()()()()(())\n",
      "0\n",
      "0\n",
      "\n"
     ]
    }
   ],
   "source": [
    "def removeOuterParentheses(s):\n",
    "    result = []\n",
    "\n",
    "    depth = 0\n",
    "\n",
    "\n",
    "    for char in s:\n",
    "        if char==\"(\":\n",
    "            if depth > 0:\n",
    "                result.append(char)\n",
    "\n",
    "            depth += 1\n",
    "\n",
    "        else:\n",
    "            depth -= 1\n",
    "            print(depth)\n",
    "            if depth > 0:\n",
    "                result.append(char)\n",
    "\n",
    "    return \"\".join(result)\n",
    "\n",
    "print(removeOuterParentheses(\"(()())(())\"))          # Output: \"()()()\"\n",
    "print(removeOuterParentheses(\"(()())(())(()(()))\"))  # Output: \"()()()()(())\"\n",
    "print(removeOuterParentheses(\"()()\"))                # Output: \"\"\n",
    "\n"
   ]
  },
  {
   "cell_type": "markdown",
   "id": "a3949ea3",
   "metadata": {},
   "source": [
    "Reverse Words in a String"
   ]
  },
  {
   "cell_type": "markdown",
   "id": "e5fb7ae9",
   "metadata": {},
   "source": [
    "Example 1:\n",
    "Input: s=”this is an amazing program”\n",
    "Output: “program amazing an is this”"
   ]
  },
  {
   "cell_type": "code",
   "execution_count": 6,
   "id": "568b38ee",
   "metadata": {},
   "outputs": [
    {
     "name": "stdout",
     "output_type": "stream",
     "text": [
      "['the', 'sky', 'is', 'blue']\n",
      "blue is sky the\n",
      "['a', 'good', 'example']\n",
      "example good a\n"
     ]
    }
   ],
   "source": [
    "def reverseWords(s):\n",
    "    words = s.strip().split()\n",
    "    print(words)\n",
    "\n",
    "    n = len(words)\n",
    "\n",
    "    left = 0\n",
    "    right = n-1\n",
    "\n",
    "    while left < right:\n",
    "        words[left],words[right] = words[right],words[left]\n",
    "        left += 1\n",
    "        right -= 1\n",
    "\n",
    "    return \" \".join(words)\n",
    "\n",
    "\n",
    "print(reverseWords(\"the sky is blue\"))  \n",
    "print(reverseWords(\"a good example\"))       "
   ]
  },
  {
   "cell_type": "code",
   "execution_count": 18,
   "id": "7d402208",
   "metadata": {},
   "outputs": [
    {
     "data": {
      "text/plain": [
       "'3457'"
      ]
     },
     "execution_count": 18,
     "metadata": {},
     "output_type": "execute_result"
    }
   ],
   "source": [
    "def largestOddNumber(num):\n",
    "    for i in range(len(num)-1,-1,-1):\n",
    "        if int(num[i]) % 2 == 1:\n",
    "            return num[:i+1]\n",
    "        \n",
    "    return \"\"\n",
    "\n",
    "largestOddNumber(\"3457\")\n",
    "\n"
   ]
  },
  {
   "cell_type": "code",
   "execution_count": null,
   "id": "c95c3f19",
   "metadata": {},
   "outputs": [],
   "source": []
  }
 ],
 "metadata": {
  "kernelspec": {
   "display_name": "Python 3",
   "language": "python",
   "name": "python3"
  },
  "language_info": {
   "codemirror_mode": {
    "name": "ipython",
    "version": 3
   },
   "file_extension": ".py",
   "mimetype": "text/x-python",
   "name": "python",
   "nbconvert_exporter": "python",
   "pygments_lexer": "ipython3",
   "version": "3.9.6"
  }
 },
 "nbformat": 4,
 "nbformat_minor": 5
}
